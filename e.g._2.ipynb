{
  "nbformat": 4,
  "nbformat_minor": 0,
  "metadata": {
    "colab": {
      "name": "빅분기_실기_작업형2_예제.ipynb",
      "provenance": [],
      "collapsed_sections": [],
      "toc_visible": true,
      "mount_file_id": "1KSDoua7SlKu72PePSbeLUVPc39gRi2Um",
      "authorship_tag": "ABX9TyNOjI0F9WOR2JtkSGFuwsF3",
      "include_colab_link": true
    },
    "kernelspec": {
      "name": "python3",
      "display_name": "Python 3"
    },
    "language_info": {
      "name": "python"
    }
  },
  "cells": [
    {
      "cell_type": "markdown",
      "metadata": {
        "id": "view-in-github",
        "colab_type": "text"
      },
      "source": [
        "<a href=\"https://colab.research.google.com/github/jieun-dot/e.g./blob/main/e.g._2.ipynb\" target=\"_parent\"><img src=\"https://colab.research.google.com/assets/colab-badge.svg\" alt=\"Open In Colab\"/></a>"
      ]
    },
    {
      "cell_type": "code",
      "metadata": {
        "id": "FwvKYT0Vu3p_"
      },
      "source": [
        "import pandas as pd"
      ],
      "execution_count": 1,
      "outputs": []
    },
    {
      "cell_type": "code",
      "metadata": {
        "id": "91IWntBcvdZK"
      },
      "source": [
        "X_train = pd.read_csv('/content/drive/MyDrive/ex_data/X_train.csv', encoding='cp949')\n",
        "y_train = pd.read_csv('/content/drive/MyDrive/ex_data/y_train.csv',encoding='cp949')\n",
        "X_test = pd.read_csv('/content/drive/MyDrive/ex_data/X_test.csv',encoding='cp949')"
      ],
      "execution_count": 2,
      "outputs": []
    },
    {
      "cell_type": "code",
      "metadata": {
        "id": "cgUyY10CyMdC"
      },
      "source": [
        "train = pd.merge(X_train,y_train)"
      ],
      "execution_count": 3,
      "outputs": []
    },
    {
      "cell_type": "code",
      "metadata": {
        "colab": {
          "base_uri": "https://localhost:8080/",
          "height": 241
        },
        "id": "0tg6nPwj250-",
        "outputId": "cec13393-b366-4bed-9530-575ceb726b4b"
      },
      "source": [
        "train.head()"
      ],
      "execution_count": 4,
      "outputs": [
        {
          "output_type": "execute_result",
          "data": {
            "text/html": [
              "<div>\n",
              "<style scoped>\n",
              "    .dataframe tbody tr th:only-of-type {\n",
              "        vertical-align: middle;\n",
              "    }\n",
              "\n",
              "    .dataframe tbody tr th {\n",
              "        vertical-align: top;\n",
              "    }\n",
              "\n",
              "    .dataframe thead th {\n",
              "        text-align: right;\n",
              "    }\n",
              "</style>\n",
              "<table border=\"1\" class=\"dataframe\">\n",
              "  <thead>\n",
              "    <tr style=\"text-align: right;\">\n",
              "      <th></th>\n",
              "      <th>cust_id</th>\n",
              "      <th>총구매액</th>\n",
              "      <th>최대구매액</th>\n",
              "      <th>환불금액</th>\n",
              "      <th>주구매상품</th>\n",
              "      <th>주구매지점</th>\n",
              "      <th>내점일수</th>\n",
              "      <th>내점당구매건수</th>\n",
              "      <th>주말방문비율</th>\n",
              "      <th>구매주기</th>\n",
              "      <th>gender</th>\n",
              "    </tr>\n",
              "  </thead>\n",
              "  <tbody>\n",
              "    <tr>\n",
              "      <th>0</th>\n",
              "      <td>0</td>\n",
              "      <td>68282840</td>\n",
              "      <td>11264000</td>\n",
              "      <td>6860000.0</td>\n",
              "      <td>기타</td>\n",
              "      <td>강남점</td>\n",
              "      <td>19</td>\n",
              "      <td>3.894737</td>\n",
              "      <td>0.527027</td>\n",
              "      <td>17</td>\n",
              "      <td>0</td>\n",
              "    </tr>\n",
              "    <tr>\n",
              "      <th>1</th>\n",
              "      <td>1</td>\n",
              "      <td>2136000</td>\n",
              "      <td>2136000</td>\n",
              "      <td>300000.0</td>\n",
              "      <td>스포츠</td>\n",
              "      <td>잠실점</td>\n",
              "      <td>2</td>\n",
              "      <td>1.500000</td>\n",
              "      <td>0.000000</td>\n",
              "      <td>1</td>\n",
              "      <td>0</td>\n",
              "    </tr>\n",
              "    <tr>\n",
              "      <th>2</th>\n",
              "      <td>2</td>\n",
              "      <td>3197000</td>\n",
              "      <td>1639000</td>\n",
              "      <td>NaN</td>\n",
              "      <td>남성 캐주얼</td>\n",
              "      <td>관악점</td>\n",
              "      <td>2</td>\n",
              "      <td>2.000000</td>\n",
              "      <td>0.000000</td>\n",
              "      <td>1</td>\n",
              "      <td>1</td>\n",
              "    </tr>\n",
              "    <tr>\n",
              "      <th>3</th>\n",
              "      <td>3</td>\n",
              "      <td>16077620</td>\n",
              "      <td>4935000</td>\n",
              "      <td>NaN</td>\n",
              "      <td>기타</td>\n",
              "      <td>광주점</td>\n",
              "      <td>18</td>\n",
              "      <td>2.444444</td>\n",
              "      <td>0.318182</td>\n",
              "      <td>16</td>\n",
              "      <td>1</td>\n",
              "    </tr>\n",
              "    <tr>\n",
              "      <th>4</th>\n",
              "      <td>4</td>\n",
              "      <td>29050000</td>\n",
              "      <td>24000000</td>\n",
              "      <td>NaN</td>\n",
              "      <td>보석</td>\n",
              "      <td>본  점</td>\n",
              "      <td>2</td>\n",
              "      <td>1.500000</td>\n",
              "      <td>0.000000</td>\n",
              "      <td>85</td>\n",
              "      <td>0</td>\n",
              "    </tr>\n",
              "  </tbody>\n",
              "</table>\n",
              "</div>"
            ],
            "text/plain": [
              "   cust_id      총구매액     최대구매액       환불금액  ...   내점당구매건수    주말방문비율  구매주기  gender\n",
              "0        0  68282840  11264000  6860000.0  ...  3.894737  0.527027    17       0\n",
              "1        1   2136000   2136000   300000.0  ...  1.500000  0.000000     1       0\n",
              "2        2   3197000   1639000        NaN  ...  2.000000  0.000000     1       1\n",
              "3        3  16077620   4935000        NaN  ...  2.444444  0.318182    16       1\n",
              "4        4  29050000  24000000        NaN  ...  1.500000  0.000000    85       0\n",
              "\n",
              "[5 rows x 11 columns]"
            ]
          },
          "metadata": {
            "tags": []
          },
          "execution_count": 4
        }
      ]
    },
    {
      "cell_type": "code",
      "metadata": {
        "colab": {
          "base_uri": "https://localhost:8080/",
          "height": 337
        },
        "id": "7xGCzwvD27Cg",
        "outputId": "7731ec1e-1498-4831-e0e4-7b4037455850"
      },
      "source": [
        "train.describe()"
      ],
      "execution_count": 6,
      "outputs": [
        {
          "output_type": "execute_result",
          "data": {
            "text/html": [
              "<div>\n",
              "<style scoped>\n",
              "    .dataframe tbody tr th:only-of-type {\n",
              "        vertical-align: middle;\n",
              "    }\n",
              "\n",
              "    .dataframe tbody tr th {\n",
              "        vertical-align: top;\n",
              "    }\n",
              "\n",
              "    .dataframe thead th {\n",
              "        text-align: right;\n",
              "    }\n",
              "</style>\n",
              "<table border=\"1\" class=\"dataframe\">\n",
              "  <thead>\n",
              "    <tr style=\"text-align: right;\">\n",
              "      <th></th>\n",
              "      <th>cust_id</th>\n",
              "      <th>총구매액</th>\n",
              "      <th>최대구매액</th>\n",
              "      <th>환불금액</th>\n",
              "      <th>내점일수</th>\n",
              "      <th>내점당구매건수</th>\n",
              "      <th>주말방문비율</th>\n",
              "      <th>구매주기</th>\n",
              "      <th>gender</th>\n",
              "    </tr>\n",
              "  </thead>\n",
              "  <tbody>\n",
              "    <tr>\n",
              "      <th>count</th>\n",
              "      <td>3500.000000</td>\n",
              "      <td>3.500000e+03</td>\n",
              "      <td>3.500000e+03</td>\n",
              "      <td>1.205000e+03</td>\n",
              "      <td>3500.000000</td>\n",
              "      <td>3500.000000</td>\n",
              "      <td>3500.000000</td>\n",
              "      <td>3500.000000</td>\n",
              "      <td>3500.000000</td>\n",
              "    </tr>\n",
              "    <tr>\n",
              "      <th>mean</th>\n",
              "      <td>1749.500000</td>\n",
              "      <td>9.191925e+07</td>\n",
              "      <td>1.966424e+07</td>\n",
              "      <td>2.407822e+07</td>\n",
              "      <td>19.253714</td>\n",
              "      <td>2.834963</td>\n",
              "      <td>0.307246</td>\n",
              "      <td>20.958286</td>\n",
              "      <td>0.376000</td>\n",
              "    </tr>\n",
              "    <tr>\n",
              "      <th>std</th>\n",
              "      <td>1010.507298</td>\n",
              "      <td>1.635065e+08</td>\n",
              "      <td>3.199235e+07</td>\n",
              "      <td>4.746453e+07</td>\n",
              "      <td>27.174942</td>\n",
              "      <td>1.912368</td>\n",
              "      <td>0.289752</td>\n",
              "      <td>24.748682</td>\n",
              "      <td>0.484449</td>\n",
              "    </tr>\n",
              "    <tr>\n",
              "      <th>min</th>\n",
              "      <td>0.000000</td>\n",
              "      <td>-5.242152e+07</td>\n",
              "      <td>-2.992000e+06</td>\n",
              "      <td>5.600000e+03</td>\n",
              "      <td>1.000000</td>\n",
              "      <td>1.000000</td>\n",
              "      <td>0.000000</td>\n",
              "      <td>0.000000</td>\n",
              "      <td>0.000000</td>\n",
              "    </tr>\n",
              "    <tr>\n",
              "      <th>25%</th>\n",
              "      <td>874.750000</td>\n",
              "      <td>4.747050e+06</td>\n",
              "      <td>2.875000e+06</td>\n",
              "      <td>2.259000e+06</td>\n",
              "      <td>2.000000</td>\n",
              "      <td>1.666667</td>\n",
              "      <td>0.027291</td>\n",
              "      <td>4.000000</td>\n",
              "      <td>0.000000</td>\n",
              "    </tr>\n",
              "    <tr>\n",
              "      <th>50%</th>\n",
              "      <td>1749.500000</td>\n",
              "      <td>2.822270e+07</td>\n",
              "      <td>9.837000e+06</td>\n",
              "      <td>7.392000e+06</td>\n",
              "      <td>8.000000</td>\n",
              "      <td>2.333333</td>\n",
              "      <td>0.256410</td>\n",
              "      <td>13.000000</td>\n",
              "      <td>0.000000</td>\n",
              "    </tr>\n",
              "    <tr>\n",
              "      <th>75%</th>\n",
              "      <td>2624.250000</td>\n",
              "      <td>1.065079e+08</td>\n",
              "      <td>2.296250e+07</td>\n",
              "      <td>2.412000e+07</td>\n",
              "      <td>25.000000</td>\n",
              "      <td>3.375000</td>\n",
              "      <td>0.448980</td>\n",
              "      <td>28.000000</td>\n",
              "      <td>1.000000</td>\n",
              "    </tr>\n",
              "    <tr>\n",
              "      <th>max</th>\n",
              "      <td>3499.000000</td>\n",
              "      <td>2.323180e+09</td>\n",
              "      <td>7.066290e+08</td>\n",
              "      <td>5.637530e+08</td>\n",
              "      <td>285.000000</td>\n",
              "      <td>22.083333</td>\n",
              "      <td>1.000000</td>\n",
              "      <td>166.000000</td>\n",
              "      <td>1.000000</td>\n",
              "    </tr>\n",
              "  </tbody>\n",
              "</table>\n",
              "</div>"
            ],
            "text/plain": [
              "           cust_id          총구매액  ...         구매주기       gender\n",
              "count  3500.000000  3.500000e+03  ...  3500.000000  3500.000000\n",
              "mean   1749.500000  9.191925e+07  ...    20.958286     0.376000\n",
              "std    1010.507298  1.635065e+08  ...    24.748682     0.484449\n",
              "min       0.000000 -5.242152e+07  ...     0.000000     0.000000\n",
              "25%     874.750000  4.747050e+06  ...     4.000000     0.000000\n",
              "50%    1749.500000  2.822270e+07  ...    13.000000     0.000000\n",
              "75%    2624.250000  1.065079e+08  ...    28.000000     1.000000\n",
              "max    3499.000000  2.323180e+09  ...   166.000000     1.000000\n",
              "\n",
              "[8 rows x 9 columns]"
            ]
          },
          "metadata": {
            "tags": []
          },
          "execution_count": 6
        }
      ]
    },
    {
      "cell_type": "code",
      "metadata": {
        "id": "Vdfl9SKD3T8w"
      },
      "source": [
        "train['환불금액'] = train['환불금액'].fillna(0)"
      ],
      "execution_count": 7,
      "outputs": []
    },
    {
      "cell_type": "code",
      "metadata": {
        "colab": {
          "base_uri": "https://localhost:8080/"
        },
        "id": "SZQDRNDZ3ioW",
        "outputId": "1e8af5f9-2087-474f-8415-7c130ada9ae9"
      },
      "source": [
        "train['환불금액'].describe()"
      ],
      "execution_count": 8,
      "outputs": [
        {
          "output_type": "execute_result",
          "data": {
            "text/plain": [
              "count    3.500000e+03\n",
              "mean     8.289786e+06\n",
              "std      3.010204e+07\n",
              "min      0.000000e+00\n",
              "25%      0.000000e+00\n",
              "50%      0.000000e+00\n",
              "75%      2.642250e+06\n",
              "max      5.637530e+08\n",
              "Name: 환불금액, dtype: float64"
            ]
          },
          "metadata": {
            "tags": []
          },
          "execution_count": 8
        }
      ]
    },
    {
      "cell_type": "code",
      "metadata": {
        "id": "Bwn1R_cv72xh"
      },
      "source": [
        "train['총구매액'] = train.총구매액.apply(lambda x: -x if x < 0 else x)\n",
        "train['최대구매액'] = train.최대구매액.apply(lambda x: -x if x < 0 else x)"
      ],
      "execution_count": 9,
      "outputs": []
    },
    {
      "cell_type": "code",
      "metadata": {
        "colab": {
          "base_uri": "https://localhost:8080/",
          "height": 337
        },
        "id": "8CXnCV8G7-_t",
        "outputId": "fee18a42-18d3-4b1d-8507-077910b19fb7"
      },
      "source": [
        "train.describe()"
      ],
      "execution_count": 10,
      "outputs": [
        {
          "output_type": "execute_result",
          "data": {
            "text/html": [
              "<div>\n",
              "<style scoped>\n",
              "    .dataframe tbody tr th:only-of-type {\n",
              "        vertical-align: middle;\n",
              "    }\n",
              "\n",
              "    .dataframe tbody tr th {\n",
              "        vertical-align: top;\n",
              "    }\n",
              "\n",
              "    .dataframe thead th {\n",
              "        text-align: right;\n",
              "    }\n",
              "</style>\n",
              "<table border=\"1\" class=\"dataframe\">\n",
              "  <thead>\n",
              "    <tr style=\"text-align: right;\">\n",
              "      <th></th>\n",
              "      <th>cust_id</th>\n",
              "      <th>총구매액</th>\n",
              "      <th>최대구매액</th>\n",
              "      <th>환불금액</th>\n",
              "      <th>내점일수</th>\n",
              "      <th>내점당구매건수</th>\n",
              "      <th>주말방문비율</th>\n",
              "      <th>구매주기</th>\n",
              "      <th>gender</th>\n",
              "    </tr>\n",
              "  </thead>\n",
              "  <tbody>\n",
              "    <tr>\n",
              "      <th>count</th>\n",
              "      <td>3500.000000</td>\n",
              "      <td>3.500000e+03</td>\n",
              "      <td>3.500000e+03</td>\n",
              "      <td>3.500000e+03</td>\n",
              "      <td>3500.000000</td>\n",
              "      <td>3500.000000</td>\n",
              "      <td>3500.000000</td>\n",
              "      <td>3500.000000</td>\n",
              "      <td>3500.000000</td>\n",
              "    </tr>\n",
              "    <tr>\n",
              "      <th>mean</th>\n",
              "      <td>1749.500000</td>\n",
              "      <td>9.196172e+07</td>\n",
              "      <td>1.966595e+07</td>\n",
              "      <td>8.289786e+06</td>\n",
              "      <td>19.253714</td>\n",
              "      <td>2.834963</td>\n",
              "      <td>0.307246</td>\n",
              "      <td>20.958286</td>\n",
              "      <td>0.376000</td>\n",
              "    </tr>\n",
              "    <tr>\n",
              "      <th>std</th>\n",
              "      <td>1010.507298</td>\n",
              "      <td>1.634826e+08</td>\n",
              "      <td>3.199130e+07</td>\n",
              "      <td>3.010204e+07</td>\n",
              "      <td>27.174942</td>\n",
              "      <td>1.912368</td>\n",
              "      <td>0.289752</td>\n",
              "      <td>24.748682</td>\n",
              "      <td>0.484449</td>\n",
              "    </tr>\n",
              "    <tr>\n",
              "      <th>min</th>\n",
              "      <td>0.000000</td>\n",
              "      <td>0.000000e+00</td>\n",
              "      <td>5.000000e+03</td>\n",
              "      <td>0.000000e+00</td>\n",
              "      <td>1.000000</td>\n",
              "      <td>1.000000</td>\n",
              "      <td>0.000000</td>\n",
              "      <td>0.000000</td>\n",
              "      <td>0.000000</td>\n",
              "    </tr>\n",
              "    <tr>\n",
              "      <th>25%</th>\n",
              "      <td>874.750000</td>\n",
              "      <td>4.765000e+06</td>\n",
              "      <td>2.875000e+06</td>\n",
              "      <td>0.000000e+00</td>\n",
              "      <td>2.000000</td>\n",
              "      <td>1.666667</td>\n",
              "      <td>0.027291</td>\n",
              "      <td>4.000000</td>\n",
              "      <td>0.000000</td>\n",
              "    </tr>\n",
              "    <tr>\n",
              "      <th>50%</th>\n",
              "      <td>1749.500000</td>\n",
              "      <td>2.827170e+07</td>\n",
              "      <td>9.837000e+06</td>\n",
              "      <td>0.000000e+00</td>\n",
              "      <td>8.000000</td>\n",
              "      <td>2.333333</td>\n",
              "      <td>0.256410</td>\n",
              "      <td>13.000000</td>\n",
              "      <td>0.000000</td>\n",
              "    </tr>\n",
              "    <tr>\n",
              "      <th>75%</th>\n",
              "      <td>2624.250000</td>\n",
              "      <td>1.065079e+08</td>\n",
              "      <td>2.296250e+07</td>\n",
              "      <td>2.642250e+06</td>\n",
              "      <td>25.000000</td>\n",
              "      <td>3.375000</td>\n",
              "      <td>0.448980</td>\n",
              "      <td>28.000000</td>\n",
              "      <td>1.000000</td>\n",
              "    </tr>\n",
              "    <tr>\n",
              "      <th>max</th>\n",
              "      <td>3499.000000</td>\n",
              "      <td>2.323180e+09</td>\n",
              "      <td>7.066290e+08</td>\n",
              "      <td>5.637530e+08</td>\n",
              "      <td>285.000000</td>\n",
              "      <td>22.083333</td>\n",
              "      <td>1.000000</td>\n",
              "      <td>166.000000</td>\n",
              "      <td>1.000000</td>\n",
              "    </tr>\n",
              "  </tbody>\n",
              "</table>\n",
              "</div>"
            ],
            "text/plain": [
              "           cust_id          총구매액  ...         구매주기       gender\n",
              "count  3500.000000  3.500000e+03  ...  3500.000000  3500.000000\n",
              "mean   1749.500000  9.196172e+07  ...    20.958286     0.376000\n",
              "std    1010.507298  1.634826e+08  ...    24.748682     0.484449\n",
              "min       0.000000  0.000000e+00  ...     0.000000     0.000000\n",
              "25%     874.750000  4.765000e+06  ...     4.000000     0.000000\n",
              "50%    1749.500000  2.827170e+07  ...    13.000000     0.000000\n",
              "75%    2624.250000  1.065079e+08  ...    28.000000     1.000000\n",
              "max    3499.000000  2.323180e+09  ...   166.000000     1.000000\n",
              "\n",
              "[8 rows x 9 columns]"
            ]
          },
          "metadata": {
            "tags": []
          },
          "execution_count": 10
        }
      ]
    },
    {
      "cell_type": "code",
      "metadata": {
        "colab": {
          "base_uri": "https://localhost:8080/",
          "height": 317
        },
        "id": "BJ8PYOqaPu0A",
        "outputId": "e46dd2d4-c54a-43cf-a583-48aa03507c0f"
      },
      "source": [
        "X_test.describe()"
      ],
      "execution_count": 11,
      "outputs": [
        {
          "output_type": "execute_result",
          "data": {
            "text/html": [
              "<div>\n",
              "<style scoped>\n",
              "    .dataframe tbody tr th:only-of-type {\n",
              "        vertical-align: middle;\n",
              "    }\n",
              "\n",
              "    .dataframe tbody tr th {\n",
              "        vertical-align: top;\n",
              "    }\n",
              "\n",
              "    .dataframe thead th {\n",
              "        text-align: right;\n",
              "    }\n",
              "</style>\n",
              "<table border=\"1\" class=\"dataframe\">\n",
              "  <thead>\n",
              "    <tr style=\"text-align: right;\">\n",
              "      <th></th>\n",
              "      <th>cust_id</th>\n",
              "      <th>총구매액</th>\n",
              "      <th>최대구매액</th>\n",
              "      <th>환불금액</th>\n",
              "      <th>내점일수</th>\n",
              "      <th>내점당구매건수</th>\n",
              "      <th>주말방문비율</th>\n",
              "      <th>구매주기</th>\n",
              "    </tr>\n",
              "  </thead>\n",
              "  <tbody>\n",
              "    <tr>\n",
              "      <th>count</th>\n",
              "      <td>2482.000000</td>\n",
              "      <td>2.482000e+03</td>\n",
              "      <td>2.482000e+03</td>\n",
              "      <td>8.710000e+02</td>\n",
              "      <td>2482.000000</td>\n",
              "      <td>2482.000000</td>\n",
              "      <td>2482.000000</td>\n",
              "      <td>2482.000000</td>\n",
              "    </tr>\n",
              "    <tr>\n",
              "      <th>mean</th>\n",
              "      <td>4740.500000</td>\n",
              "      <td>1.010275e+08</td>\n",
              "      <td>2.177048e+07</td>\n",
              "      <td>2.554716e+07</td>\n",
              "      <td>19.516922</td>\n",
              "      <td>2.819388</td>\n",
              "      <td>0.293812</td>\n",
              "      <td>20.286060</td>\n",
              "    </tr>\n",
              "    <tr>\n",
              "      <th>std</th>\n",
              "      <td>716.636007</td>\n",
              "      <td>1.732132e+08</td>\n",
              "      <td>3.504919e+07</td>\n",
              "      <td>5.944074e+07</td>\n",
              "      <td>25.973972</td>\n",
              "      <td>1.754550</td>\n",
              "      <td>0.282600</td>\n",
              "      <td>24.108756</td>\n",
              "    </tr>\n",
              "    <tr>\n",
              "      <th>min</th>\n",
              "      <td>3500.000000</td>\n",
              "      <td>-3.744000e+07</td>\n",
              "      <td>-3.744000e+07</td>\n",
              "      <td>1.000000e+04</td>\n",
              "      <td>1.000000</td>\n",
              "      <td>1.000000</td>\n",
              "      <td>0.000000</td>\n",
              "      <td>0.000000</td>\n",
              "    </tr>\n",
              "    <tr>\n",
              "      <th>25%</th>\n",
              "      <td>4120.250000</td>\n",
              "      <td>5.076868e+06</td>\n",
              "      <td>2.884350e+06</td>\n",
              "      <td>2.414000e+06</td>\n",
              "      <td>2.000000</td>\n",
              "      <td>1.750000</td>\n",
              "      <td>0.023456</td>\n",
              "      <td>4.000000</td>\n",
              "    </tr>\n",
              "    <tr>\n",
              "      <th>50%</th>\n",
              "      <td>4740.500000</td>\n",
              "      <td>3.051686e+07</td>\n",
              "      <td>1.075250e+07</td>\n",
              "      <td>8.100000e+06</td>\n",
              "      <td>9.000000</td>\n",
              "      <td>2.430952</td>\n",
              "      <td>0.250000</td>\n",
              "      <td>13.000000</td>\n",
              "    </tr>\n",
              "    <tr>\n",
              "      <th>75%</th>\n",
              "      <td>5360.750000</td>\n",
              "      <td>1.264255e+08</td>\n",
              "      <td>2.627700e+07</td>\n",
              "      <td>2.228090e+07</td>\n",
              "      <td>26.750000</td>\n",
              "      <td>3.375000</td>\n",
              "      <td>0.423566</td>\n",
              "      <td>27.000000</td>\n",
              "    </tr>\n",
              "    <tr>\n",
              "      <th>max</th>\n",
              "      <td>5981.000000</td>\n",
              "      <td>2.861238e+09</td>\n",
              "      <td>5.932250e+08</td>\n",
              "      <td>8.715144e+08</td>\n",
              "      <td>222.000000</td>\n",
              "      <td>15.875000</td>\n",
              "      <td>1.000000</td>\n",
              "      <td>177.000000</td>\n",
              "    </tr>\n",
              "  </tbody>\n",
              "</table>\n",
              "</div>"
            ],
            "text/plain": [
              "           cust_id          총구매액  ...       주말방문비율         구매주기\n",
              "count  2482.000000  2.482000e+03  ...  2482.000000  2482.000000\n",
              "mean   4740.500000  1.010275e+08  ...     0.293812    20.286060\n",
              "std     716.636007  1.732132e+08  ...     0.282600    24.108756\n",
              "min    3500.000000 -3.744000e+07  ...     0.000000     0.000000\n",
              "25%    4120.250000  5.076868e+06  ...     0.023456     4.000000\n",
              "50%    4740.500000  3.051686e+07  ...     0.250000    13.000000\n",
              "75%    5360.750000  1.264255e+08  ...     0.423566    27.000000\n",
              "max    5981.000000  2.861238e+09  ...     1.000000   177.000000\n",
              "\n",
              "[8 rows x 8 columns]"
            ]
          },
          "metadata": {
            "tags": []
          },
          "execution_count": 11
        }
      ]
    },
    {
      "cell_type": "code",
      "metadata": {
        "id": "Atx_nbtYP1Vg"
      },
      "source": [
        "X_test['환불금액'] = X_test['환불금액'].fillna(0)\n",
        "X_test['총구매액'] = X_test.총구매액.apply(lambda x: -x if x < 0 else x)\n",
        "X_test['최대구매액'] = X_test.최대구매액.apply(lambda x: -x if x < 0 else x)"
      ],
      "execution_count": 12,
      "outputs": []
    },
    {
      "cell_type": "code",
      "metadata": {
        "colab": {
          "base_uri": "https://localhost:8080/",
          "height": 317
        },
        "id": "cdsQ_00nQEZw",
        "outputId": "13058fd8-d346-4425-b11c-e4cf54f5a940"
      },
      "source": [
        "X_test.describe()"
      ],
      "execution_count": 13,
      "outputs": [
        {
          "output_type": "execute_result",
          "data": {
            "text/html": [
              "<div>\n",
              "<style scoped>\n",
              "    .dataframe tbody tr th:only-of-type {\n",
              "        vertical-align: middle;\n",
              "    }\n",
              "\n",
              "    .dataframe tbody tr th {\n",
              "        vertical-align: top;\n",
              "    }\n",
              "\n",
              "    .dataframe thead th {\n",
              "        text-align: right;\n",
              "    }\n",
              "</style>\n",
              "<table border=\"1\" class=\"dataframe\">\n",
              "  <thead>\n",
              "    <tr style=\"text-align: right;\">\n",
              "      <th></th>\n",
              "      <th>cust_id</th>\n",
              "      <th>총구매액</th>\n",
              "      <th>최대구매액</th>\n",
              "      <th>환불금액</th>\n",
              "      <th>내점일수</th>\n",
              "      <th>내점당구매건수</th>\n",
              "      <th>주말방문비율</th>\n",
              "      <th>구매주기</th>\n",
              "    </tr>\n",
              "  </thead>\n",
              "  <tbody>\n",
              "    <tr>\n",
              "      <th>count</th>\n",
              "      <td>2482.000000</td>\n",
              "      <td>2.482000e+03</td>\n",
              "      <td>2.482000e+03</td>\n",
              "      <td>2.482000e+03</td>\n",
              "      <td>2482.000000</td>\n",
              "      <td>2482.000000</td>\n",
              "      <td>2482.000000</td>\n",
              "      <td>2482.000000</td>\n",
              "    </tr>\n",
              "    <tr>\n",
              "      <th>mean</th>\n",
              "      <td>4740.500000</td>\n",
              "      <td>1.010578e+08</td>\n",
              "      <td>2.180077e+07</td>\n",
              "      <td>8.965179e+06</td>\n",
              "      <td>19.516922</td>\n",
              "      <td>2.819388</td>\n",
              "      <td>0.293812</td>\n",
              "      <td>20.286060</td>\n",
              "    </tr>\n",
              "    <tr>\n",
              "      <th>std</th>\n",
              "      <td>716.636007</td>\n",
              "      <td>1.731955e+08</td>\n",
              "      <td>3.503035e+07</td>\n",
              "      <td>3.725172e+07</td>\n",
              "      <td>25.973972</td>\n",
              "      <td>1.754550</td>\n",
              "      <td>0.282600</td>\n",
              "      <td>24.108756</td>\n",
              "    </tr>\n",
              "    <tr>\n",
              "      <th>min</th>\n",
              "      <td>3500.000000</td>\n",
              "      <td>0.000000e+00</td>\n",
              "      <td>5.500000e+03</td>\n",
              "      <td>0.000000e+00</td>\n",
              "      <td>1.000000</td>\n",
              "      <td>1.000000</td>\n",
              "      <td>0.000000</td>\n",
              "      <td>0.000000</td>\n",
              "    </tr>\n",
              "    <tr>\n",
              "      <th>25%</th>\n",
              "      <td>4120.250000</td>\n",
              "      <td>5.086102e+06</td>\n",
              "      <td>2.898050e+06</td>\n",
              "      <td>0.000000e+00</td>\n",
              "      <td>2.000000</td>\n",
              "      <td>1.750000</td>\n",
              "      <td>0.023456</td>\n",
              "      <td>4.000000</td>\n",
              "    </tr>\n",
              "    <tr>\n",
              "      <th>50%</th>\n",
              "      <td>4740.500000</td>\n",
              "      <td>3.067452e+07</td>\n",
              "      <td>1.076550e+07</td>\n",
              "      <td>0.000000e+00</td>\n",
              "      <td>9.000000</td>\n",
              "      <td>2.430952</td>\n",
              "      <td>0.250000</td>\n",
              "      <td>13.000000</td>\n",
              "    </tr>\n",
              "    <tr>\n",
              "      <th>75%</th>\n",
              "      <td>5360.750000</td>\n",
              "      <td>1.264255e+08</td>\n",
              "      <td>2.631375e+07</td>\n",
              "      <td>2.974250e+06</td>\n",
              "      <td>26.750000</td>\n",
              "      <td>3.375000</td>\n",
              "      <td>0.423566</td>\n",
              "      <td>27.000000</td>\n",
              "    </tr>\n",
              "    <tr>\n",
              "      <th>max</th>\n",
              "      <td>5981.000000</td>\n",
              "      <td>2.861238e+09</td>\n",
              "      <td>5.932250e+08</td>\n",
              "      <td>8.715144e+08</td>\n",
              "      <td>222.000000</td>\n",
              "      <td>15.875000</td>\n",
              "      <td>1.000000</td>\n",
              "      <td>177.000000</td>\n",
              "    </tr>\n",
              "  </tbody>\n",
              "</table>\n",
              "</div>"
            ],
            "text/plain": [
              "           cust_id          총구매액  ...       주말방문비율         구매주기\n",
              "count  2482.000000  2.482000e+03  ...  2482.000000  2482.000000\n",
              "mean   4740.500000  1.010578e+08  ...     0.293812    20.286060\n",
              "std     716.636007  1.731955e+08  ...     0.282600    24.108756\n",
              "min    3500.000000  0.000000e+00  ...     0.000000     0.000000\n",
              "25%    4120.250000  5.086102e+06  ...     0.023456     4.000000\n",
              "50%    4740.500000  3.067452e+07  ...     0.250000    13.000000\n",
              "75%    5360.750000  1.264255e+08  ...     0.423566    27.000000\n",
              "max    5981.000000  2.861238e+09  ...     1.000000   177.000000\n",
              "\n",
              "[8 rows x 8 columns]"
            ]
          },
          "metadata": {
            "tags": []
          },
          "execution_count": 13
        }
      ]
    },
    {
      "cell_type": "code",
      "metadata": {
        "colab": {
          "base_uri": "https://localhost:8080/"
        },
        "id": "mykuS9hr3lyv",
        "outputId": "6cc10da5-d55c-423d-d7a8-daed7b0a4d99"
      },
      "source": [
        "train['주구매상품'].value_counts()"
      ],
      "execution_count": 14,
      "outputs": [
        {
          "output_type": "execute_result",
          "data": {
            "text/plain": [
              "기타        595\n",
              "가공식품      546\n",
              "농산물       339\n",
              "화장품       264\n",
              "시티웨어      213\n",
              "디자이너      193\n",
              "수산품       153\n",
              "캐주얼       101\n",
              "명품        100\n",
              "섬유잡화       98\n",
              "골프         82\n",
              "스포츠        69\n",
              "일용잡화       64\n",
              "모피/피혁      57\n",
              "육류         57\n",
              "남성 캐주얼     55\n",
              "구두         54\n",
              "건강식품       47\n",
              "차/커피       44\n",
              "아동         40\n",
              "피혁잡화       40\n",
              "축산가공       35\n",
              "주방용품       32\n",
              "셔츠         30\n",
              "젓갈/반찬      29\n",
              "주방가전       26\n",
              "트래디셔널      23\n",
              "남성정장       22\n",
              "생활잡화       15\n",
              "주류         14\n",
              "가구         10\n",
              "커리어         9\n",
              "란제리/내의      8\n",
              "대형가전        8\n",
              "식기          7\n",
              "액세서리        5\n",
              "침구/수예       4\n",
              "보석          3\n",
              "통신/컴퓨터      3\n",
              "소형가전        2\n",
              "악기          2\n",
              "남성 트랜디      2\n",
              "Name: 주구매상품, dtype: int64"
            ]
          },
          "metadata": {
            "tags": []
          },
          "execution_count": 14
        }
      ]
    },
    {
      "cell_type": "code",
      "metadata": {
        "colab": {
          "base_uri": "https://localhost:8080/"
        },
        "id": "GRpBNLthQSCe",
        "outputId": "80f7dcae-afe0-45aa-f656-d433275f9b72"
      },
      "source": [
        "X_test['주구매상품'].value_counts()"
      ],
      "execution_count": 15,
      "outputs": [
        {
          "output_type": "execute_result",
          "data": {
            "text/plain": [
              "기타        465\n",
              "가공식품      395\n",
              "농산물       235\n",
              "화장품       177\n",
              "시티웨어      168\n",
              "디자이너      123\n",
              "수산품        86\n",
              "섬유잡화       72\n",
              "캐주얼        65\n",
              "명품         60\n",
              "차/커피       55\n",
              "모피/피혁      47\n",
              "골프         47\n",
              "남성 캐주얼     46\n",
              "구두         44\n",
              "스포츠        43\n",
              "육류         38\n",
              "건강식품       36\n",
              "일용잡화       30\n",
              "축산가공       28\n",
              "남성정장       25\n",
              "셔츠         25\n",
              "아동         24\n",
              "주방용품       21\n",
              "젓갈/반찬      18\n",
              "피혁잡화       16\n",
              "주방가전       10\n",
              "란제리/내의     10\n",
              "주류         10\n",
              "트래디셔널       9\n",
              "식기          8\n",
              "생활잡화        8\n",
              "가구          7\n",
              "액세서리        7\n",
              "커리어         6\n",
              "대형가전        6\n",
              "남성 트랜디      4\n",
              "침구/수예       3\n",
              "통신/컴퓨터      3\n",
              "악기          1\n",
              "보석          1\n",
              "Name: 주구매상품, dtype: int64"
            ]
          },
          "metadata": {
            "tags": []
          },
          "execution_count": 15
        }
      ]
    },
    {
      "cell_type": "code",
      "metadata": {
        "colab": {
          "base_uri": "https://localhost:8080/"
        },
        "id": "NvfeekMh6DES",
        "outputId": "5d75a524-69db-4c49-80ff-d735e6f747f2"
      },
      "source": [
        "train['주구매지점'].value_counts()"
      ],
      "execution_count": 16,
      "outputs": [
        {
          "output_type": "execute_result",
          "data": {
            "text/plain": [
              "본  점     1077\n",
              "잠실점       474\n",
              "분당점       436\n",
              "부산본점      245\n",
              "영등포점      241\n",
              "일산점       198\n",
              "강남점       145\n",
              "광주점       114\n",
              "노원점        90\n",
              "청량리점       86\n",
              "대전점        70\n",
              "미아점        69\n",
              "부평점        57\n",
              "동래점        49\n",
              "관악점        46\n",
              "인천점        34\n",
              "안양점        29\n",
              "포항점        11\n",
              "대구점         7\n",
              "센텀시티점       6\n",
              "울산점         6\n",
              "전주점         5\n",
              "창원점         4\n",
              "상인점         1\n",
              "Name: 주구매지점, dtype: int64"
            ]
          },
          "metadata": {
            "tags": []
          },
          "execution_count": 16
        }
      ]
    },
    {
      "cell_type": "code",
      "metadata": {
        "colab": {
          "base_uri": "https://localhost:8080/"
        },
        "id": "29K9s4jyQ1xr",
        "outputId": "d527a466-c8c8-4866-90d2-10e0c1f596a5"
      },
      "source": [
        "X_test['주구매지점'].value_counts()"
      ],
      "execution_count": 17,
      "outputs": [
        {
          "output_type": "execute_result",
          "data": {
            "text/plain": [
              "본  점     726\n",
              "잠실점      352\n",
              "분당점      328\n",
              "부산본점     168\n",
              "일산점      158\n",
              "영등포점     150\n",
              "강남점      101\n",
              "광주점       86\n",
              "청량리점      78\n",
              "노원점       53\n",
              "미아점       52\n",
              "부평점       50\n",
              "대전점       41\n",
              "동래점       36\n",
              "관악점       30\n",
              "안양점       27\n",
              "인천점       22\n",
              "포항점        5\n",
              "울산점        5\n",
              "창원점        4\n",
              "상인점        3\n",
              "센텀시티점      3\n",
              "전주점        2\n",
              "대구점        2\n",
              "Name: 주구매지점, dtype: int64"
            ]
          },
          "metadata": {
            "tags": []
          },
          "execution_count": 17
        }
      ]
    },
    {
      "cell_type": "code",
      "metadata": {
        "colab": {
          "base_uri": "https://localhost:8080/"
        },
        "id": "Eht1LlO67oIq",
        "outputId": "2fffa789-adca-4c8a-b313-299013c8d34f"
      },
      "source": [
        "len(train.주구매상품.unique())"
      ],
      "execution_count": 18,
      "outputs": [
        {
          "output_type": "execute_result",
          "data": {
            "text/plain": [
              "42"
            ]
          },
          "metadata": {
            "tags": []
          },
          "execution_count": 18
        }
      ]
    },
    {
      "cell_type": "code",
      "metadata": {
        "colab": {
          "base_uri": "https://localhost:8080/"
        },
        "id": "I3n0turs7rbz",
        "outputId": "e5ce1049-e3a8-4ca1-ca56-5f3ba519e0a0"
      },
      "source": [
        "len(X_test.주구매상품.unique())"
      ],
      "execution_count": 19,
      "outputs": [
        {
          "output_type": "execute_result",
          "data": {
            "text/plain": [
              "41"
            ]
          },
          "metadata": {
            "tags": []
          },
          "execution_count": 19
        }
      ]
    },
    {
      "cell_type": "code",
      "metadata": {
        "colab": {
          "base_uri": "https://localhost:8080/"
        },
        "id": "4as8Ps0c7uUi",
        "outputId": "b34dcbf5-4576-465d-d6eb-6ddb60d82c68"
      },
      "source": [
        "set(train.주구매상품) - set(X_test.주구매상품)"
      ],
      "execution_count": 20,
      "outputs": [
        {
          "output_type": "execute_result",
          "data": {
            "text/plain": [
              "{'소형가전'}"
            ]
          },
          "metadata": {
            "tags": []
          },
          "execution_count": 20
        }
      ]
    },
    {
      "cell_type": "code",
      "metadata": {
        "colab": {
          "base_uri": "https://localhost:8080/"
        },
        "id": "vmzquXza7xm9",
        "outputId": "9cd14b6f-5e1b-4c79-d45f-ddfe7ee0dc7f"
      },
      "source": [
        "set(train.주구매지점) - set(X_test.주구매지점)"
      ],
      "execution_count": 21,
      "outputs": [
        {
          "output_type": "execute_result",
          "data": {
            "text/plain": [
              "set()"
            ]
          },
          "metadata": {
            "tags": []
          },
          "execution_count": 21
        }
      ]
    },
    {
      "cell_type": "code",
      "metadata": {
        "colab": {
          "base_uri": "https://localhost:8080/"
        },
        "id": "MgAHztGQ78fJ",
        "outputId": "cca765fe-e48f-42ba-d9ad-f208e61f0a4b"
      },
      "source": [
        "set(X_test.주구매지점) - set(train.주구매지점)"
      ],
      "execution_count": 22,
      "outputs": [
        {
          "output_type": "execute_result",
          "data": {
            "text/plain": [
              "set()"
            ]
          },
          "metadata": {
            "tags": []
          },
          "execution_count": 22
        }
      ]
    },
    {
      "cell_type": "code",
      "metadata": {
        "colab": {
          "base_uri": "https://localhost:8080/"
        },
        "id": "nyAvbC976Q_h",
        "outputId": "072040ee-4c35-4e5b-d382-ca50159f06de"
      },
      "source": [
        "train.주구매상품[train.주구매상품 == '소형가전'].index"
      ],
      "execution_count": 23,
      "outputs": [
        {
          "output_type": "execute_result",
          "data": {
            "text/plain": [
              "Int64Index([1521, 2035], dtype='int64')"
            ]
          },
          "metadata": {
            "tags": []
          },
          "execution_count": 23
        }
      ]
    },
    {
      "cell_type": "code",
      "metadata": {
        "id": "i4RSUVeu6kCY"
      },
      "source": [
        "train = train.drop(train.index[[1521,2035]])"
      ],
      "execution_count": 24,
      "outputs": []
    },
    {
      "cell_type": "code",
      "metadata": {
        "colab": {
          "base_uri": "https://localhost:8080/"
        },
        "id": "T-KH47LL7Lzy",
        "outputId": "99c4d977-9598-4f15-cdd3-7aa1cf9920c9"
      },
      "source": [
        "train.주구매상품[train.주구매상품 == '소형가전']"
      ],
      "execution_count": 25,
      "outputs": [
        {
          "output_type": "execute_result",
          "data": {
            "text/plain": [
              "Series([], Name: 주구매상품, dtype: object)"
            ]
          },
          "metadata": {
            "tags": []
          },
          "execution_count": 25
        }
      ]
    },
    {
      "cell_type": "code",
      "metadata": {
        "colab": {
          "base_uri": "https://localhost:8080/"
        },
        "id": "AtjQEmC57U9u",
        "outputId": "46d87152-373a-4470-abd4-fbb23e2ca210"
      },
      "source": [
        "train.dtypes"
      ],
      "execution_count": 26,
      "outputs": [
        {
          "output_type": "execute_result",
          "data": {
            "text/plain": [
              "cust_id      int64\n",
              "총구매액         int64\n",
              "최대구매액        int64\n",
              "환불금액       float64\n",
              "주구매상품       object\n",
              "주구매지점       object\n",
              "내점일수         int64\n",
              "내점당구매건수    float64\n",
              "주말방문비율     float64\n",
              "구매주기         int64\n",
              "gender       int64\n",
              "dtype: object"
            ]
          },
          "metadata": {
            "tags": []
          },
          "execution_count": 26
        }
      ]
    },
    {
      "cell_type": "code",
      "metadata": {
        "id": "htZoIFyt8zCN"
      },
      "source": [
        "train.gender = train.gender.astype('category')"
      ],
      "execution_count": 27,
      "outputs": []
    },
    {
      "cell_type": "code",
      "metadata": {
        "colab": {
          "base_uri": "https://localhost:8080/"
        },
        "id": "xJG4qx488-W-",
        "outputId": "8316f254-e910-4423-936d-8fb901bbff87"
      },
      "source": [
        "train.dtypes"
      ],
      "execution_count": 28,
      "outputs": [
        {
          "output_type": "execute_result",
          "data": {
            "text/plain": [
              "cust_id       int64\n",
              "총구매액          int64\n",
              "최대구매액         int64\n",
              "환불금액        float64\n",
              "주구매상품        object\n",
              "주구매지점        object\n",
              "내점일수          int64\n",
              "내점당구매건수     float64\n",
              "주말방문비율      float64\n",
              "구매주기          int64\n",
              "gender     category\n",
              "dtype: object"
            ]
          },
          "metadata": {
            "tags": []
          },
          "execution_count": 28
        }
      ]
    },
    {
      "cell_type": "code",
      "metadata": {
        "colab": {
          "base_uri": "https://localhost:8080/",
          "height": 317
        },
        "id": "4xmDoDpF8_yC",
        "outputId": "1fb7e40d-6207-4e9a-a756-3df67fd3d3af"
      },
      "source": [
        "train.describe()"
      ],
      "execution_count": 29,
      "outputs": [
        {
          "output_type": "execute_result",
          "data": {
            "text/html": [
              "<div>\n",
              "<style scoped>\n",
              "    .dataframe tbody tr th:only-of-type {\n",
              "        vertical-align: middle;\n",
              "    }\n",
              "\n",
              "    .dataframe tbody tr th {\n",
              "        vertical-align: top;\n",
              "    }\n",
              "\n",
              "    .dataframe thead th {\n",
              "        text-align: right;\n",
              "    }\n",
              "</style>\n",
              "<table border=\"1\" class=\"dataframe\">\n",
              "  <thead>\n",
              "    <tr style=\"text-align: right;\">\n",
              "      <th></th>\n",
              "      <th>cust_id</th>\n",
              "      <th>총구매액</th>\n",
              "      <th>최대구매액</th>\n",
              "      <th>환불금액</th>\n",
              "      <th>내점일수</th>\n",
              "      <th>내점당구매건수</th>\n",
              "      <th>주말방문비율</th>\n",
              "      <th>구매주기</th>\n",
              "    </tr>\n",
              "  </thead>\n",
              "  <tbody>\n",
              "    <tr>\n",
              "      <th>count</th>\n",
              "      <td>3498.000000</td>\n",
              "      <td>3.498000e+03</td>\n",
              "      <td>3.498000e+03</td>\n",
              "      <td>3.498000e+03</td>\n",
              "      <td>3498.000000</td>\n",
              "      <td>3498.000000</td>\n",
              "      <td>3498.000000</td>\n",
              "      <td>3498.000000</td>\n",
              "    </tr>\n",
              "    <tr>\n",
              "      <th>mean</th>\n",
              "      <td>1749.483705</td>\n",
              "      <td>9.201417e+07</td>\n",
              "      <td>1.967707e+07</td>\n",
              "      <td>8.294526e+06</td>\n",
              "      <td>19.264151</td>\n",
              "      <td>2.836012</td>\n",
              "      <td>0.307136</td>\n",
              "      <td>20.970269</td>\n",
              "    </tr>\n",
              "    <tr>\n",
              "      <th>std</th>\n",
              "      <td>1010.777305</td>\n",
              "      <td>1.635147e+08</td>\n",
              "      <td>3.199706e+07</td>\n",
              "      <td>3.010999e+07</td>\n",
              "      <td>27.179205</td>\n",
              "      <td>1.912411</td>\n",
              "      <td>0.289551</td>\n",
              "      <td>24.750681</td>\n",
              "    </tr>\n",
              "    <tr>\n",
              "      <th>min</th>\n",
              "      <td>0.000000</td>\n",
              "      <td>0.000000e+00</td>\n",
              "      <td>5.000000e+03</td>\n",
              "      <td>0.000000e+00</td>\n",
              "      <td>1.000000</td>\n",
              "      <td>1.000000</td>\n",
              "      <td>0.000000</td>\n",
              "      <td>0.000000</td>\n",
              "    </tr>\n",
              "    <tr>\n",
              "      <th>25%</th>\n",
              "      <td>874.250000</td>\n",
              "      <td>4.790500e+06</td>\n",
              "      <td>2.880000e+06</td>\n",
              "      <td>0.000000e+00</td>\n",
              "      <td>2.000000</td>\n",
              "      <td>1.668919</td>\n",
              "      <td>0.027778</td>\n",
              "      <td>4.000000</td>\n",
              "    </tr>\n",
              "    <tr>\n",
              "      <th>50%</th>\n",
              "      <td>1749.500000</td>\n",
              "      <td>2.830839e+07</td>\n",
              "      <td>9.848000e+06</td>\n",
              "      <td>0.000000e+00</td>\n",
              "      <td>8.000000</td>\n",
              "      <td>2.333333</td>\n",
              "      <td>0.256410</td>\n",
              "      <td>13.000000</td>\n",
              "    </tr>\n",
              "    <tr>\n",
              "      <th>75%</th>\n",
              "      <td>2624.750000</td>\n",
              "      <td>1.067053e+08</td>\n",
              "      <td>2.298750e+07</td>\n",
              "      <td>2.642750e+06</td>\n",
              "      <td>25.000000</td>\n",
              "      <td>3.375000</td>\n",
              "      <td>0.448804</td>\n",
              "      <td>28.000000</td>\n",
              "    </tr>\n",
              "    <tr>\n",
              "      <th>max</th>\n",
              "      <td>3499.000000</td>\n",
              "      <td>2.323180e+09</td>\n",
              "      <td>7.066290e+08</td>\n",
              "      <td>5.637530e+08</td>\n",
              "      <td>285.000000</td>\n",
              "      <td>22.083333</td>\n",
              "      <td>1.000000</td>\n",
              "      <td>166.000000</td>\n",
              "    </tr>\n",
              "  </tbody>\n",
              "</table>\n",
              "</div>"
            ],
            "text/plain": [
              "           cust_id          총구매액  ...       주말방문비율         구매주기\n",
              "count  3498.000000  3.498000e+03  ...  3498.000000  3498.000000\n",
              "mean   1749.483705  9.201417e+07  ...     0.307136    20.970269\n",
              "std    1010.777305  1.635147e+08  ...     0.289551    24.750681\n",
              "min       0.000000  0.000000e+00  ...     0.000000     0.000000\n",
              "25%     874.250000  4.790500e+06  ...     0.027778     4.000000\n",
              "50%    1749.500000  2.830839e+07  ...     0.256410    13.000000\n",
              "75%    2624.750000  1.067053e+08  ...     0.448804    28.000000\n",
              "max    3499.000000  2.323180e+09  ...     1.000000   166.000000\n",
              "\n",
              "[8 rows x 8 columns]"
            ]
          },
          "metadata": {
            "tags": []
          },
          "execution_count": 29
        }
      ]
    },
    {
      "cell_type": "code",
      "metadata": {
        "id": "p644Xod58Q4l"
      },
      "source": [
        "price_cols = ['총구매액','최대구매액','환불금액']"
      ],
      "execution_count": 30,
      "outputs": []
    },
    {
      "cell_type": "code",
      "metadata": {
        "id": "vIPDUVzc-Idq"
      },
      "source": [
        "import numpy as np"
      ],
      "execution_count": 32,
      "outputs": []
    },
    {
      "cell_type": "code",
      "metadata": {
        "id": "me-AW91U8SCI"
      },
      "source": [
        "train[price_cols] = np.log(train[price_cols]+1)"
      ],
      "execution_count": 33,
      "outputs": []
    },
    {
      "cell_type": "code",
      "metadata": {
        "colab": {
          "base_uri": "https://localhost:8080/",
          "height": 300
        },
        "id": "YqndWTuB8R2K",
        "outputId": "bfd09941-3e04-43d0-fd3d-00910f92f082"
      },
      "source": [
        "train.describe()"
      ],
      "execution_count": 34,
      "outputs": [
        {
          "output_type": "execute_result",
          "data": {
            "text/html": [
              "<div>\n",
              "<style scoped>\n",
              "    .dataframe tbody tr th:only-of-type {\n",
              "        vertical-align: middle;\n",
              "    }\n",
              "\n",
              "    .dataframe tbody tr th {\n",
              "        vertical-align: top;\n",
              "    }\n",
              "\n",
              "    .dataframe thead th {\n",
              "        text-align: right;\n",
              "    }\n",
              "</style>\n",
              "<table border=\"1\" class=\"dataframe\">\n",
              "  <thead>\n",
              "    <tr style=\"text-align: right;\">\n",
              "      <th></th>\n",
              "      <th>cust_id</th>\n",
              "      <th>총구매액</th>\n",
              "      <th>최대구매액</th>\n",
              "      <th>환불금액</th>\n",
              "      <th>내점일수</th>\n",
              "      <th>내점당구매건수</th>\n",
              "      <th>주말방문비율</th>\n",
              "      <th>구매주기</th>\n",
              "    </tr>\n",
              "  </thead>\n",
              "  <tbody>\n",
              "    <tr>\n",
              "      <th>count</th>\n",
              "      <td>3498.000000</td>\n",
              "      <td>3498.000000</td>\n",
              "      <td>3498.000000</td>\n",
              "      <td>3498.000000</td>\n",
              "      <td>3498.000000</td>\n",
              "      <td>3498.000000</td>\n",
              "      <td>3498.000000</td>\n",
              "      <td>3498.000000</td>\n",
              "    </tr>\n",
              "    <tr>\n",
              "      <th>mean</th>\n",
              "      <td>1749.483705</td>\n",
              "      <td>16.776007</td>\n",
              "      <td>15.768580</td>\n",
              "      <td>5.429684</td>\n",
              "      <td>19.264151</td>\n",
              "      <td>2.836012</td>\n",
              "      <td>0.307136</td>\n",
              "      <td>20.970269</td>\n",
              "    </tr>\n",
              "    <tr>\n",
              "      <th>std</th>\n",
              "      <td>1010.777305</td>\n",
              "      <td>2.306305</td>\n",
              "      <td>1.734878</td>\n",
              "      <td>7.559571</td>\n",
              "      <td>27.179205</td>\n",
              "      <td>1.912411</td>\n",
              "      <td>0.289551</td>\n",
              "      <td>24.750681</td>\n",
              "    </tr>\n",
              "    <tr>\n",
              "      <th>min</th>\n",
              "      <td>0.000000</td>\n",
              "      <td>0.000000</td>\n",
              "      <td>8.517393</td>\n",
              "      <td>0.000000</td>\n",
              "      <td>1.000000</td>\n",
              "      <td>1.000000</td>\n",
              "      <td>0.000000</td>\n",
              "      <td>0.000000</td>\n",
              "    </tr>\n",
              "    <tr>\n",
              "      <th>25%</th>\n",
              "      <td>874.250000</td>\n",
              "      <td>15.382146</td>\n",
              "      <td>14.873301</td>\n",
              "      <td>0.000000</td>\n",
              "      <td>2.000000</td>\n",
              "      <td>1.668919</td>\n",
              "      <td>0.027778</td>\n",
              "      <td>4.000000</td>\n",
              "    </tr>\n",
              "    <tr>\n",
              "      <th>50%</th>\n",
              "      <td>1749.500000</td>\n",
              "      <td>17.158668</td>\n",
              "      <td>16.102779</td>\n",
              "      <td>0.000000</td>\n",
              "      <td>8.000000</td>\n",
              "      <td>2.333333</td>\n",
              "      <td>0.256410</td>\n",
              "      <td>13.000000</td>\n",
              "    </tr>\n",
              "    <tr>\n",
              "      <th>75%</th>\n",
              "      <td>2624.750000</td>\n",
              "      <td>18.485580</td>\n",
              "      <td>16.950461</td>\n",
              "      <td>14.787331</td>\n",
              "      <td>25.000000</td>\n",
              "      <td>3.375000</td>\n",
              "      <td>0.448804</td>\n",
              "      <td>28.000000</td>\n",
              "    </tr>\n",
              "    <tr>\n",
              "      <th>max</th>\n",
              "      <td>3499.000000</td>\n",
              "      <td>21.566203</td>\n",
              "      <td>20.376016</td>\n",
              "      <td>20.150127</td>\n",
              "      <td>285.000000</td>\n",
              "      <td>22.083333</td>\n",
              "      <td>1.000000</td>\n",
              "      <td>166.000000</td>\n",
              "    </tr>\n",
              "  </tbody>\n",
              "</table>\n",
              "</div>"
            ],
            "text/plain": [
              "           cust_id         총구매액  ...       주말방문비율         구매주기\n",
              "count  3498.000000  3498.000000  ...  3498.000000  3498.000000\n",
              "mean   1749.483705    16.776007  ...     0.307136    20.970269\n",
              "std    1010.777305     2.306305  ...     0.289551    24.750681\n",
              "min       0.000000     0.000000  ...     0.000000     0.000000\n",
              "25%     874.250000    15.382146  ...     0.027778     4.000000\n",
              "50%    1749.500000    17.158668  ...     0.256410    13.000000\n",
              "75%    2624.750000    18.485580  ...     0.448804    28.000000\n",
              "max    3499.000000    21.566203  ...     1.000000   166.000000\n",
              "\n",
              "[8 rows x 8 columns]"
            ]
          },
          "metadata": {
            "tags": []
          },
          "execution_count": 34
        }
      ]
    },
    {
      "cell_type": "code",
      "metadata": {
        "colab": {
          "base_uri": "https://localhost:8080/",
          "height": 300
        },
        "id": "ep8J_fN48VnL",
        "outputId": "fff19394-d32b-4ae8-ca13-4d085041638a"
      },
      "source": [
        "X_test[price_cols] = np.log(X_test[price_cols]+1)\n",
        "X_test.describe()"
      ],
      "execution_count": 35,
      "outputs": [
        {
          "output_type": "execute_result",
          "data": {
            "text/html": [
              "<div>\n",
              "<style scoped>\n",
              "    .dataframe tbody tr th:only-of-type {\n",
              "        vertical-align: middle;\n",
              "    }\n",
              "\n",
              "    .dataframe tbody tr th {\n",
              "        vertical-align: top;\n",
              "    }\n",
              "\n",
              "    .dataframe thead th {\n",
              "        text-align: right;\n",
              "    }\n",
              "</style>\n",
              "<table border=\"1\" class=\"dataframe\">\n",
              "  <thead>\n",
              "    <tr style=\"text-align: right;\">\n",
              "      <th></th>\n",
              "      <th>cust_id</th>\n",
              "      <th>총구매액</th>\n",
              "      <th>최대구매액</th>\n",
              "      <th>환불금액</th>\n",
              "      <th>내점일수</th>\n",
              "      <th>내점당구매건수</th>\n",
              "      <th>주말방문비율</th>\n",
              "      <th>구매주기</th>\n",
              "    </tr>\n",
              "  </thead>\n",
              "  <tbody>\n",
              "    <tr>\n",
              "      <th>count</th>\n",
              "      <td>2482.000000</td>\n",
              "      <td>2482.000000</td>\n",
              "      <td>2482.000000</td>\n",
              "      <td>2482.000000</td>\n",
              "      <td>2482.000000</td>\n",
              "      <td>2482.000000</td>\n",
              "      <td>2482.000000</td>\n",
              "      <td>2482.000000</td>\n",
              "    </tr>\n",
              "    <tr>\n",
              "      <th>mean</th>\n",
              "      <td>4740.500000</td>\n",
              "      <td>16.872994</td>\n",
              "      <td>15.857128</td>\n",
              "      <td>5.529487</td>\n",
              "      <td>19.516922</td>\n",
              "      <td>2.819388</td>\n",
              "      <td>0.293812</td>\n",
              "      <td>20.286060</td>\n",
              "    </tr>\n",
              "    <tr>\n",
              "      <th>std</th>\n",
              "      <td>716.636007</td>\n",
              "      <td>2.375963</td>\n",
              "      <td>1.747503</td>\n",
              "      <td>7.594236</td>\n",
              "      <td>25.973972</td>\n",
              "      <td>1.754550</td>\n",
              "      <td>0.282600</td>\n",
              "      <td>24.108756</td>\n",
              "    </tr>\n",
              "    <tr>\n",
              "      <th>min</th>\n",
              "      <td>3500.000000</td>\n",
              "      <td>0.000000</td>\n",
              "      <td>8.612685</td>\n",
              "      <td>0.000000</td>\n",
              "      <td>1.000000</td>\n",
              "      <td>1.000000</td>\n",
              "      <td>0.000000</td>\n",
              "      <td>0.000000</td>\n",
              "    </tr>\n",
              "    <tr>\n",
              "      <th>25%</th>\n",
              "      <td>4120.250000</td>\n",
              "      <td>15.442023</td>\n",
              "      <td>14.879549</td>\n",
              "      <td>0.000000</td>\n",
              "      <td>2.000000</td>\n",
              "      <td>1.750000</td>\n",
              "      <td>0.023456</td>\n",
              "      <td>4.000000</td>\n",
              "    </tr>\n",
              "    <tr>\n",
              "      <th>50%</th>\n",
              "      <td>4740.500000</td>\n",
              "      <td>17.238941</td>\n",
              "      <td>16.191857</td>\n",
              "      <td>0.000000</td>\n",
              "      <td>9.000000</td>\n",
              "      <td>2.430952</td>\n",
              "      <td>0.250000</td>\n",
              "      <td>13.000000</td>\n",
              "    </tr>\n",
              "    <tr>\n",
              "      <th>75%</th>\n",
              "      <td>5360.750000</td>\n",
              "      <td>18.655163</td>\n",
              "      <td>17.085602</td>\n",
              "      <td>14.905499</td>\n",
              "      <td>26.750000</td>\n",
              "      <td>3.375000</td>\n",
              "      <td>0.423566</td>\n",
              "      <td>27.000000</td>\n",
              "    </tr>\n",
              "    <tr>\n",
              "      <th>max</th>\n",
              "      <td>5981.000000</td>\n",
              "      <td>21.774520</td>\n",
              "      <td>20.201084</td>\n",
              "      <td>20.585743</td>\n",
              "      <td>222.000000</td>\n",
              "      <td>15.875000</td>\n",
              "      <td>1.000000</td>\n",
              "      <td>177.000000</td>\n",
              "    </tr>\n",
              "  </tbody>\n",
              "</table>\n",
              "</div>"
            ],
            "text/plain": [
              "           cust_id         총구매액  ...       주말방문비율         구매주기\n",
              "count  2482.000000  2482.000000  ...  2482.000000  2482.000000\n",
              "mean   4740.500000    16.872994  ...     0.293812    20.286060\n",
              "std     716.636007     2.375963  ...     0.282600    24.108756\n",
              "min    3500.000000     0.000000  ...     0.000000     0.000000\n",
              "25%    4120.250000    15.442023  ...     0.023456     4.000000\n",
              "50%    4740.500000    17.238941  ...     0.250000    13.000000\n",
              "75%    5360.750000    18.655163  ...     0.423566    27.000000\n",
              "max    5981.000000    21.774520  ...     1.000000   177.000000\n",
              "\n",
              "[8 rows x 8 columns]"
            ]
          },
          "metadata": {
            "tags": []
          },
          "execution_count": 35
        }
      ]
    },
    {
      "cell_type": "code",
      "metadata": {
        "id": "JJlZAvh78YMs"
      },
      "source": [
        "def outlier(df,cols):\n",
        "    for col in cols:\n",
        "        Q1 = np.percentile(df[col],25)\n",
        "        Q3 = np.percentile(df[col],75)\n",
        "        IQR = Q3 - Q1\n",
        "        low = Q1 - 1.5*IQR\n",
        "        high = Q3 + 1.5*IQR\n",
        "        df.loc[df[col] < low, col] = low\n",
        "        df.loc[df[col] > high, col] = high\n",
        "    return df"
      ],
      "execution_count": 36,
      "outputs": []
    },
    {
      "cell_type": "code",
      "metadata": {
        "colab": {
          "base_uri": "https://localhost:8080/",
          "height": 300
        },
        "id": "Zqyuw9M98cPb",
        "outputId": "60e43f36-3a06-42ee-cb56-0d54e9bbbfea"
      },
      "source": [
        "train = outlier(train,price_cols)\n",
        "train.describe()"
      ],
      "execution_count": 37,
      "outputs": [
        {
          "output_type": "execute_result",
          "data": {
            "text/html": [
              "<div>\n",
              "<style scoped>\n",
              "    .dataframe tbody tr th:only-of-type {\n",
              "        vertical-align: middle;\n",
              "    }\n",
              "\n",
              "    .dataframe tbody tr th {\n",
              "        vertical-align: top;\n",
              "    }\n",
              "\n",
              "    .dataframe thead th {\n",
              "        text-align: right;\n",
              "    }\n",
              "</style>\n",
              "<table border=\"1\" class=\"dataframe\">\n",
              "  <thead>\n",
              "    <tr style=\"text-align: right;\">\n",
              "      <th></th>\n",
              "      <th>cust_id</th>\n",
              "      <th>총구매액</th>\n",
              "      <th>최대구매액</th>\n",
              "      <th>환불금액</th>\n",
              "      <th>내점일수</th>\n",
              "      <th>내점당구매건수</th>\n",
              "      <th>주말방문비율</th>\n",
              "      <th>구매주기</th>\n",
              "    </tr>\n",
              "  </thead>\n",
              "  <tbody>\n",
              "    <tr>\n",
              "      <th>count</th>\n",
              "      <td>3498.000000</td>\n",
              "      <td>3498.000000</td>\n",
              "      <td>3498.000000</td>\n",
              "      <td>3498.000000</td>\n",
              "      <td>3498.000000</td>\n",
              "      <td>3498.000000</td>\n",
              "      <td>3498.000000</td>\n",
              "      <td>3498.000000</td>\n",
              "    </tr>\n",
              "    <tr>\n",
              "      <th>mean</th>\n",
              "      <td>1749.483705</td>\n",
              "      <td>16.801692</td>\n",
              "      <td>15.793199</td>\n",
              "      <td>5.429684</td>\n",
              "      <td>19.264151</td>\n",
              "      <td>2.836012</td>\n",
              "      <td>0.307136</td>\n",
              "      <td>20.970269</td>\n",
              "    </tr>\n",
              "    <tr>\n",
              "      <th>std</th>\n",
              "      <td>1010.777305</td>\n",
              "      <td>2.184428</td>\n",
              "      <td>1.665573</td>\n",
              "      <td>7.559571</td>\n",
              "      <td>27.179205</td>\n",
              "      <td>1.912411</td>\n",
              "      <td>0.289551</td>\n",
              "      <td>24.750681</td>\n",
              "    </tr>\n",
              "    <tr>\n",
              "      <th>min</th>\n",
              "      <td>0.000000</td>\n",
              "      <td>10.726994</td>\n",
              "      <td>11.757562</td>\n",
              "      <td>0.000000</td>\n",
              "      <td>1.000000</td>\n",
              "      <td>1.000000</td>\n",
              "      <td>0.000000</td>\n",
              "      <td>0.000000</td>\n",
              "    </tr>\n",
              "    <tr>\n",
              "      <th>25%</th>\n",
              "      <td>874.250000</td>\n",
              "      <td>15.382146</td>\n",
              "      <td>14.873301</td>\n",
              "      <td>0.000000</td>\n",
              "      <td>2.000000</td>\n",
              "      <td>1.668919</td>\n",
              "      <td>0.027778</td>\n",
              "      <td>4.000000</td>\n",
              "    </tr>\n",
              "    <tr>\n",
              "      <th>50%</th>\n",
              "      <td>1749.500000</td>\n",
              "      <td>17.158668</td>\n",
              "      <td>16.102779</td>\n",
              "      <td>0.000000</td>\n",
              "      <td>8.000000</td>\n",
              "      <td>2.333333</td>\n",
              "      <td>0.256410</td>\n",
              "      <td>13.000000</td>\n",
              "    </tr>\n",
              "    <tr>\n",
              "      <th>75%</th>\n",
              "      <td>2624.750000</td>\n",
              "      <td>18.485580</td>\n",
              "      <td>16.950461</td>\n",
              "      <td>14.787331</td>\n",
              "      <td>25.000000</td>\n",
              "      <td>3.375000</td>\n",
              "      <td>0.448804</td>\n",
              "      <td>28.000000</td>\n",
              "    </tr>\n",
              "    <tr>\n",
              "      <th>max</th>\n",
              "      <td>3499.000000</td>\n",
              "      <td>21.566203</td>\n",
              "      <td>20.066200</td>\n",
              "      <td>20.150127</td>\n",
              "      <td>285.000000</td>\n",
              "      <td>22.083333</td>\n",
              "      <td>1.000000</td>\n",
              "      <td>166.000000</td>\n",
              "    </tr>\n",
              "  </tbody>\n",
              "</table>\n",
              "</div>"
            ],
            "text/plain": [
              "           cust_id         총구매액  ...       주말방문비율         구매주기\n",
              "count  3498.000000  3498.000000  ...  3498.000000  3498.000000\n",
              "mean   1749.483705    16.801692  ...     0.307136    20.970269\n",
              "std    1010.777305     2.184428  ...     0.289551    24.750681\n",
              "min       0.000000    10.726994  ...     0.000000     0.000000\n",
              "25%     874.250000    15.382146  ...     0.027778     4.000000\n",
              "50%    1749.500000    17.158668  ...     0.256410    13.000000\n",
              "75%    2624.750000    18.485580  ...     0.448804    28.000000\n",
              "max    3499.000000    21.566203  ...     1.000000   166.000000\n",
              "\n",
              "[8 rows x 8 columns]"
            ]
          },
          "metadata": {
            "tags": []
          },
          "execution_count": 37
        }
      ]
    },
    {
      "cell_type": "code",
      "metadata": {
        "colab": {
          "base_uri": "https://localhost:8080/",
          "height": 300
        },
        "id": "u-YuoYHz8erk",
        "outputId": "2c1a37e0-7118-4fee-ebd5-f47d465cb924"
      },
      "source": [
        "X_test = outlier(X_test,price_cols)\n",
        "X_test.describe()"
      ],
      "execution_count": 38,
      "outputs": [
        {
          "output_type": "execute_result",
          "data": {
            "text/html": [
              "<div>\n",
              "<style scoped>\n",
              "    .dataframe tbody tr th:only-of-type {\n",
              "        vertical-align: middle;\n",
              "    }\n",
              "\n",
              "    .dataframe tbody tr th {\n",
              "        vertical-align: top;\n",
              "    }\n",
              "\n",
              "    .dataframe thead th {\n",
              "        text-align: right;\n",
              "    }\n",
              "</style>\n",
              "<table border=\"1\" class=\"dataframe\">\n",
              "  <thead>\n",
              "    <tr style=\"text-align: right;\">\n",
              "      <th></th>\n",
              "      <th>cust_id</th>\n",
              "      <th>총구매액</th>\n",
              "      <th>최대구매액</th>\n",
              "      <th>환불금액</th>\n",
              "      <th>내점일수</th>\n",
              "      <th>내점당구매건수</th>\n",
              "      <th>주말방문비율</th>\n",
              "      <th>구매주기</th>\n",
              "    </tr>\n",
              "  </thead>\n",
              "  <tbody>\n",
              "    <tr>\n",
              "      <th>count</th>\n",
              "      <td>2482.000000</td>\n",
              "      <td>2482.000000</td>\n",
              "      <td>2482.000000</td>\n",
              "      <td>2482.000000</td>\n",
              "      <td>2482.000000</td>\n",
              "      <td>2482.000000</td>\n",
              "      <td>2482.000000</td>\n",
              "      <td>2482.000000</td>\n",
              "    </tr>\n",
              "    <tr>\n",
              "      <th>mean</th>\n",
              "      <td>4740.500000</td>\n",
              "      <td>16.907441</td>\n",
              "      <td>15.876022</td>\n",
              "      <td>5.529487</td>\n",
              "      <td>19.516922</td>\n",
              "      <td>2.819388</td>\n",
              "      <td>0.293812</td>\n",
              "      <td>20.286060</td>\n",
              "    </tr>\n",
              "    <tr>\n",
              "      <th>std</th>\n",
              "      <td>716.636007</td>\n",
              "      <td>2.211207</td>\n",
              "      <td>1.692424</td>\n",
              "      <td>7.594236</td>\n",
              "      <td>25.973972</td>\n",
              "      <td>1.754550</td>\n",
              "      <td>0.282600</td>\n",
              "      <td>24.108756</td>\n",
              "    </tr>\n",
              "    <tr>\n",
              "      <th>min</th>\n",
              "      <td>3500.000000</td>\n",
              "      <td>10.622312</td>\n",
              "      <td>11.570469</td>\n",
              "      <td>0.000000</td>\n",
              "      <td>1.000000</td>\n",
              "      <td>1.000000</td>\n",
              "      <td>0.000000</td>\n",
              "      <td>0.000000</td>\n",
              "    </tr>\n",
              "    <tr>\n",
              "      <th>25%</th>\n",
              "      <td>4120.250000</td>\n",
              "      <td>15.442023</td>\n",
              "      <td>14.879549</td>\n",
              "      <td>0.000000</td>\n",
              "      <td>2.000000</td>\n",
              "      <td>1.750000</td>\n",
              "      <td>0.023456</td>\n",
              "      <td>4.000000</td>\n",
              "    </tr>\n",
              "    <tr>\n",
              "      <th>50%</th>\n",
              "      <td>4740.500000</td>\n",
              "      <td>17.238941</td>\n",
              "      <td>16.191857</td>\n",
              "      <td>0.000000</td>\n",
              "      <td>9.000000</td>\n",
              "      <td>2.430952</td>\n",
              "      <td>0.250000</td>\n",
              "      <td>13.000000</td>\n",
              "    </tr>\n",
              "    <tr>\n",
              "      <th>75%</th>\n",
              "      <td>5360.750000</td>\n",
              "      <td>18.655163</td>\n",
              "      <td>17.085602</td>\n",
              "      <td>14.905499</td>\n",
              "      <td>26.750000</td>\n",
              "      <td>3.375000</td>\n",
              "      <td>0.423566</td>\n",
              "      <td>27.000000</td>\n",
              "    </tr>\n",
              "    <tr>\n",
              "      <th>max</th>\n",
              "      <td>5981.000000</td>\n",
              "      <td>21.774520</td>\n",
              "      <td>20.201084</td>\n",
              "      <td>20.585743</td>\n",
              "      <td>222.000000</td>\n",
              "      <td>15.875000</td>\n",
              "      <td>1.000000</td>\n",
              "      <td>177.000000</td>\n",
              "    </tr>\n",
              "  </tbody>\n",
              "</table>\n",
              "</div>"
            ],
            "text/plain": [
              "           cust_id         총구매액  ...       주말방문비율         구매주기\n",
              "count  2482.000000  2482.000000  ...  2482.000000  2482.000000\n",
              "mean   4740.500000    16.907441  ...     0.293812    20.286060\n",
              "std     716.636007     2.211207  ...     0.282600    24.108756\n",
              "min    3500.000000    10.622312  ...     0.000000     0.000000\n",
              "25%    4120.250000    15.442023  ...     0.023456     4.000000\n",
              "50%    4740.500000    17.238941  ...     0.250000    13.000000\n",
              "75%    5360.750000    18.655163  ...     0.423566    27.000000\n",
              "max    5981.000000    21.774520  ...     1.000000   177.000000\n",
              "\n",
              "[8 rows x 8 columns]"
            ]
          },
          "metadata": {
            "tags": []
          },
          "execution_count": 38
        }
      ]
    },
    {
      "cell_type": "code",
      "metadata": {
        "id": "wAC5gLwi9IUi"
      },
      "source": [
        "X = train.drop(['cust_id','gender'],axis=1)\n",
        "y = train.gender"
      ],
      "execution_count": 39,
      "outputs": []
    },
    {
      "cell_type": "code",
      "metadata": {
        "id": "iur3u8FM8wYk"
      },
      "source": [
        "X_num = X.drop(['주구매상품','주구매지점'],axis=1)\n",
        "num_list = list(X_num)\n",
        "\n",
        "cat_list = ['주구매지점','주구매상품']"
      ],
      "execution_count": 40,
      "outputs": []
    },
    {
      "cell_type": "code",
      "metadata": {
        "id": "enbpjFAm-BRD"
      },
      "source": [
        "# from sklearn.impute import SimpleImputer\n",
        "# from sklearn.preprocessing import OneHotEncoder\n",
        "# from sklearn.preprocessing import StandardScaler\n",
        "\n",
        "# from sklearn.pipeline import Pipeline\n",
        "\n",
        "# numeric_pipeline = Pipeline(steps = [('imputer',SimpleImputer(strategy='constant',fill_value=0)),\n",
        "#                                      ('std_scaler',StandardScaler())])\n",
        "\n",
        "# from sklearn.compose import ColumnTransformer\n",
        "\n",
        "# numeric_attrs = list(X_num)  # DF.columns의 인덱스를 리스트로 변환  # list(housing_numeric.columns)\n",
        "# category_attrs = ['주구매상품','주구매지점']\n",
        "\n",
        "# full_pipeline = ColumnTransformer(transformers= [('numeric_pipe',numeric_pipeline,numeric_attrs),\n",
        "#                                                  ('category_pipe',OneHotEncoder(),category_attrs)])\n",
        "\n",
        "# X_pre = full_pipeline.fit_transform(X)"
      ],
      "execution_count": null,
      "outputs": []
    },
    {
      "cell_type": "code",
      "metadata": {
        "id": "HEDiVDH9-LL5"
      },
      "source": [
        "# X_pre.shape"
      ],
      "execution_count": null,
      "outputs": []
    },
    {
      "cell_type": "code",
      "metadata": {
        "id": "rJQCPxd9-M5K"
      },
      "source": [
        "# type(X_pre)"
      ],
      "execution_count": null,
      "outputs": []
    },
    {
      "cell_type": "code",
      "metadata": {
        "id": "0ewhBWEU-Q4m"
      },
      "source": [
        "# from sklearn.model_selection import train_test_split\n",
        "\n",
        "# train,test,train_y,test_y = train_test_split(X_pre.toarray(),y,test_size=0.3,random_state=1,stratify=y)\n",
        "# train.shape, test.shape, train_y.shape, test_y.shape"
      ],
      "execution_count": null,
      "outputs": []
    },
    {
      "cell_type": "code",
      "metadata": {
        "id": "DK6iErPP9Bqr"
      },
      "source": [
        "from sklearn.preprocessing import StandardScaler\n",
        "\n",
        "scaler = StandardScaler()\n",
        "\n",
        "X[num_list] = scaler.fit_transform(X[num_list])\n",
        "\n",
        "X = pd.get_dummies(X,columns=['주구매지점'])\n",
        "X = pd.get_dummies(X,columns=['주구매상품'])"
      ],
      "execution_count": 42,
      "outputs": []
    },
    {
      "cell_type": "code",
      "metadata": {
        "id": "RUCM4sqV9KHm"
      },
      "source": [
        "from sklearn.feature_selection import RFE\n",
        "from sklearn.linear_model import LogisticRegression\n",
        "\n",
        "estimator = LogisticRegression(n_jobs=-1,C=0.1,solver='saga',random_state=1)\n",
        "selector = RFE(estimator=estimator)\n",
        "selector.fit(X,y)\n",
        "\n",
        "select_or_not = pd.DataFrame(sorted(map(list,zip(selector.support_,list(X)))),\n",
        "                             columns = ['select','feature'])\n",
        "rfe_features = list(select_or_not.loc[select_or_not['select'] == True]['feature'].values)"
      ],
      "execution_count": 43,
      "outputs": []
    },
    {
      "cell_type": "code",
      "metadata": {
        "colab": {
          "base_uri": "https://localhost:8080/"
        },
        "id": "oo10ZlRY9WDf",
        "outputId": "44ee1529-0cd1-4c86-ec22-de053f826e66"
      },
      "source": [
        "len(rfe_features)"
      ],
      "execution_count": 44,
      "outputs": [
        {
          "output_type": "execute_result",
          "data": {
            "text/plain": [
              "36"
            ]
          },
          "metadata": {
            "tags": []
          },
          "execution_count": 44
        }
      ]
    },
    {
      "cell_type": "code",
      "metadata": {
        "colab": {
          "base_uri": "https://localhost:8080/"
        },
        "id": "apAWafhb9ZB_",
        "outputId": "f4de487f-9a96-467f-e02b-f25e86b1fd9a"
      },
      "source": [
        "from sklearn.model_selection import train_test_split\n",
        "\n",
        "train,test,train_y,test_y = train_test_split(X[rfe_features],y,test_size=0.3,random_state=1,stratify=y)\n",
        "train.shape, test.shape, train_y.shape, test_y.shape"
      ],
      "execution_count": 50,
      "outputs": [
        {
          "output_type": "execute_result",
          "data": {
            "text/plain": [
              "((2448, 36), (1050, 36), (2448,), (1050,))"
            ]
          },
          "metadata": {
            "tags": []
          },
          "execution_count": 50
        }
      ]
    },
    {
      "cell_type": "code",
      "metadata": {
        "id": "gxdkVJM19voo"
      },
      "source": [
        "TEST = X_test.drop(['cust_id'],axis=1)"
      ],
      "execution_count": 51,
      "outputs": []
    },
    {
      "cell_type": "code",
      "metadata": {
        "id": "kJbzqS19ck00"
      },
      "source": [
        "# TEST_num = TEST.drop(['주구매상품','주구매지점'],axis=1)\n",
        "\n",
        "# from sklearn.impute import SimpleImputer\n",
        "# from sklearn.preprocessing import OneHotEncoder\n",
        "# from sklearn.preprocessing import StandardScaler\n",
        "\n",
        "# from sklearn.pipeline import Pipeline\n",
        "\n",
        "# numeric_pipeline = Pipeline(steps = [('imputer',SimpleImputer(strategy='constant',fill_value=0)),\n",
        "#                                      ('std_scaler',StandardScaler())])\n",
        "\n",
        "# from sklearn.compose import ColumnTransformer\n",
        "\n",
        "# numeric_attrs = list(TEST_num)  # DF.columns의 인덱스를 리스트로 변환  # list(housing_numeric.columns)\n",
        "# category_attrs = ['주구매상품','주구매지점']\n",
        "\n",
        "# full_pipeline = ColumnTransformer(transformers= [('numeric_pipe',numeric_pipeline,numeric_attrs),\n",
        "#                                                  ('category_pipe',OneHotEncoder(),category_attrs)])\n",
        "\n",
        "# TEST_pre = full_pipeline.fit_transform(X)"
      ],
      "execution_count": null,
      "outputs": []
    },
    {
      "cell_type": "code",
      "metadata": {
        "id": "bHhdWUiQa8eG"
      },
      "source": [
        "TEST[num_list] = scaler.transform(TEST[num_list])\n",
        "\n",
        "TEST = pd.get_dummies(TEST,columns=['주구매지점'])\n",
        "TEST = pd.get_dummies(TEST,columns=['주구매상품'])"
      ],
      "execution_count": 52,
      "outputs": []
    },
    {
      "cell_type": "code",
      "metadata": {
        "colab": {
          "base_uri": "https://localhost:8080/",
          "height": 399
        },
        "id": "bkqXU4MobOHw",
        "outputId": "448d9699-0dfc-4b4e-9929-de8df8e73d51"
      },
      "source": [
        "TEST.head()"
      ],
      "execution_count": 53,
      "outputs": [
        {
          "output_type": "execute_result",
          "data": {
            "text/html": [
              "<div>\n",
              "<style scoped>\n",
              "    .dataframe tbody tr th:only-of-type {\n",
              "        vertical-align: middle;\n",
              "    }\n",
              "\n",
              "    .dataframe tbody tr th {\n",
              "        vertical-align: top;\n",
              "    }\n",
              "\n",
              "    .dataframe thead th {\n",
              "        text-align: right;\n",
              "    }\n",
              "</style>\n",
              "<table border=\"1\" class=\"dataframe\">\n",
              "  <thead>\n",
              "    <tr style=\"text-align: right;\">\n",
              "      <th></th>\n",
              "      <th>총구매액</th>\n",
              "      <th>최대구매액</th>\n",
              "      <th>환불금액</th>\n",
              "      <th>내점일수</th>\n",
              "      <th>내점당구매건수</th>\n",
              "      <th>주말방문비율</th>\n",
              "      <th>구매주기</th>\n",
              "      <th>주구매지점_강남점</th>\n",
              "      <th>주구매지점_관악점</th>\n",
              "      <th>주구매지점_광주점</th>\n",
              "      <th>주구매지점_노원점</th>\n",
              "      <th>주구매지점_대구점</th>\n",
              "      <th>주구매지점_대전점</th>\n",
              "      <th>주구매지점_동래점</th>\n",
              "      <th>주구매지점_미아점</th>\n",
              "      <th>주구매지점_본  점</th>\n",
              "      <th>주구매지점_부산본점</th>\n",
              "      <th>주구매지점_부평점</th>\n",
              "      <th>주구매지점_분당점</th>\n",
              "      <th>주구매지점_상인점</th>\n",
              "      <th>주구매지점_센텀시티점</th>\n",
              "      <th>주구매지점_안양점</th>\n",
              "      <th>주구매지점_영등포점</th>\n",
              "      <th>주구매지점_울산점</th>\n",
              "      <th>주구매지점_인천점</th>\n",
              "      <th>주구매지점_일산점</th>\n",
              "      <th>주구매지점_잠실점</th>\n",
              "      <th>주구매지점_전주점</th>\n",
              "      <th>주구매지점_창원점</th>\n",
              "      <th>주구매지점_청량리점</th>\n",
              "      <th>주구매지점_포항점</th>\n",
              "      <th>주구매상품_가공식품</th>\n",
              "      <th>주구매상품_가구</th>\n",
              "      <th>주구매상품_건강식품</th>\n",
              "      <th>주구매상품_골프</th>\n",
              "      <th>주구매상품_구두</th>\n",
              "      <th>주구매상품_기타</th>\n",
              "      <th>주구매상품_남성 캐주얼</th>\n",
              "      <th>주구매상품_남성 트랜디</th>\n",
              "      <th>주구매상품_남성정장</th>\n",
              "      <th>주구매상품_농산물</th>\n",
              "      <th>주구매상품_대형가전</th>\n",
              "      <th>주구매상품_디자이너</th>\n",
              "      <th>주구매상품_란제리/내의</th>\n",
              "      <th>주구매상품_명품</th>\n",
              "      <th>주구매상품_모피/피혁</th>\n",
              "      <th>주구매상품_보석</th>\n",
              "      <th>주구매상품_생활잡화</th>\n",
              "      <th>주구매상품_섬유잡화</th>\n",
              "      <th>주구매상품_셔츠</th>\n",
              "      <th>주구매상품_수산품</th>\n",
              "      <th>주구매상품_스포츠</th>\n",
              "      <th>주구매상품_시티웨어</th>\n",
              "      <th>주구매상품_식기</th>\n",
              "      <th>주구매상품_아동</th>\n",
              "      <th>주구매상품_악기</th>\n",
              "      <th>주구매상품_액세서리</th>\n",
              "      <th>주구매상품_육류</th>\n",
              "      <th>주구매상품_일용잡화</th>\n",
              "      <th>주구매상품_젓갈/반찬</th>\n",
              "      <th>주구매상품_주류</th>\n",
              "      <th>주구매상품_주방가전</th>\n",
              "      <th>주구매상품_주방용품</th>\n",
              "      <th>주구매상품_차/커피</th>\n",
              "      <th>주구매상품_축산가공</th>\n",
              "      <th>주구매상품_침구/수예</th>\n",
              "      <th>주구매상품_캐주얼</th>\n",
              "      <th>주구매상품_커리어</th>\n",
              "      <th>주구매상품_통신/컴퓨터</th>\n",
              "      <th>주구매상품_트래디셔널</th>\n",
              "      <th>주구매상품_피혁잡화</th>\n",
              "      <th>주구매상품_화장품</th>\n",
              "    </tr>\n",
              "  </thead>\n",
              "  <tbody>\n",
              "    <tr>\n",
              "      <th>0</th>\n",
              "      <td>0.583804</td>\n",
              "      <td>0.668547</td>\n",
              "      <td>1.294510</td>\n",
              "      <td>-0.230509</td>\n",
              "      <td>-0.718815</td>\n",
              "      <td>1.666051</td>\n",
              "      <td>0.203245</td>\n",
              "      <td>0</td>\n",
              "      <td>0</td>\n",
              "      <td>0</td>\n",
              "      <td>0</td>\n",
              "      <td>0</td>\n",
              "      <td>0</td>\n",
              "      <td>0</td>\n",
              "      <td>0</td>\n",
              "      <td>0</td>\n",
              "      <td>1</td>\n",
              "      <td>0</td>\n",
              "      <td>0</td>\n",
              "      <td>0</td>\n",
              "      <td>0</td>\n",
              "      <td>0</td>\n",
              "      <td>0</td>\n",
              "      <td>0</td>\n",
              "      <td>0</td>\n",
              "      <td>0</td>\n",
              "      <td>0</td>\n",
              "      <td>0</td>\n",
              "      <td>0</td>\n",
              "      <td>0</td>\n",
              "      <td>0</td>\n",
              "      <td>0</td>\n",
              "      <td>0</td>\n",
              "      <td>0</td>\n",
              "      <td>1</td>\n",
              "      <td>0</td>\n",
              "      <td>0</td>\n",
              "      <td>0</td>\n",
              "      <td>0</td>\n",
              "      <td>0</td>\n",
              "      <td>0</td>\n",
              "      <td>0</td>\n",
              "      <td>0</td>\n",
              "      <td>0</td>\n",
              "      <td>0</td>\n",
              "      <td>0</td>\n",
              "      <td>0</td>\n",
              "      <td>0</td>\n",
              "      <td>0</td>\n",
              "      <td>0</td>\n",
              "      <td>0</td>\n",
              "      <td>0</td>\n",
              "      <td>0</td>\n",
              "      <td>0</td>\n",
              "      <td>0</td>\n",
              "      <td>0</td>\n",
              "      <td>0</td>\n",
              "      <td>0</td>\n",
              "      <td>0</td>\n",
              "      <td>0</td>\n",
              "      <td>0</td>\n",
              "      <td>0</td>\n",
              "      <td>0</td>\n",
              "      <td>0</td>\n",
              "      <td>0</td>\n",
              "      <td>0</td>\n",
              "      <td>0</td>\n",
              "      <td>0</td>\n",
              "      <td>0</td>\n",
              "      <td>0</td>\n",
              "      <td>0</td>\n",
              "      <td>0</td>\n",
              "    </tr>\n",
              "    <tr>\n",
              "      <th>1</th>\n",
              "      <td>1.260056</td>\n",
              "      <td>1.005489</td>\n",
              "      <td>1.621719</td>\n",
              "      <td>2.602945</td>\n",
              "      <td>-0.210591</td>\n",
              "      <td>0.216666</td>\n",
              "      <td>-0.726155</td>\n",
              "      <td>0</td>\n",
              "      <td>0</td>\n",
              "      <td>0</td>\n",
              "      <td>0</td>\n",
              "      <td>0</td>\n",
              "      <td>0</td>\n",
              "      <td>0</td>\n",
              "      <td>0</td>\n",
              "      <td>0</td>\n",
              "      <td>0</td>\n",
              "      <td>0</td>\n",
              "      <td>0</td>\n",
              "      <td>0</td>\n",
              "      <td>0</td>\n",
              "      <td>0</td>\n",
              "      <td>0</td>\n",
              "      <td>0</td>\n",
              "      <td>0</td>\n",
              "      <td>0</td>\n",
              "      <td>1</td>\n",
              "      <td>0</td>\n",
              "      <td>0</td>\n",
              "      <td>0</td>\n",
              "      <td>0</td>\n",
              "      <td>0</td>\n",
              "      <td>0</td>\n",
              "      <td>0</td>\n",
              "      <td>0</td>\n",
              "      <td>0</td>\n",
              "      <td>0</td>\n",
              "      <td>0</td>\n",
              "      <td>0</td>\n",
              "      <td>0</td>\n",
              "      <td>1</td>\n",
              "      <td>0</td>\n",
              "      <td>0</td>\n",
              "      <td>0</td>\n",
              "      <td>0</td>\n",
              "      <td>0</td>\n",
              "      <td>0</td>\n",
              "      <td>0</td>\n",
              "      <td>0</td>\n",
              "      <td>0</td>\n",
              "      <td>0</td>\n",
              "      <td>0</td>\n",
              "      <td>0</td>\n",
              "      <td>0</td>\n",
              "      <td>0</td>\n",
              "      <td>0</td>\n",
              "      <td>0</td>\n",
              "      <td>0</td>\n",
              "      <td>0</td>\n",
              "      <td>0</td>\n",
              "      <td>0</td>\n",
              "      <td>0</td>\n",
              "      <td>0</td>\n",
              "      <td>0</td>\n",
              "      <td>0</td>\n",
              "      <td>0</td>\n",
              "      <td>0</td>\n",
              "      <td>0</td>\n",
              "      <td>0</td>\n",
              "      <td>0</td>\n",
              "      <td>0</td>\n",
              "      <td>0</td>\n",
              "    </tr>\n",
              "    <tr>\n",
              "      <th>2</th>\n",
              "      <td>1.252221</td>\n",
              "      <td>0.431521</td>\n",
              "      <td>1.561719</td>\n",
              "      <td>3.007724</td>\n",
              "      <td>6.164697</td>\n",
              "      <td>-0.773236</td>\n",
              "      <td>-0.726155</td>\n",
              "      <td>0</td>\n",
              "      <td>0</td>\n",
              "      <td>0</td>\n",
              "      <td>0</td>\n",
              "      <td>0</td>\n",
              "      <td>0</td>\n",
              "      <td>0</td>\n",
              "      <td>0</td>\n",
              "      <td>1</td>\n",
              "      <td>0</td>\n",
              "      <td>0</td>\n",
              "      <td>0</td>\n",
              "      <td>0</td>\n",
              "      <td>0</td>\n",
              "      <td>0</td>\n",
              "      <td>0</td>\n",
              "      <td>0</td>\n",
              "      <td>0</td>\n",
              "      <td>0</td>\n",
              "      <td>0</td>\n",
              "      <td>0</td>\n",
              "      <td>0</td>\n",
              "      <td>0</td>\n",
              "      <td>0</td>\n",
              "      <td>1</td>\n",
              "      <td>0</td>\n",
              "      <td>0</td>\n",
              "      <td>0</td>\n",
              "      <td>0</td>\n",
              "      <td>0</td>\n",
              "      <td>0</td>\n",
              "      <td>0</td>\n",
              "      <td>0</td>\n",
              "      <td>0</td>\n",
              "      <td>0</td>\n",
              "      <td>0</td>\n",
              "      <td>0</td>\n",
              "      <td>0</td>\n",
              "      <td>0</td>\n",
              "      <td>0</td>\n",
              "      <td>0</td>\n",
              "      <td>0</td>\n",
              "      <td>0</td>\n",
              "      <td>0</td>\n",
              "      <td>0</td>\n",
              "      <td>0</td>\n",
              "      <td>0</td>\n",
              "      <td>0</td>\n",
              "      <td>0</td>\n",
              "      <td>0</td>\n",
              "      <td>0</td>\n",
              "      <td>0</td>\n",
              "      <td>0</td>\n",
              "      <td>0</td>\n",
              "      <td>0</td>\n",
              "      <td>0</td>\n",
              "      <td>0</td>\n",
              "      <td>0</td>\n",
              "      <td>0</td>\n",
              "      <td>0</td>\n",
              "      <td>0</td>\n",
              "      <td>0</td>\n",
              "      <td>0</td>\n",
              "      <td>0</td>\n",
              "      <td>0</td>\n",
              "    </tr>\n",
              "    <tr>\n",
              "      <th>3</th>\n",
              "      <td>-0.438993</td>\n",
              "      <td>-0.194696</td>\n",
              "      <td>-0.718356</td>\n",
              "      <td>-0.524894</td>\n",
              "      <td>-0.437213</td>\n",
              "      <td>-1.060884</td>\n",
              "      <td>1.051828</td>\n",
              "      <td>0</td>\n",
              "      <td>0</td>\n",
              "      <td>0</td>\n",
              "      <td>0</td>\n",
              "      <td>0</td>\n",
              "      <td>0</td>\n",
              "      <td>0</td>\n",
              "      <td>0</td>\n",
              "      <td>0</td>\n",
              "      <td>1</td>\n",
              "      <td>0</td>\n",
              "      <td>0</td>\n",
              "      <td>0</td>\n",
              "      <td>0</td>\n",
              "      <td>0</td>\n",
              "      <td>0</td>\n",
              "      <td>0</td>\n",
              "      <td>0</td>\n",
              "      <td>0</td>\n",
              "      <td>0</td>\n",
              "      <td>0</td>\n",
              "      <td>0</td>\n",
              "      <td>0</td>\n",
              "      <td>0</td>\n",
              "      <td>0</td>\n",
              "      <td>0</td>\n",
              "      <td>0</td>\n",
              "      <td>0</td>\n",
              "      <td>0</td>\n",
              "      <td>0</td>\n",
              "      <td>0</td>\n",
              "      <td>0</td>\n",
              "      <td>0</td>\n",
              "      <td>0</td>\n",
              "      <td>0</td>\n",
              "      <td>0</td>\n",
              "      <td>0</td>\n",
              "      <td>0</td>\n",
              "      <td>0</td>\n",
              "      <td>0</td>\n",
              "      <td>0</td>\n",
              "      <td>0</td>\n",
              "      <td>0</td>\n",
              "      <td>0</td>\n",
              "      <td>0</td>\n",
              "      <td>0</td>\n",
              "      <td>0</td>\n",
              "      <td>0</td>\n",
              "      <td>0</td>\n",
              "      <td>0</td>\n",
              "      <td>0</td>\n",
              "      <td>0</td>\n",
              "      <td>0</td>\n",
              "      <td>0</td>\n",
              "      <td>0</td>\n",
              "      <td>1</td>\n",
              "      <td>0</td>\n",
              "      <td>0</td>\n",
              "      <td>0</td>\n",
              "      <td>0</td>\n",
              "      <td>0</td>\n",
              "      <td>0</td>\n",
              "      <td>0</td>\n",
              "      <td>0</td>\n",
              "      <td>0</td>\n",
              "    </tr>\n",
              "    <tr>\n",
              "      <th>4</th>\n",
              "      <td>-1.099180</td>\n",
              "      <td>-0.980732</td>\n",
              "      <td>-0.718356</td>\n",
              "      <td>-0.598490</td>\n",
              "      <td>-0.088564</td>\n",
              "      <td>-0.629120</td>\n",
              "      <td>-0.524112</td>\n",
              "      <td>0</td>\n",
              "      <td>0</td>\n",
              "      <td>0</td>\n",
              "      <td>0</td>\n",
              "      <td>0</td>\n",
              "      <td>0</td>\n",
              "      <td>0</td>\n",
              "      <td>0</td>\n",
              "      <td>0</td>\n",
              "      <td>0</td>\n",
              "      <td>0</td>\n",
              "      <td>0</td>\n",
              "      <td>0</td>\n",
              "      <td>0</td>\n",
              "      <td>0</td>\n",
              "      <td>0</td>\n",
              "      <td>0</td>\n",
              "      <td>0</td>\n",
              "      <td>0</td>\n",
              "      <td>0</td>\n",
              "      <td>0</td>\n",
              "      <td>0</td>\n",
              "      <td>1</td>\n",
              "      <td>0</td>\n",
              "      <td>0</td>\n",
              "      <td>0</td>\n",
              "      <td>0</td>\n",
              "      <td>0</td>\n",
              "      <td>0</td>\n",
              "      <td>0</td>\n",
              "      <td>0</td>\n",
              "      <td>0</td>\n",
              "      <td>0</td>\n",
              "      <td>0</td>\n",
              "      <td>0</td>\n",
              "      <td>0</td>\n",
              "      <td>0</td>\n",
              "      <td>0</td>\n",
              "      <td>0</td>\n",
              "      <td>0</td>\n",
              "      <td>0</td>\n",
              "      <td>0</td>\n",
              "      <td>0</td>\n",
              "      <td>1</td>\n",
              "      <td>0</td>\n",
              "      <td>0</td>\n",
              "      <td>0</td>\n",
              "      <td>0</td>\n",
              "      <td>0</td>\n",
              "      <td>0</td>\n",
              "      <td>0</td>\n",
              "      <td>0</td>\n",
              "      <td>0</td>\n",
              "      <td>0</td>\n",
              "      <td>0</td>\n",
              "      <td>0</td>\n",
              "      <td>0</td>\n",
              "      <td>0</td>\n",
              "      <td>0</td>\n",
              "      <td>0</td>\n",
              "      <td>0</td>\n",
              "      <td>0</td>\n",
              "      <td>0</td>\n",
              "      <td>0</td>\n",
              "      <td>0</td>\n",
              "    </tr>\n",
              "  </tbody>\n",
              "</table>\n",
              "</div>"
            ],
            "text/plain": [
              "       총구매액     최대구매액      환불금액  ...  주구매상품_트래디셔널  주구매상품_피혁잡화  주구매상품_화장품\n",
              "0  0.583804  0.668547  1.294510  ...            0           0          0\n",
              "1  1.260056  1.005489  1.621719  ...            0           0          0\n",
              "2  1.252221  0.431521  1.561719  ...            0           0          0\n",
              "3 -0.438993 -0.194696 -0.718356  ...            0           0          0\n",
              "4 -1.099180 -0.980732 -0.718356  ...            0           0          0\n",
              "\n",
              "[5 rows x 72 columns]"
            ]
          },
          "metadata": {
            "tags": []
          },
          "execution_count": 53
        }
      ]
    },
    {
      "cell_type": "markdown",
      "metadata": {
        "id": "5_t_ojm6IhdG"
      },
      "source": [
        "# SGD"
      ]
    },
    {
      "cell_type": "code",
      "metadata": {
        "id": "wO5BTngKIaTE"
      },
      "source": [
        "from sklearn.linear_model import SGDClassifier\n",
        "\n",
        "sgd_clf = SGDClassifier(random_state=1)\n",
        "sgd_clf.fit(X=train,y=train_y)\n",
        "\n",
        "y_pred = sgd_clf.predict(X=test)"
      ],
      "execution_count": 54,
      "outputs": []
    },
    {
      "cell_type": "code",
      "metadata": {
        "colab": {
          "base_uri": "https://localhost:8080/"
        },
        "id": "BXADKwt8I0w9",
        "outputId": "cbf0c5e8-ee0b-4e8e-8931-01688ec26eeb"
      },
      "source": [
        "from sklearn.metrics import classification_report\n",
        "\n",
        "report =classification_report(test_y, y_pred, target_names=['class 0', 'class 1'])\n",
        "print(report)"
      ],
      "execution_count": 55,
      "outputs": [
        {
          "output_type": "stream",
          "text": [
            "              precision    recall  f1-score   support\n",
            "\n",
            "     class 0       0.70      0.77      0.74       655\n",
            "     class 1       0.55      0.46      0.50       395\n",
            "\n",
            "    accuracy                           0.66      1050\n",
            "   macro avg       0.63      0.62      0.62      1050\n",
            "weighted avg       0.65      0.66      0.65      1050\n",
            "\n"
          ],
          "name": "stdout"
        }
      ]
    },
    {
      "cell_type": "code",
      "metadata": {
        "colab": {
          "base_uri": "https://localhost:8080/"
        },
        "id": "oHsiYw9hI7p5",
        "outputId": "e9513a2c-202e-48bc-a449-deb8c0262ed7"
      },
      "source": [
        "s = sgd_clf.decision_function(test)\n",
        "\n",
        "from sklearn.metrics import roc_auc_score\n",
        "roc_auc_score(y_true=test_y,y_score=s)"
      ],
      "execution_count": 56,
      "outputs": [
        {
          "output_type": "execute_result",
          "data": {
            "text/plain": [
              "0.6747453860276356"
            ]
          },
          "metadata": {
            "tags": []
          },
          "execution_count": 56
        }
      ]
    },
    {
      "cell_type": "markdown",
      "metadata": {
        "id": "Si9OQSPMJfem"
      },
      "source": [
        "# LogisticRegression"
      ]
    },
    {
      "cell_type": "code",
      "metadata": {
        "id": "THbXv7qQH-3C"
      },
      "source": [
        "from sklearn.linear_model import LogisticRegression\n",
        "\n",
        "log_reg = LogisticRegression(random_state=1)\n",
        "log_reg.fit(train,train_y)\n",
        "\n",
        "y_pred = log_reg.predict(test)"
      ],
      "execution_count": 57,
      "outputs": []
    },
    {
      "cell_type": "code",
      "metadata": {
        "colab": {
          "base_uri": "https://localhost:8080/"
        },
        "id": "X2KJuZiQJ3SP",
        "outputId": "2689d4ab-7a7f-44ab-9032-39f443d3955f"
      },
      "source": [
        "report =classification_report(test_y, y_pred, target_names=['class 0', 'class 1'])\n",
        "print(report)"
      ],
      "execution_count": 58,
      "outputs": [
        {
          "output_type": "stream",
          "text": [
            "              precision    recall  f1-score   support\n",
            "\n",
            "     class 0       0.70      0.83      0.76       655\n",
            "     class 1       0.59      0.40      0.48       395\n",
            "\n",
            "    accuracy                           0.67      1050\n",
            "   macro avg       0.64      0.62      0.62      1050\n",
            "weighted avg       0.66      0.67      0.65      1050\n",
            "\n"
          ],
          "name": "stdout"
        }
      ]
    },
    {
      "cell_type": "code",
      "metadata": {
        "colab": {
          "base_uri": "https://localhost:8080/"
        },
        "id": "F63ufplqJ6NN",
        "outputId": "ef044f6f-89fe-4575-846d-92104bac844c"
      },
      "source": [
        "s = log_reg.predict_proba(test)\n",
        "\n",
        "roc_auc_score(y_true=test_y,y_score=s[:,1])"
      ],
      "execution_count": 59,
      "outputs": [
        {
          "output_type": "execute_result",
          "data": {
            "text/plain": [
              "0.685300995265243"
            ]
          },
          "metadata": {
            "tags": []
          },
          "execution_count": 59
        }
      ]
    },
    {
      "cell_type": "markdown",
      "metadata": {
        "id": "a3iho_5AKi_W"
      },
      "source": [
        "# LinearSVC"
      ]
    },
    {
      "cell_type": "code",
      "metadata": {
        "colab": {
          "base_uri": "https://localhost:8080/"
        },
        "id": "ofDbQq3FKiv3",
        "outputId": "e5385360-f865-4706-8595-239bdd3e878b"
      },
      "source": [
        "from sklearn.svm import LinearSVC\n",
        "\n",
        "lin_svc = LinearSVC(random_state=1)\n",
        "lin_svc.fit(train,train_y)"
      ],
      "execution_count": 60,
      "outputs": [
        {
          "output_type": "execute_result",
          "data": {
            "text/plain": [
              "LinearSVC(C=1.0, class_weight=None, dual=True, fit_intercept=True,\n",
              "          intercept_scaling=1, loss='squared_hinge', max_iter=1000,\n",
              "          multi_class='ovr', penalty='l2', random_state=1, tol=0.0001,\n",
              "          verbose=0)"
            ]
          },
          "metadata": {
            "tags": []
          },
          "execution_count": 60
        }
      ]
    },
    {
      "cell_type": "code",
      "metadata": {
        "colab": {
          "base_uri": "https://localhost:8080/"
        },
        "id": "8LpAvw75Ktmm",
        "outputId": "8227504b-17dc-4c11-ac24-ca2104ac4b56"
      },
      "source": [
        "s = lin_svc.decision_function(test)\n",
        "\n",
        "roc_auc_score(y_true=test_y,y_score=s)"
      ],
      "execution_count": 61,
      "outputs": [
        {
          "output_type": "execute_result",
          "data": {
            "text/plain": [
              "0.6851232003092086"
            ]
          },
          "metadata": {
            "tags": []
          },
          "execution_count": 61
        }
      ]
    },
    {
      "cell_type": "markdown",
      "metadata": {
        "id": "8hKDUw4uM2QC"
      },
      "source": [
        "# SVC"
      ]
    },
    {
      "cell_type": "code",
      "metadata": {
        "colab": {
          "base_uri": "https://localhost:8080/"
        },
        "id": "K9myX99vK8nv",
        "outputId": "2665e8e6-69fc-48e0-e357-09bdff84b14f"
      },
      "source": [
        "from sklearn.svm import SVC\n",
        "\n",
        "svc = SVC(random_state=1)\n",
        "svc.fit(train,train_y)"
      ],
      "execution_count": 62,
      "outputs": [
        {
          "output_type": "execute_result",
          "data": {
            "text/plain": [
              "SVC(C=1.0, break_ties=False, cache_size=200, class_weight=None, coef0=0.0,\n",
              "    decision_function_shape='ovr', degree=3, gamma='scale', kernel='rbf',\n",
              "    max_iter=-1, probability=False, random_state=1, shrinking=True, tol=0.001,\n",
              "    verbose=False)"
            ]
          },
          "metadata": {
            "tags": []
          },
          "execution_count": 62
        }
      ]
    },
    {
      "cell_type": "code",
      "metadata": {
        "colab": {
          "base_uri": "https://localhost:8080/"
        },
        "id": "bsb2I5gCNLIS",
        "outputId": "3be499fb-69d4-45c7-8968-b261705d978d"
      },
      "source": [
        "s = svc.decision_function(test)\n",
        "\n",
        "roc_auc_score(y_true=test_y,y_score=s)"
      ],
      "execution_count": 63,
      "outputs": [
        {
          "output_type": "execute_result",
          "data": {
            "text/plain": [
              "0.6477476084645858"
            ]
          },
          "metadata": {
            "tags": []
          },
          "execution_count": 63
        }
      ]
    },
    {
      "cell_type": "code",
      "metadata": {
        "colab": {
          "base_uri": "https://localhost:8080/"
        },
        "id": "3kPBwT2zNR5h",
        "outputId": "dfe06aa2-83e8-46a7-fda4-8a4ab60164e8"
      },
      "source": [
        "svc2 = SVC(kernel='poly',random_state=1)\n",
        "svc2.fit(train,train_y)\n",
        "\n",
        "roc_auc_score(test_y,svc2.decision_function(test))"
      ],
      "execution_count": 64,
      "outputs": [
        {
          "output_type": "execute_result",
          "data": {
            "text/plain": [
              "0.651713209005701"
            ]
          },
          "metadata": {
            "tags": []
          },
          "execution_count": 64
        }
      ]
    },
    {
      "cell_type": "code",
      "metadata": {
        "colab": {
          "base_uri": "https://localhost:8080/"
        },
        "id": "ZCSCaGccN7-c",
        "outputId": "c9d1656a-288c-48de-9bd1-1762d734bc58"
      },
      "source": [
        "svc3 = SVC(kernel='linear',random_state=1)\n",
        "svc3.fit(train,train_y)\n",
        "\n",
        "roc_auc_score(test_y,svc3.decision_function(test))"
      ],
      "execution_count": 65,
      "outputs": [
        {
          "output_type": "execute_result",
          "data": {
            "text/plain": [
              "0.6838245241086094"
            ]
          },
          "metadata": {
            "tags": []
          },
          "execution_count": 65
        }
      ]
    },
    {
      "cell_type": "code",
      "metadata": {
        "colab": {
          "base_uri": "https://localhost:8080/"
        },
        "id": "rpE8b2RrOXIS",
        "outputId": "2756f2dc-be99-4d67-8ab9-50ee02884764"
      },
      "source": [
        "svc4 = SVC(kernel='sigmoid',random_state=1)\n",
        "svc4.fit(train,train_y)\n",
        "\n",
        "roc_auc_score(test_y,svc4.decision_function(test))"
      ],
      "execution_count": 66,
      "outputs": [
        {
          "output_type": "execute_result",
          "data": {
            "text/plain": [
              "0.5568866557155281"
            ]
          },
          "metadata": {
            "tags": []
          },
          "execution_count": 66
        }
      ]
    },
    {
      "cell_type": "code",
      "metadata": {
        "colab": {
          "base_uri": "https://localhost:8080/"
        },
        "id": "JRYpPyXvPCb4",
        "outputId": "19207a36-adaf-4c2c-ad49-a74e18683eec"
      },
      "source": [
        "gammas_cs = [(0.1,1e-3),(0.1,1e3),(5,1e-3),(5,1e3)]\n",
        "for g, c in gammas_cs:\n",
        "    print(f' gamma = {g}, C = {c}')\n",
        "    clf = SVC(kernel='rbf',gamma=g,C=c,random_state=42)\n",
        "    clf.fit(train,train_y)\n",
        "    print(roc_auc_score(test_y,clf.decision_function(test)))"
      ],
      "execution_count": 68,
      "outputs": [
        {
          "output_type": "stream",
          "text": [
            " gamma = 0.1, C = 0.001\n",
            "0.6680819402840854\n",
            " gamma = 0.1, C = 1000.0\n",
            "0.6202357715721325\n",
            " gamma = 5, C = 0.001\n",
            "0.5945018842400231\n",
            " gamma = 5, C = 1000.0\n",
            "0.5752497825876897\n"
          ],
          "name": "stdout"
        }
      ]
    },
    {
      "cell_type": "markdown",
      "metadata": {
        "id": "0MliZWsBPmSH"
      },
      "source": [
        "# DecisionTree"
      ]
    },
    {
      "cell_type": "code",
      "metadata": {
        "colab": {
          "base_uri": "https://localhost:8080/"
        },
        "id": "Ot2sQHhzPooF",
        "outputId": "ff2918f1-de5a-4bd3-b2b7-97607a9c7638"
      },
      "source": [
        "from sklearn.tree import DecisionTreeClassifier\n",
        "\n",
        "tree_clf = DecisionTreeClassifier(random_state=1)\n",
        "tree_clf.fit(train,train_y)"
      ],
      "execution_count": 69,
      "outputs": [
        {
          "output_type": "execute_result",
          "data": {
            "text/plain": [
              "DecisionTreeClassifier(ccp_alpha=0.0, class_weight=None, criterion='gini',\n",
              "                       max_depth=None, max_features=None, max_leaf_nodes=None,\n",
              "                       min_impurity_decrease=0.0, min_impurity_split=None,\n",
              "                       min_samples_leaf=1, min_samples_split=2,\n",
              "                       min_weight_fraction_leaf=0.0, presort='deprecated',\n",
              "                       random_state=1, splitter='best')"
            ]
          },
          "metadata": {
            "tags": []
          },
          "execution_count": 69
        }
      ]
    },
    {
      "cell_type": "code",
      "metadata": {
        "colab": {
          "base_uri": "https://localhost:8080/"
        },
        "id": "aJVd_FT_P8pe",
        "outputId": "a5da003f-d248-4ead-c3ac-8c87bbe40777"
      },
      "source": [
        "s = tree_clf.predict_proba(test)\n",
        "\n",
        "roc_auc_score(test_y,s[:,1])"
      ],
      "execution_count": 70,
      "outputs": [
        {
          "output_type": "execute_result",
          "data": {
            "text/plain": [
              "0.5516243115276838"
            ]
          },
          "metadata": {
            "tags": []
          },
          "execution_count": 70
        }
      ]
    },
    {
      "cell_type": "code",
      "metadata": {
        "colab": {
          "base_uri": "https://localhost:8080/"
        },
        "id": "6NRj631mQV72",
        "outputId": "e041b483-766b-4500-a595-241786e2304e"
      },
      "source": [
        "tree_clf2 = DecisionTreeClassifier(max_depth=2,random_state=1)\n",
        "tree_clf2.fit(train,train_y)\n",
        "\n",
        "roc_auc_score(test_y,tree_clf2.predict_proba(test)[:,1])"
      ],
      "execution_count": 71,
      "outputs": [
        {
          "output_type": "execute_result",
          "data": {
            "text/plain": [
              "0.6221799207652914"
            ]
          },
          "metadata": {
            "tags": []
          },
          "execution_count": 71
        }
      ]
    },
    {
      "cell_type": "code",
      "metadata": {
        "colab": {
          "base_uri": "https://localhost:8080/"
        },
        "id": "pMr-EYYbQjx3",
        "outputId": "f78e9117-3c33-4736-eb47-5a5b25261f05"
      },
      "source": [
        "for i in [1,4,8]:\n",
        "    print(f' min_samples_leaf = {i}')\n",
        "    clf = DecisionTreeClassifier(min_samples_leaf=i,random_state=1)\n",
        "    clf.fit(train,train_y)\n",
        "    print(roc_auc_score(test_y,clf.predict_proba(test)[:,1]))"
      ],
      "execution_count": 72,
      "outputs": [
        {
          "output_type": "stream",
          "text": [
            " min_samples_leaf = 1\n",
            "0.5516243115276838\n",
            " min_samples_leaf = 4\n",
            "0.5630882210841628\n",
            " min_samples_leaf = 8\n",
            "0.5743704705768674\n"
          ],
          "name": "stdout"
        }
      ]
    },
    {
      "cell_type": "code",
      "metadata": {
        "colab": {
          "base_uri": "https://localhost:8080/"
        },
        "id": "10FMXAOjRdFV",
        "outputId": "a89327db-758c-42a9-dff4-bc253fe13f9c"
      },
      "source": [
        "for i in [1,4,8]:\n",
        "    print(f' min_samples_leaf = {i}')\n",
        "    clf = DecisionTreeClassifier(min_samples_leaf=i,max_depth=3,random_state=1)\n",
        "    clf.fit(train,train_y)\n",
        "    print(roc_auc_score(test_y,clf.predict_proba(test)[:,1]))"
      ],
      "execution_count": 73,
      "outputs": [
        {
          "output_type": "stream",
          "text": [
            " min_samples_leaf = 1\n",
            "0.6348400811672625\n",
            " min_samples_leaf = 4\n",
            "0.6356343608078076\n",
            " min_samples_leaf = 8\n",
            "0.6356343608078076\n"
          ],
          "name": "stdout"
        }
      ]
    },
    {
      "cell_type": "code",
      "metadata": {
        "colab": {
          "base_uri": "https://localhost:8080/"
        },
        "id": "yj2WHGN8RzUx",
        "outputId": "74119572-c4e8-4ddc-ce65-b9cdaaa21587"
      },
      "source": [
        "tree_clf3 = DecisionTreeClassifier(max_depth=5,min_samples_leaf=10,random_state=1)\n",
        "tree_clf3.fit(train,train_y)\n",
        "\n",
        "roc_auc_score(test_y,tree_clf3.predict_proba(test)[:,1])"
      ],
      "execution_count": 74,
      "outputs": [
        {
          "output_type": "execute_result",
          "data": {
            "text/plain": [
              "0.6335607305053628"
            ]
          },
          "metadata": {
            "tags": []
          },
          "execution_count": 74
        }
      ]
    },
    {
      "cell_type": "markdown",
      "metadata": {
        "id": "6MpYRzFuIcbB"
      },
      "source": [
        "# RandomForest"
      ]
    },
    {
      "cell_type": "code",
      "metadata": {
        "id": "VuxT8-v0-tBF"
      },
      "source": [
        "from sklearn.ensemble import RandomForestClassifier\n",
        "\n",
        "clf = RandomForestClassifier(random_state=1)\n",
        "clf.fit(train,train_y)\n",
        "\n",
        "y_pred = clf.predict(test)"
      ],
      "execution_count": 75,
      "outputs": []
    },
    {
      "cell_type": "code",
      "metadata": {
        "colab": {
          "base_uri": "https://localhost:8080/"
        },
        "id": "B-W4JNSQ_nHB",
        "outputId": "457956b4-412d-4114-ec09-b01f9182c9c1"
      },
      "source": [
        "report =classification_report(test_y, y_pred, target_names=['class 0', 'class 1'])\n",
        "print(report)"
      ],
      "execution_count": 77,
      "outputs": [
        {
          "output_type": "stream",
          "text": [
            "              precision    recall  f1-score   support\n",
            "\n",
            "     class 0       0.68      0.80      0.73       655\n",
            "     class 1       0.53      0.38      0.45       395\n",
            "\n",
            "    accuracy                           0.64      1050\n",
            "   macro avg       0.61      0.59      0.59      1050\n",
            "weighted avg       0.63      0.64      0.63      1050\n",
            "\n"
          ],
          "name": "stdout"
        }
      ]
    },
    {
      "cell_type": "code",
      "metadata": {
        "colab": {
          "base_uri": "https://localhost:8080/"
        },
        "id": "yN5VYjjy_40U",
        "outputId": "33594ae5-0c15-4a63-923e-b056cc974314"
      },
      "source": [
        "lr_probs = clf.predict_proba(test)\n",
        "lr_auc = roc_auc_score(test_y, lr_probs[:,1])\n",
        "lr_auc"
      ],
      "execution_count": 79,
      "outputs": [
        {
          "output_type": "execute_result",
          "data": {
            "text/plain": [
              "0.6314078654942507"
            ]
          },
          "metadata": {
            "tags": []
          },
          "execution_count": 79
        }
      ]
    },
    {
      "cell_type": "markdown",
      "metadata": {
        "id": "SATMLgMr1FAS"
      },
      "source": [
        "# GradientBoostingClassifier"
      ]
    },
    {
      "cell_type": "code",
      "metadata": {
        "id": "s0zd8beI0QYk"
      },
      "source": [
        "from sklearn.ensemble import GradientBoostingClassifier"
      ],
      "execution_count": 80,
      "outputs": []
    },
    {
      "cell_type": "code",
      "metadata": {
        "colab": {
          "base_uri": "https://localhost:8080/"
        },
        "id": "GzICYi920Vx4",
        "outputId": "cc5d17dd-cafa-4860-ca39-6b9c38ca4bec"
      },
      "source": [
        "gbc = GradientBoostingClassifier(random_state=1)\n",
        "\n",
        "gbc.fit(train,train_y)"
      ],
      "execution_count": 81,
      "outputs": [
        {
          "output_type": "execute_result",
          "data": {
            "text/plain": [
              "GradientBoostingClassifier(ccp_alpha=0.0, criterion='friedman_mse', init=None,\n",
              "                           learning_rate=0.1, loss='deviance', max_depth=3,\n",
              "                           max_features=None, max_leaf_nodes=None,\n",
              "                           min_impurity_decrease=0.0, min_impurity_split=None,\n",
              "                           min_samples_leaf=1, min_samples_split=2,\n",
              "                           min_weight_fraction_leaf=0.0, n_estimators=100,\n",
              "                           n_iter_no_change=None, presort='deprecated',\n",
              "                           random_state=1, subsample=1.0, tol=0.0001,\n",
              "                           validation_fraction=0.1, verbose=0,\n",
              "                           warm_start=False)"
            ]
          },
          "metadata": {
            "tags": []
          },
          "execution_count": 81
        }
      ]
    },
    {
      "cell_type": "code",
      "metadata": {
        "colab": {
          "base_uri": "https://localhost:8080/"
        },
        "id": "TEzyPAsL0tUT",
        "outputId": "fb605efa-a2f3-416d-dea3-5b4f250c6a6b"
      },
      "source": [
        "s = gbc.predict_proba(test)\n",
        "\n",
        "roc_auc_score(test_y,s[:,1])"
      ],
      "execution_count": 82,
      "outputs": [
        {
          "output_type": "execute_result",
          "data": {
            "text/plain": [
              "0.6713440912165427"
            ]
          },
          "metadata": {
            "tags": []
          },
          "execution_count": 82
        }
      ]
    },
    {
      "cell_type": "markdown",
      "metadata": {
        "id": "rPYqS8RvNM02"
      },
      "source": [
        "# KNN"
      ]
    },
    {
      "cell_type": "code",
      "metadata": {
        "id": "xyY76zIXNMgh"
      },
      "source": [
        "from sklearn.neighbors import KNeighborsClassifier"
      ],
      "execution_count": 83,
      "outputs": []
    },
    {
      "cell_type": "code",
      "metadata": {
        "colab": {
          "base_uri": "https://localhost:8080/"
        },
        "id": "b_AnIjSDNQDO",
        "outputId": "448a3b27-5d7f-4c8f-ab54-99200b3486eb"
      },
      "source": [
        "knn = KNeighborsClassifier()\n",
        "\n",
        "knn.fit(train,train_y)"
      ],
      "execution_count": 84,
      "outputs": [
        {
          "output_type": "execute_result",
          "data": {
            "text/plain": [
              "KNeighborsClassifier(algorithm='auto', leaf_size=30, metric='minkowski',\n",
              "                     metric_params=None, n_jobs=None, n_neighbors=5, p=2,\n",
              "                     weights='uniform')"
            ]
          },
          "metadata": {
            "tags": []
          },
          "execution_count": 84
        }
      ]
    },
    {
      "cell_type": "code",
      "metadata": {
        "colab": {
          "base_uri": "https://localhost:8080/"
        },
        "id": "EKpSJWUeNcPw",
        "outputId": "5fcd8578-b6db-44a4-9c4b-4a664b8f9c90"
      },
      "source": [
        "roc_auc_score(test_y,knn.predict_proba(test)[:,1])"
      ],
      "execution_count": 85,
      "outputs": [
        {
          "output_type": "execute_result",
          "data": {
            "text/plain": [
              "0.6252546139723645"
            ]
          },
          "metadata": {
            "tags": []
          },
          "execution_count": 85
        }
      ]
    },
    {
      "cell_type": "markdown",
      "metadata": {
        "id": "2CQiaOJi5_Bo"
      },
      "source": [
        "# GridSearch\n",
        "## GBC"
      ]
    },
    {
      "cell_type": "code",
      "metadata": {
        "id": "vhAql_dW3lIR"
      },
      "source": [
        "from sklearn.model_selection import GridSearchCV"
      ],
      "execution_count": 86,
      "outputs": []
    },
    {
      "cell_type": "code",
      "metadata": {
        "colab": {
          "base_uri": "https://localhost:8080/"
        },
        "id": "K9Q3EpbNMlfD",
        "outputId": "2f41a3bc-6f4d-49b1-8ddc-df0b2afdade0"
      },
      "source": [
        "GBC = GradientBoostingClassifier()\n",
        "gb_param_grid = {'n_estimators' : [100,200,300],\n",
        "              'learning_rate': [0.1, 0.05, 0.01],\n",
        "              'max_depth': [3, 8],\n",
        "              'min_samples_leaf': [1,10,100],\n",
        "              'max_features': [None,0.3,0.1] \n",
        "              }\n",
        "\n",
        "gsGBC = GridSearchCV(GBC,param_grid = gb_param_grid, cv=10, scoring=\"roc_auc\", n_jobs= 4, verbose = 1)\n",
        "gsGBC.fit(train,train_y)\n",
        "GBC_best = gsGBC.best_estimator_\n",
        "\n",
        "gsGBC.best_score_"
      ],
      "execution_count": 87,
      "outputs": [
        {
          "output_type": "stream",
          "text": [
            "Fitting 10 folds for each of 162 candidates, totalling 1620 fits\n"
          ],
          "name": "stdout"
        },
        {
          "output_type": "stream",
          "text": [
            "[Parallel(n_jobs=4)]: Using backend LokyBackend with 4 concurrent workers.\n",
            "[Parallel(n_jobs=4)]: Done  42 tasks      | elapsed:   25.1s\n",
            "[Parallel(n_jobs=4)]: Done 192 tasks      | elapsed:  1.3min\n",
            "[Parallel(n_jobs=4)]: Done 442 tasks      | elapsed:  4.3min\n",
            "[Parallel(n_jobs=4)]: Done 792 tasks      | elapsed:  6.4min\n",
            "[Parallel(n_jobs=4)]: Done 1242 tasks      | elapsed: 11.0min\n",
            "[Parallel(n_jobs=4)]: Done 1620 out of 1620 | elapsed: 14.8min finished\n"
          ],
          "name": "stderr"
        },
        {
          "output_type": "execute_result",
          "data": {
            "text/plain": [
              "0.6877748706271218"
            ]
          },
          "metadata": {
            "tags": []
          },
          "execution_count": 87
        }
      ]
    },
    {
      "cell_type": "code",
      "metadata": {
        "colab": {
          "base_uri": "https://localhost:8080/"
        },
        "id": "_Fl9Ww2HRrhQ",
        "outputId": "ffb74284-0b84-4fd7-efa6-e4998102537a"
      },
      "source": [
        "gsGBC.best_params_"
      ],
      "execution_count": 88,
      "outputs": [
        {
          "output_type": "execute_result",
          "data": {
            "text/plain": [
              "{'learning_rate': 0.05,\n",
              " 'max_depth': 3,\n",
              " 'max_features': 0.1,\n",
              " 'min_samples_leaf': 1,\n",
              " 'n_estimators': 300}"
            ]
          },
          "metadata": {
            "tags": []
          },
          "execution_count": 88
        }
      ]
    },
    {
      "cell_type": "code",
      "metadata": {
        "colab": {
          "base_uri": "https://localhost:8080/"
        },
        "id": "GzQ-aTUhYIo6",
        "outputId": "d414b09b-90f0-4e29-a13e-b393f8b7299c"
      },
      "source": [
        "GBC_best.predict_proba(test)"
      ],
      "execution_count": 89,
      "outputs": [
        {
          "output_type": "execute_result",
          "data": {
            "text/plain": [
              "array([[0.71165735, 0.28834265],\n",
              "       [0.52912757, 0.47087243],\n",
              "       [0.69289179, 0.30710821],\n",
              "       ...,\n",
              "       [0.77084615, 0.22915385],\n",
              "       [0.41262358, 0.58737642],\n",
              "       [0.45249761, 0.54750239]])"
            ]
          },
          "metadata": {
            "tags": []
          },
          "execution_count": 89
        }
      ]
    },
    {
      "cell_type": "code",
      "metadata": {
        "colab": {
          "base_uri": "https://localhost:8080/"
        },
        "id": "8G9aZO1rXq0P",
        "outputId": "c5f12687-6643-4efc-fd9a-8addaadf74cd"
      },
      "source": [
        "roc_auc_score(test_y,GBC_best.predict_proba(test)[:,1])"
      ],
      "execution_count": 90,
      "outputs": [
        {
          "output_type": "execute_result",
          "data": {
            "text/plain": [
              "0.6748246207363029"
            ]
          },
          "metadata": {
            "tags": []
          },
          "execution_count": 90
        }
      ]
    },
    {
      "cell_type": "markdown",
      "metadata": {
        "id": "58tm-zjUZ8pt"
      },
      "source": [
        "## Logistic"
      ]
    },
    {
      "cell_type": "code",
      "metadata": {
        "colab": {
          "base_uri": "https://localhost:8080/"
        },
        "id": "296AyZ2JZNkM",
        "outputId": "6b565466-e526-418e-e549-b1176fe6047d"
      },
      "source": [
        "LR = LogisticRegression()\n",
        "lr_param_grid = {'C': [0.01,0.1,0.5,1.0],\n",
        "                 'solver':['newton-cg','lbfgs','sag','saga']}\n",
        "\n",
        "gsLR = GridSearchCV(LR,param_grid = lr_param_grid, cv=10, scoring=\"roc_auc\", n_jobs= 4, verbose = 1)\n",
        "gsLR.fit(train,train_y)\n",
        "LR_best = gsLR.best_estimator_\n",
        "\n",
        "gsLR.best_score_"
      ],
      "execution_count": 91,
      "outputs": [
        {
          "output_type": "stream",
          "text": [
            "Fitting 10 folds for each of 16 candidates, totalling 160 fits\n"
          ],
          "name": "stdout"
        },
        {
          "output_type": "stream",
          "text": [
            "[Parallel(n_jobs=4)]: Using backend LokyBackend with 4 concurrent workers.\n",
            "[Parallel(n_jobs=4)]: Done  76 tasks      | elapsed:    1.8s\n",
            "[Parallel(n_jobs=4)]: Done 160 out of 160 | elapsed:    4.6s finished\n"
          ],
          "name": "stderr"
        },
        {
          "output_type": "execute_result",
          "data": {
            "text/plain": [
              "0.6971017297079014"
            ]
          },
          "metadata": {
            "tags": []
          },
          "execution_count": 91
        }
      ]
    },
    {
      "cell_type": "code",
      "metadata": {
        "colab": {
          "base_uri": "https://localhost:8080/"
        },
        "id": "NNh1Z0VhcyF6",
        "outputId": "9f568cd4-7118-465c-d805-41aafcfc6317"
      },
      "source": [
        "gsLR.best_params_"
      ],
      "execution_count": 92,
      "outputs": [
        {
          "output_type": "execute_result",
          "data": {
            "text/plain": [
              "{'C': 1.0, 'solver': 'newton-cg'}"
            ]
          },
          "metadata": {
            "tags": []
          },
          "execution_count": 92
        }
      ]
    },
    {
      "cell_type": "code",
      "metadata": {
        "colab": {
          "base_uri": "https://localhost:8080/"
        },
        "id": "ezzwKGzFdARC",
        "outputId": "cb76a2d1-77e0-4b63-9352-c60ca5c4c014"
      },
      "source": [
        "LR_best.predict_proba(test)"
      ],
      "execution_count": 93,
      "outputs": [
        {
          "output_type": "execute_result",
          "data": {
            "text/plain": [
              "array([[0.68549836, 0.31450164],\n",
              "       [0.55805554, 0.44194446],\n",
              "       [0.57047993, 0.42952007],\n",
              "       ...,\n",
              "       [0.73766418, 0.26233582],\n",
              "       [0.50783444, 0.49216556],\n",
              "       [0.45908631, 0.54091369]])"
            ]
          },
          "metadata": {
            "tags": []
          },
          "execution_count": 93
        }
      ]
    },
    {
      "cell_type": "code",
      "metadata": {
        "colab": {
          "base_uri": "https://localhost:8080/"
        },
        "id": "GKo6NidSdDOg",
        "outputId": "4b37bf57-5e64-45fb-fa45-afd3156e6612"
      },
      "source": [
        "roc_auc_score(test_y,LR_best.predict_proba(test)[:,1])"
      ],
      "execution_count": 94,
      "outputs": [
        {
          "output_type": "execute_result",
          "data": {
            "text/plain": [
              "0.6853241859116823"
            ]
          },
          "metadata": {
            "tags": []
          },
          "execution_count": 94
        }
      ]
    },
    {
      "cell_type": "markdown",
      "metadata": {
        "id": "biH-IAJ6exMF"
      },
      "source": [
        "## LinearSVC"
      ]
    },
    {
      "cell_type": "code",
      "metadata": {
        "id": "WFS6Q1foR0V4",
        "colab": {
          "base_uri": "https://localhost:8080/"
        },
        "outputId": "b44fc915-e685-49a1-d3d0-4b79d9a275ce"
      },
      "source": [
        "LinearSVC()"
      ],
      "execution_count": 95,
      "outputs": [
        {
          "output_type": "execute_result",
          "data": {
            "text/plain": [
              "LinearSVC(C=1.0, class_weight=None, dual=True, fit_intercept=True,\n",
              "          intercept_scaling=1, loss='squared_hinge', max_iter=1000,\n",
              "          multi_class='ovr', penalty='l2', random_state=None, tol=0.0001,\n",
              "          verbose=0)"
            ]
          },
          "metadata": {
            "tags": []
          },
          "execution_count": 95
        }
      ]
    },
    {
      "cell_type": "code",
      "metadata": {
        "id": "CvwdcCiHe1iT",
        "colab": {
          "base_uri": "https://localhost:8080/"
        },
        "outputId": "e090bcc0-5b1d-4396-af7b-7c962f2df51f"
      },
      "source": [
        "L_SVC = LinearSVC()\n",
        "lsvc_param_grid = {'C': [0.01,0.1,0.5,1.0],\n",
        "                 'tol':[1e-4,1e-5]}\n",
        "\n",
        "gsLSVC = GridSearchCV(L_SVC,param_grid = lsvc_param_grid, cv=10, scoring=\"roc_auc\", n_jobs= 4, verbose = 1)\n",
        "gsLSVC.fit(train,train_y)\n",
        "LSVC_best = gsLSVC.best_estimator_\n",
        "\n",
        "gsLSVC.best_score_"
      ],
      "execution_count": 96,
      "outputs": [
        {
          "output_type": "stream",
          "text": [
            "Fitting 10 folds for each of 8 candidates, totalling 80 fits\n"
          ],
          "name": "stdout"
        },
        {
          "output_type": "stream",
          "text": [
            "[Parallel(n_jobs=4)]: Using backend LokyBackend with 4 concurrent workers.\n",
            "[Parallel(n_jobs=4)]: Done  80 out of  80 | elapsed:    1.7s finished\n"
          ],
          "name": "stderr"
        },
        {
          "output_type": "execute_result",
          "data": {
            "text/plain": [
              "0.696185930512556"
            ]
          },
          "metadata": {
            "tags": []
          },
          "execution_count": 96
        }
      ]
    },
    {
      "cell_type": "code",
      "metadata": {
        "colab": {
          "base_uri": "https://localhost:8080/"
        },
        "id": "uD_8vM2wSqjY",
        "outputId": "e690b688-c6d4-46e0-f5a5-7a175fb52ff6"
      },
      "source": [
        "gsLSVC.best_params_"
      ],
      "execution_count": 97,
      "outputs": [
        {
          "output_type": "execute_result",
          "data": {
            "text/plain": [
              "{'C': 0.1, 'tol': 0.0001}"
            ]
          },
          "metadata": {
            "tags": []
          },
          "execution_count": 97
        }
      ]
    },
    {
      "cell_type": "code",
      "metadata": {
        "colab": {
          "base_uri": "https://localhost:8080/"
        },
        "id": "abqnwuwjSw54",
        "outputId": "2d16099c-3e1d-4c5c-89a8-fb3e439d9be5"
      },
      "source": [
        "roc_auc_score(test_y,LSVC_best.decision_function(test))"
      ],
      "execution_count": 98,
      "outputs": [
        {
          "output_type": "execute_result",
          "data": {
            "text/plain": [
              "0.6852623441878443"
            ]
          },
          "metadata": {
            "tags": []
          },
          "execution_count": 98
        }
      ]
    },
    {
      "cell_type": "markdown",
      "metadata": {
        "id": "iAYHcpAuZVPv"
      },
      "source": [
        "# Voting"
      ]
    },
    {
      "cell_type": "code",
      "metadata": {
        "id": "-e7eYYAUZX47"
      },
      "source": [
        "from sklearn.ensemble import VotingClassifier"
      ],
      "execution_count": 99,
      "outputs": []
    },
    {
      "cell_type": "code",
      "metadata": {
        "id": "r3tXySY8ZroD"
      },
      "source": [
        "voting = VotingClassifier(estimators=[('gbc', GBC_best),('lr',LR_best)], voting='soft', n_jobs=4)\n",
        "voting_c = voting.fit(train,train_y)"
      ],
      "execution_count": 100,
      "outputs": []
    },
    {
      "cell_type": "code",
      "metadata": {
        "colab": {
          "base_uri": "https://localhost:8080/"
        },
        "id": "xz8LMWmt_eEi",
        "outputId": "a4d53dd6-7020-41d5-8783-33f5a3115d89"
      },
      "source": [
        "roc_auc_score(test_y,voting_c.predict_proba(test)[:,1])"
      ],
      "execution_count": 101,
      "outputs": [
        {
          "output_type": "execute_result",
          "data": {
            "text/plain": [
              "0.6833723065030437"
            ]
          },
          "metadata": {
            "tags": []
          },
          "execution_count": 101
        }
      ]
    },
    {
      "cell_type": "markdown",
      "metadata": {
        "id": "CyOIQbZgDKal"
      },
      "source": [
        "# result"
      ]
    },
    {
      "cell_type": "code",
      "metadata": {
        "colab": {
          "base_uri": "https://localhost:8080/",
          "height": 143
        },
        "id": "Ga1_QBn6awqS",
        "outputId": "3f526463-6ea9-46a1-a987-0fdc1efcc62c"
      },
      "source": [
        "test_gender = pd.Series(LR_best.predict_proba(TEST[rfe_features])[:,1], name=\"gender\")\n",
        "results= pd.concat([X_test.cust_id,test_gender],axis=1)\n",
        "results.head(3)"
      ],
      "execution_count": 104,
      "outputs": [
        {
          "output_type": "execute_result",
          "data": {
            "text/html": [
              "<div>\n",
              "<style scoped>\n",
              "    .dataframe tbody tr th:only-of-type {\n",
              "        vertical-align: middle;\n",
              "    }\n",
              "\n",
              "    .dataframe tbody tr th {\n",
              "        vertical-align: top;\n",
              "    }\n",
              "\n",
              "    .dataframe thead th {\n",
              "        text-align: right;\n",
              "    }\n",
              "</style>\n",
              "<table border=\"1\" class=\"dataframe\">\n",
              "  <thead>\n",
              "    <tr style=\"text-align: right;\">\n",
              "      <th></th>\n",
              "      <th>cust_id</th>\n",
              "      <th>gender</th>\n",
              "    </tr>\n",
              "  </thead>\n",
              "  <tbody>\n",
              "    <tr>\n",
              "      <th>0</th>\n",
              "      <td>3500</td>\n",
              "      <td>0.352043</td>\n",
              "    </tr>\n",
              "    <tr>\n",
              "      <th>1</th>\n",
              "      <td>3501</td>\n",
              "      <td>0.125583</td>\n",
              "    </tr>\n",
              "    <tr>\n",
              "      <th>2</th>\n",
              "      <td>3502</td>\n",
              "      <td>0.223916</td>\n",
              "    </tr>\n",
              "  </tbody>\n",
              "</table>\n",
              "</div>"
            ],
            "text/plain": [
              "   cust_id    gender\n",
              "0     3500  0.352043\n",
              "1     3501  0.125583\n",
              "2     3502  0.223916"
            ]
          },
          "metadata": {
            "tags": []
          },
          "execution_count": 104
        }
      ]
    },
    {
      "cell_type": "code",
      "metadata": {
        "id": "S2Lni5Z8cWei"
      },
      "source": [
        "results.to_csv(\"ensemble_voting.csv\",index=False)"
      ],
      "execution_count": null,
      "outputs": []
    }
  ]
}