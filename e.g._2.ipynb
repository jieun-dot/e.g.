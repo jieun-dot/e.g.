{
  "nbformat": 4,
  "nbformat_minor": 0,
  "metadata": {
    "colab": {
      "name": "빅분기_실기_작업형2_예제.ipynb",
      "provenance": [],
      "collapsed_sections": [],
      "toc_visible": true,
      "mount_file_id": "1KSDoua7SlKu72PePSbeLUVPc39gRi2Um",
      "authorship_tag": "ABX9TyOgxObaqoFbetzunZavA1C4",
      "include_colab_link": true
    },
    "kernelspec": {
      "name": "python3",
      "display_name": "Python 3"
    },
    "language_info": {
      "name": "python"
    }
  },
  "cells": [
    {
      "cell_type": "markdown",
      "metadata": {
        "id": "view-in-github",
        "colab_type": "text"
      },
      "source": [
        "<a href=\"https://colab.research.google.com/github/jieun-dot/e.g./blob/main/e.g._2.ipynb\" target=\"_parent\"><img src=\"https://colab.research.google.com/assets/colab-badge.svg\" alt=\"Open In Colab\"/></a>"
      ]
    },
    {
      "cell_type": "code",
      "metadata": {
        "id": "FwvKYT0Vu3p_"
      },
      "source": [
        "import pandas as pd"
      ],
      "execution_count": null,
      "outputs": []
    },
    {
      "cell_type": "code",
      "metadata": {
        "id": "91IWntBcvdZK"
      },
      "source": [
        "X_train = pd.read_csv('/content/drive/MyDrive/ex_data/X_train.csv', encoding='cp949')\n",
        "y_train = pd.read_csv('/content/drive/MyDrive/ex_data/y_train.csv',encoding='cp949')\n",
        "X_test = pd.read_csv('/content/drive/MyDrive/ex_data/X_test.csv',encoding='cp949')"
      ],
      "execution_count": null,
      "outputs": []
    },
    {
      "cell_type": "code",
      "metadata": {
        "id": "cgUyY10CyMdC"
      },
      "source": [
        "train = pd.merge(X_train,y_train)"
      ],
      "execution_count": null,
      "outputs": []
    },
    {
      "cell_type": "code",
      "metadata": {
        "colab": {
          "base_uri": "https://localhost:8080/",
          "height": 202
        },
        "id": "0tg6nPwj250-",
        "outputId": "ad98bcea-6d1e-4564-b07a-2219cf6d6161"
      },
      "source": [
        "train.head()"
      ],
      "execution_count": null,
      "outputs": [
        {
          "output_type": "execute_result",
          "data": {
            "text/html": [
              "<div>\n",
              "<style scoped>\n",
              "    .dataframe tbody tr th:only-of-type {\n",
              "        vertical-align: middle;\n",
              "    }\n",
              "\n",
              "    .dataframe tbody tr th {\n",
              "        vertical-align: top;\n",
              "    }\n",
              "\n",
              "    .dataframe thead th {\n",
              "        text-align: right;\n",
              "    }\n",
              "</style>\n",
              "<table border=\"1\" class=\"dataframe\">\n",
              "  <thead>\n",
              "    <tr style=\"text-align: right;\">\n",
              "      <th></th>\n",
              "      <th>cust_id</th>\n",
              "      <th>총구매액</th>\n",
              "      <th>최대구매액</th>\n",
              "      <th>환불금액</th>\n",
              "      <th>주구매상품</th>\n",
              "      <th>주구매지점</th>\n",
              "      <th>내점일수</th>\n",
              "      <th>내점당구매건수</th>\n",
              "      <th>주말방문비율</th>\n",
              "      <th>구매주기</th>\n",
              "      <th>gender</th>\n",
              "    </tr>\n",
              "  </thead>\n",
              "  <tbody>\n",
              "    <tr>\n",
              "      <th>0</th>\n",
              "      <td>0</td>\n",
              "      <td>68282840</td>\n",
              "      <td>11264000</td>\n",
              "      <td>6860000.0</td>\n",
              "      <td>기타</td>\n",
              "      <td>강남점</td>\n",
              "      <td>19</td>\n",
              "      <td>3.894737</td>\n",
              "      <td>0.527027</td>\n",
              "      <td>17</td>\n",
              "      <td>0</td>\n",
              "    </tr>\n",
              "    <tr>\n",
              "      <th>1</th>\n",
              "      <td>1</td>\n",
              "      <td>2136000</td>\n",
              "      <td>2136000</td>\n",
              "      <td>300000.0</td>\n",
              "      <td>스포츠</td>\n",
              "      <td>잠실점</td>\n",
              "      <td>2</td>\n",
              "      <td>1.500000</td>\n",
              "      <td>0.000000</td>\n",
              "      <td>1</td>\n",
              "      <td>0</td>\n",
              "    </tr>\n",
              "    <tr>\n",
              "      <th>2</th>\n",
              "      <td>2</td>\n",
              "      <td>3197000</td>\n",
              "      <td>1639000</td>\n",
              "      <td>NaN</td>\n",
              "      <td>남성 캐주얼</td>\n",
              "      <td>관악점</td>\n",
              "      <td>2</td>\n",
              "      <td>2.000000</td>\n",
              "      <td>0.000000</td>\n",
              "      <td>1</td>\n",
              "      <td>1</td>\n",
              "    </tr>\n",
              "    <tr>\n",
              "      <th>3</th>\n",
              "      <td>3</td>\n",
              "      <td>16077620</td>\n",
              "      <td>4935000</td>\n",
              "      <td>NaN</td>\n",
              "      <td>기타</td>\n",
              "      <td>광주점</td>\n",
              "      <td>18</td>\n",
              "      <td>2.444444</td>\n",
              "      <td>0.318182</td>\n",
              "      <td>16</td>\n",
              "      <td>1</td>\n",
              "    </tr>\n",
              "    <tr>\n",
              "      <th>4</th>\n",
              "      <td>4</td>\n",
              "      <td>29050000</td>\n",
              "      <td>24000000</td>\n",
              "      <td>NaN</td>\n",
              "      <td>보석</td>\n",
              "      <td>본  점</td>\n",
              "      <td>2</td>\n",
              "      <td>1.500000</td>\n",
              "      <td>0.000000</td>\n",
              "      <td>85</td>\n",
              "      <td>0</td>\n",
              "    </tr>\n",
              "  </tbody>\n",
              "</table>\n",
              "</div>"
            ],
            "text/plain": [
              "   cust_id      총구매액     최대구매액       환불금액  ...   내점당구매건수    주말방문비율  구매주기  gender\n",
              "0        0  68282840  11264000  6860000.0  ...  3.894737  0.527027    17       0\n",
              "1        1   2136000   2136000   300000.0  ...  1.500000  0.000000     1       0\n",
              "2        2   3197000   1639000        NaN  ...  2.000000  0.000000     1       1\n",
              "3        3  16077620   4935000        NaN  ...  2.444444  0.318182    16       1\n",
              "4        4  29050000  24000000        NaN  ...  1.500000  0.000000    85       0\n",
              "\n",
              "[5 rows x 11 columns]"
            ]
          },
          "metadata": {
            "tags": []
          },
          "execution_count": 4
        }
      ]
    },
    {
      "cell_type": "code",
      "metadata": {
        "colab": {
          "base_uri": "https://localhost:8080/",
          "height": 294
        },
        "id": "7xGCzwvD27Cg",
        "outputId": "3b19b594-b565-479b-cf5d-6500fef64db7"
      },
      "source": [
        "train.describe()"
      ],
      "execution_count": null,
      "outputs": [
        {
          "output_type": "execute_result",
          "data": {
            "text/html": [
              "<div>\n",
              "<style scoped>\n",
              "    .dataframe tbody tr th:only-of-type {\n",
              "        vertical-align: middle;\n",
              "    }\n",
              "\n",
              "    .dataframe tbody tr th {\n",
              "        vertical-align: top;\n",
              "    }\n",
              "\n",
              "    .dataframe thead th {\n",
              "        text-align: right;\n",
              "    }\n",
              "</style>\n",
              "<table border=\"1\" class=\"dataframe\">\n",
              "  <thead>\n",
              "    <tr style=\"text-align: right;\">\n",
              "      <th></th>\n",
              "      <th>cust_id</th>\n",
              "      <th>총구매액</th>\n",
              "      <th>최대구매액</th>\n",
              "      <th>환불금액</th>\n",
              "      <th>내점일수</th>\n",
              "      <th>내점당구매건수</th>\n",
              "      <th>주말방문비율</th>\n",
              "      <th>구매주기</th>\n",
              "      <th>gender</th>\n",
              "    </tr>\n",
              "  </thead>\n",
              "  <tbody>\n",
              "    <tr>\n",
              "      <th>count</th>\n",
              "      <td>3500.000000</td>\n",
              "      <td>3.500000e+03</td>\n",
              "      <td>3.500000e+03</td>\n",
              "      <td>1.205000e+03</td>\n",
              "      <td>3500.000000</td>\n",
              "      <td>3500.000000</td>\n",
              "      <td>3500.000000</td>\n",
              "      <td>3500.000000</td>\n",
              "      <td>3500.000000</td>\n",
              "    </tr>\n",
              "    <tr>\n",
              "      <th>mean</th>\n",
              "      <td>1749.500000</td>\n",
              "      <td>9.191925e+07</td>\n",
              "      <td>1.966424e+07</td>\n",
              "      <td>2.407822e+07</td>\n",
              "      <td>19.253714</td>\n",
              "      <td>2.834963</td>\n",
              "      <td>0.307246</td>\n",
              "      <td>20.958286</td>\n",
              "      <td>0.376000</td>\n",
              "    </tr>\n",
              "    <tr>\n",
              "      <th>std</th>\n",
              "      <td>1010.507298</td>\n",
              "      <td>1.635065e+08</td>\n",
              "      <td>3.199235e+07</td>\n",
              "      <td>4.746453e+07</td>\n",
              "      <td>27.174942</td>\n",
              "      <td>1.912368</td>\n",
              "      <td>0.289752</td>\n",
              "      <td>24.748682</td>\n",
              "      <td>0.484449</td>\n",
              "    </tr>\n",
              "    <tr>\n",
              "      <th>min</th>\n",
              "      <td>0.000000</td>\n",
              "      <td>-5.242152e+07</td>\n",
              "      <td>-2.992000e+06</td>\n",
              "      <td>5.600000e+03</td>\n",
              "      <td>1.000000</td>\n",
              "      <td>1.000000</td>\n",
              "      <td>0.000000</td>\n",
              "      <td>0.000000</td>\n",
              "      <td>0.000000</td>\n",
              "    </tr>\n",
              "    <tr>\n",
              "      <th>25%</th>\n",
              "      <td>874.750000</td>\n",
              "      <td>4.747050e+06</td>\n",
              "      <td>2.875000e+06</td>\n",
              "      <td>2.259000e+06</td>\n",
              "      <td>2.000000</td>\n",
              "      <td>1.666667</td>\n",
              "      <td>0.027291</td>\n",
              "      <td>4.000000</td>\n",
              "      <td>0.000000</td>\n",
              "    </tr>\n",
              "    <tr>\n",
              "      <th>50%</th>\n",
              "      <td>1749.500000</td>\n",
              "      <td>2.822270e+07</td>\n",
              "      <td>9.837000e+06</td>\n",
              "      <td>7.392000e+06</td>\n",
              "      <td>8.000000</td>\n",
              "      <td>2.333333</td>\n",
              "      <td>0.256410</td>\n",
              "      <td>13.000000</td>\n",
              "      <td>0.000000</td>\n",
              "    </tr>\n",
              "    <tr>\n",
              "      <th>75%</th>\n",
              "      <td>2624.250000</td>\n",
              "      <td>1.065079e+08</td>\n",
              "      <td>2.296250e+07</td>\n",
              "      <td>2.412000e+07</td>\n",
              "      <td>25.000000</td>\n",
              "      <td>3.375000</td>\n",
              "      <td>0.448980</td>\n",
              "      <td>28.000000</td>\n",
              "      <td>1.000000</td>\n",
              "    </tr>\n",
              "    <tr>\n",
              "      <th>max</th>\n",
              "      <td>3499.000000</td>\n",
              "      <td>2.323180e+09</td>\n",
              "      <td>7.066290e+08</td>\n",
              "      <td>5.637530e+08</td>\n",
              "      <td>285.000000</td>\n",
              "      <td>22.083333</td>\n",
              "      <td>1.000000</td>\n",
              "      <td>166.000000</td>\n",
              "      <td>1.000000</td>\n",
              "    </tr>\n",
              "  </tbody>\n",
              "</table>\n",
              "</div>"
            ],
            "text/plain": [
              "           cust_id          총구매액  ...         구매주기       gender\n",
              "count  3500.000000  3.500000e+03  ...  3500.000000  3500.000000\n",
              "mean   1749.500000  9.191925e+07  ...    20.958286     0.376000\n",
              "std    1010.507298  1.635065e+08  ...    24.748682     0.484449\n",
              "min       0.000000 -5.242152e+07  ...     0.000000     0.000000\n",
              "25%     874.750000  4.747050e+06  ...     4.000000     0.000000\n",
              "50%    1749.500000  2.822270e+07  ...    13.000000     0.000000\n",
              "75%    2624.250000  1.065079e+08  ...    28.000000     1.000000\n",
              "max    3499.000000  2.323180e+09  ...   166.000000     1.000000\n",
              "\n",
              "[8 rows x 9 columns]"
            ]
          },
          "metadata": {
            "tags": []
          },
          "execution_count": 5
        }
      ]
    },
    {
      "cell_type": "code",
      "metadata": {
        "id": "Vdfl9SKD3T8w"
      },
      "source": [
        "train['환불금액'] = train['환불금액'].fillna(0)"
      ],
      "execution_count": null,
      "outputs": []
    },
    {
      "cell_type": "code",
      "metadata": {
        "colab": {
          "base_uri": "https://localhost:8080/"
        },
        "id": "SZQDRNDZ3ioW",
        "outputId": "42f4bd68-7fb1-4280-b6e4-35e83cab6e96"
      },
      "source": [
        "train['환불금액'].describe()"
      ],
      "execution_count": null,
      "outputs": [
        {
          "output_type": "execute_result",
          "data": {
            "text/plain": [
              "count    3.500000e+03\n",
              "mean     8.289786e+06\n",
              "std      3.010204e+07\n",
              "min      0.000000e+00\n",
              "25%      0.000000e+00\n",
              "50%      0.000000e+00\n",
              "75%      2.642250e+06\n",
              "max      5.637530e+08\n",
              "Name: 환불금액, dtype: float64"
            ]
          },
          "metadata": {
            "tags": []
          },
          "execution_count": 7
        }
      ]
    },
    {
      "cell_type": "code",
      "metadata": {
        "id": "Bwn1R_cv72xh"
      },
      "source": [
        "train['총구매액'] = train.총구매액.apply(lambda x: -x if x < 0 else x)\n",
        "train['최대구매액'] = train.최대구매액.apply(lambda x: -x if x < 0 else x)"
      ],
      "execution_count": null,
      "outputs": []
    },
    {
      "cell_type": "code",
      "metadata": {
        "colab": {
          "base_uri": "https://localhost:8080/",
          "height": 294
        },
        "id": "8CXnCV8G7-_t",
        "outputId": "19070014-8d32-4efc-d842-5cd64ca1014e"
      },
      "source": [
        "train.describe()"
      ],
      "execution_count": null,
      "outputs": [
        {
          "output_type": "execute_result",
          "data": {
            "text/html": [
              "<div>\n",
              "<style scoped>\n",
              "    .dataframe tbody tr th:only-of-type {\n",
              "        vertical-align: middle;\n",
              "    }\n",
              "\n",
              "    .dataframe tbody tr th {\n",
              "        vertical-align: top;\n",
              "    }\n",
              "\n",
              "    .dataframe thead th {\n",
              "        text-align: right;\n",
              "    }\n",
              "</style>\n",
              "<table border=\"1\" class=\"dataframe\">\n",
              "  <thead>\n",
              "    <tr style=\"text-align: right;\">\n",
              "      <th></th>\n",
              "      <th>cust_id</th>\n",
              "      <th>총구매액</th>\n",
              "      <th>최대구매액</th>\n",
              "      <th>환불금액</th>\n",
              "      <th>내점일수</th>\n",
              "      <th>내점당구매건수</th>\n",
              "      <th>주말방문비율</th>\n",
              "      <th>구매주기</th>\n",
              "      <th>gender</th>\n",
              "    </tr>\n",
              "  </thead>\n",
              "  <tbody>\n",
              "    <tr>\n",
              "      <th>count</th>\n",
              "      <td>3500.000000</td>\n",
              "      <td>3.500000e+03</td>\n",
              "      <td>3.500000e+03</td>\n",
              "      <td>3.500000e+03</td>\n",
              "      <td>3500.000000</td>\n",
              "      <td>3500.000000</td>\n",
              "      <td>3500.000000</td>\n",
              "      <td>3500.000000</td>\n",
              "      <td>3500.000000</td>\n",
              "    </tr>\n",
              "    <tr>\n",
              "      <th>mean</th>\n",
              "      <td>1749.500000</td>\n",
              "      <td>9.196172e+07</td>\n",
              "      <td>1.966595e+07</td>\n",
              "      <td>8.289786e+06</td>\n",
              "      <td>19.253714</td>\n",
              "      <td>2.834963</td>\n",
              "      <td>0.307246</td>\n",
              "      <td>20.958286</td>\n",
              "      <td>0.376000</td>\n",
              "    </tr>\n",
              "    <tr>\n",
              "      <th>std</th>\n",
              "      <td>1010.507298</td>\n",
              "      <td>1.634826e+08</td>\n",
              "      <td>3.199130e+07</td>\n",
              "      <td>3.010204e+07</td>\n",
              "      <td>27.174942</td>\n",
              "      <td>1.912368</td>\n",
              "      <td>0.289752</td>\n",
              "      <td>24.748682</td>\n",
              "      <td>0.484449</td>\n",
              "    </tr>\n",
              "    <tr>\n",
              "      <th>min</th>\n",
              "      <td>0.000000</td>\n",
              "      <td>0.000000e+00</td>\n",
              "      <td>5.000000e+03</td>\n",
              "      <td>0.000000e+00</td>\n",
              "      <td>1.000000</td>\n",
              "      <td>1.000000</td>\n",
              "      <td>0.000000</td>\n",
              "      <td>0.000000</td>\n",
              "      <td>0.000000</td>\n",
              "    </tr>\n",
              "    <tr>\n",
              "      <th>25%</th>\n",
              "      <td>874.750000</td>\n",
              "      <td>4.765000e+06</td>\n",
              "      <td>2.875000e+06</td>\n",
              "      <td>0.000000e+00</td>\n",
              "      <td>2.000000</td>\n",
              "      <td>1.666667</td>\n",
              "      <td>0.027291</td>\n",
              "      <td>4.000000</td>\n",
              "      <td>0.000000</td>\n",
              "    </tr>\n",
              "    <tr>\n",
              "      <th>50%</th>\n",
              "      <td>1749.500000</td>\n",
              "      <td>2.827170e+07</td>\n",
              "      <td>9.837000e+06</td>\n",
              "      <td>0.000000e+00</td>\n",
              "      <td>8.000000</td>\n",
              "      <td>2.333333</td>\n",
              "      <td>0.256410</td>\n",
              "      <td>13.000000</td>\n",
              "      <td>0.000000</td>\n",
              "    </tr>\n",
              "    <tr>\n",
              "      <th>75%</th>\n",
              "      <td>2624.250000</td>\n",
              "      <td>1.065079e+08</td>\n",
              "      <td>2.296250e+07</td>\n",
              "      <td>2.642250e+06</td>\n",
              "      <td>25.000000</td>\n",
              "      <td>3.375000</td>\n",
              "      <td>0.448980</td>\n",
              "      <td>28.000000</td>\n",
              "      <td>1.000000</td>\n",
              "    </tr>\n",
              "    <tr>\n",
              "      <th>max</th>\n",
              "      <td>3499.000000</td>\n",
              "      <td>2.323180e+09</td>\n",
              "      <td>7.066290e+08</td>\n",
              "      <td>5.637530e+08</td>\n",
              "      <td>285.000000</td>\n",
              "      <td>22.083333</td>\n",
              "      <td>1.000000</td>\n",
              "      <td>166.000000</td>\n",
              "      <td>1.000000</td>\n",
              "    </tr>\n",
              "  </tbody>\n",
              "</table>\n",
              "</div>"
            ],
            "text/plain": [
              "           cust_id          총구매액  ...         구매주기       gender\n",
              "count  3500.000000  3.500000e+03  ...  3500.000000  3500.000000\n",
              "mean   1749.500000  9.196172e+07  ...    20.958286     0.376000\n",
              "std    1010.507298  1.634826e+08  ...    24.748682     0.484449\n",
              "min       0.000000  0.000000e+00  ...     0.000000     0.000000\n",
              "25%     874.750000  4.765000e+06  ...     4.000000     0.000000\n",
              "50%    1749.500000  2.827170e+07  ...    13.000000     0.000000\n",
              "75%    2624.250000  1.065079e+08  ...    28.000000     1.000000\n",
              "max    3499.000000  2.323180e+09  ...   166.000000     1.000000\n",
              "\n",
              "[8 rows x 9 columns]"
            ]
          },
          "metadata": {
            "tags": []
          },
          "execution_count": 13
        }
      ]
    },
    {
      "cell_type": "code",
      "metadata": {
        "colab": {
          "base_uri": "https://localhost:8080/",
          "height": 294
        },
        "id": "BJ8PYOqaPu0A",
        "outputId": "3380f2e9-c069-488c-c1c2-1befebbc0e67"
      },
      "source": [
        "X_test.describe()"
      ],
      "execution_count": null,
      "outputs": [
        {
          "output_type": "execute_result",
          "data": {
            "text/html": [
              "<div>\n",
              "<style scoped>\n",
              "    .dataframe tbody tr th:only-of-type {\n",
              "        vertical-align: middle;\n",
              "    }\n",
              "\n",
              "    .dataframe tbody tr th {\n",
              "        vertical-align: top;\n",
              "    }\n",
              "\n",
              "    .dataframe thead th {\n",
              "        text-align: right;\n",
              "    }\n",
              "</style>\n",
              "<table border=\"1\" class=\"dataframe\">\n",
              "  <thead>\n",
              "    <tr style=\"text-align: right;\">\n",
              "      <th></th>\n",
              "      <th>cust_id</th>\n",
              "      <th>총구매액</th>\n",
              "      <th>최대구매액</th>\n",
              "      <th>환불금액</th>\n",
              "      <th>내점일수</th>\n",
              "      <th>내점당구매건수</th>\n",
              "      <th>주말방문비율</th>\n",
              "      <th>구매주기</th>\n",
              "    </tr>\n",
              "  </thead>\n",
              "  <tbody>\n",
              "    <tr>\n",
              "      <th>count</th>\n",
              "      <td>2482.000000</td>\n",
              "      <td>2.482000e+03</td>\n",
              "      <td>2.482000e+03</td>\n",
              "      <td>8.710000e+02</td>\n",
              "      <td>2482.000000</td>\n",
              "      <td>2482.000000</td>\n",
              "      <td>2482.000000</td>\n",
              "      <td>2482.000000</td>\n",
              "    </tr>\n",
              "    <tr>\n",
              "      <th>mean</th>\n",
              "      <td>4740.500000</td>\n",
              "      <td>1.010275e+08</td>\n",
              "      <td>2.177048e+07</td>\n",
              "      <td>2.554716e+07</td>\n",
              "      <td>19.516922</td>\n",
              "      <td>2.819388</td>\n",
              "      <td>0.293812</td>\n",
              "      <td>20.286060</td>\n",
              "    </tr>\n",
              "    <tr>\n",
              "      <th>std</th>\n",
              "      <td>716.636007</td>\n",
              "      <td>1.732132e+08</td>\n",
              "      <td>3.504919e+07</td>\n",
              "      <td>5.944074e+07</td>\n",
              "      <td>25.973972</td>\n",
              "      <td>1.754550</td>\n",
              "      <td>0.282600</td>\n",
              "      <td>24.108756</td>\n",
              "    </tr>\n",
              "    <tr>\n",
              "      <th>min</th>\n",
              "      <td>3500.000000</td>\n",
              "      <td>-3.744000e+07</td>\n",
              "      <td>-3.744000e+07</td>\n",
              "      <td>1.000000e+04</td>\n",
              "      <td>1.000000</td>\n",
              "      <td>1.000000</td>\n",
              "      <td>0.000000</td>\n",
              "      <td>0.000000</td>\n",
              "    </tr>\n",
              "    <tr>\n",
              "      <th>25%</th>\n",
              "      <td>4120.250000</td>\n",
              "      <td>5.076868e+06</td>\n",
              "      <td>2.884350e+06</td>\n",
              "      <td>2.414000e+06</td>\n",
              "      <td>2.000000</td>\n",
              "      <td>1.750000</td>\n",
              "      <td>0.023456</td>\n",
              "      <td>4.000000</td>\n",
              "    </tr>\n",
              "    <tr>\n",
              "      <th>50%</th>\n",
              "      <td>4740.500000</td>\n",
              "      <td>3.051686e+07</td>\n",
              "      <td>1.075250e+07</td>\n",
              "      <td>8.100000e+06</td>\n",
              "      <td>9.000000</td>\n",
              "      <td>2.430952</td>\n",
              "      <td>0.250000</td>\n",
              "      <td>13.000000</td>\n",
              "    </tr>\n",
              "    <tr>\n",
              "      <th>75%</th>\n",
              "      <td>5360.750000</td>\n",
              "      <td>1.264255e+08</td>\n",
              "      <td>2.627700e+07</td>\n",
              "      <td>2.228090e+07</td>\n",
              "      <td>26.750000</td>\n",
              "      <td>3.375000</td>\n",
              "      <td>0.423566</td>\n",
              "      <td>27.000000</td>\n",
              "    </tr>\n",
              "    <tr>\n",
              "      <th>max</th>\n",
              "      <td>5981.000000</td>\n",
              "      <td>2.861238e+09</td>\n",
              "      <td>5.932250e+08</td>\n",
              "      <td>8.715144e+08</td>\n",
              "      <td>222.000000</td>\n",
              "      <td>15.875000</td>\n",
              "      <td>1.000000</td>\n",
              "      <td>177.000000</td>\n",
              "    </tr>\n",
              "  </tbody>\n",
              "</table>\n",
              "</div>"
            ],
            "text/plain": [
              "           cust_id          총구매액  ...       주말방문비율         구매주기\n",
              "count  2482.000000  2.482000e+03  ...  2482.000000  2482.000000\n",
              "mean   4740.500000  1.010275e+08  ...     0.293812    20.286060\n",
              "std     716.636007  1.732132e+08  ...     0.282600    24.108756\n",
              "min    3500.000000 -3.744000e+07  ...     0.000000     0.000000\n",
              "25%    4120.250000  5.076868e+06  ...     0.023456     4.000000\n",
              "50%    4740.500000  3.051686e+07  ...     0.250000    13.000000\n",
              "75%    5360.750000  1.264255e+08  ...     0.423566    27.000000\n",
              "max    5981.000000  2.861238e+09  ...     1.000000   177.000000\n",
              "\n",
              "[8 rows x 8 columns]"
            ]
          },
          "metadata": {
            "tags": []
          },
          "execution_count": 14
        }
      ]
    },
    {
      "cell_type": "code",
      "metadata": {
        "id": "Atx_nbtYP1Vg"
      },
      "source": [
        "X_test['환불금액'] = X_test['환불금액'].fillna(0)\n",
        "X_test['총구매액'] = X_test.총구매액.apply(lambda x: -x if x < 0 else x)\n",
        "X_test['최대구매액'] = X_test.최대구매액.apply(lambda x: -x if x < 0 else x)"
      ],
      "execution_count": null,
      "outputs": []
    },
    {
      "cell_type": "code",
      "metadata": {
        "colab": {
          "base_uri": "https://localhost:8080/",
          "height": 294
        },
        "id": "cdsQ_00nQEZw",
        "outputId": "f51c23f0-f19b-4750-c571-34b314f7a088"
      },
      "source": [
        "X_test.describe()"
      ],
      "execution_count": null,
      "outputs": [
        {
          "output_type": "execute_result",
          "data": {
            "text/html": [
              "<div>\n",
              "<style scoped>\n",
              "    .dataframe tbody tr th:only-of-type {\n",
              "        vertical-align: middle;\n",
              "    }\n",
              "\n",
              "    .dataframe tbody tr th {\n",
              "        vertical-align: top;\n",
              "    }\n",
              "\n",
              "    .dataframe thead th {\n",
              "        text-align: right;\n",
              "    }\n",
              "</style>\n",
              "<table border=\"1\" class=\"dataframe\">\n",
              "  <thead>\n",
              "    <tr style=\"text-align: right;\">\n",
              "      <th></th>\n",
              "      <th>cust_id</th>\n",
              "      <th>총구매액</th>\n",
              "      <th>최대구매액</th>\n",
              "      <th>환불금액</th>\n",
              "      <th>내점일수</th>\n",
              "      <th>내점당구매건수</th>\n",
              "      <th>주말방문비율</th>\n",
              "      <th>구매주기</th>\n",
              "    </tr>\n",
              "  </thead>\n",
              "  <tbody>\n",
              "    <tr>\n",
              "      <th>count</th>\n",
              "      <td>2482.000000</td>\n",
              "      <td>2.482000e+03</td>\n",
              "      <td>2.482000e+03</td>\n",
              "      <td>2.482000e+03</td>\n",
              "      <td>2482.000000</td>\n",
              "      <td>2482.000000</td>\n",
              "      <td>2482.000000</td>\n",
              "      <td>2482.000000</td>\n",
              "    </tr>\n",
              "    <tr>\n",
              "      <th>mean</th>\n",
              "      <td>4740.500000</td>\n",
              "      <td>1.010578e+08</td>\n",
              "      <td>2.180077e+07</td>\n",
              "      <td>8.965179e+06</td>\n",
              "      <td>19.516922</td>\n",
              "      <td>2.819388</td>\n",
              "      <td>0.293812</td>\n",
              "      <td>20.286060</td>\n",
              "    </tr>\n",
              "    <tr>\n",
              "      <th>std</th>\n",
              "      <td>716.636007</td>\n",
              "      <td>1.731955e+08</td>\n",
              "      <td>3.503035e+07</td>\n",
              "      <td>3.725172e+07</td>\n",
              "      <td>25.973972</td>\n",
              "      <td>1.754550</td>\n",
              "      <td>0.282600</td>\n",
              "      <td>24.108756</td>\n",
              "    </tr>\n",
              "    <tr>\n",
              "      <th>min</th>\n",
              "      <td>3500.000000</td>\n",
              "      <td>0.000000e+00</td>\n",
              "      <td>5.500000e+03</td>\n",
              "      <td>0.000000e+00</td>\n",
              "      <td>1.000000</td>\n",
              "      <td>1.000000</td>\n",
              "      <td>0.000000</td>\n",
              "      <td>0.000000</td>\n",
              "    </tr>\n",
              "    <tr>\n",
              "      <th>25%</th>\n",
              "      <td>4120.250000</td>\n",
              "      <td>5.086102e+06</td>\n",
              "      <td>2.898050e+06</td>\n",
              "      <td>0.000000e+00</td>\n",
              "      <td>2.000000</td>\n",
              "      <td>1.750000</td>\n",
              "      <td>0.023456</td>\n",
              "      <td>4.000000</td>\n",
              "    </tr>\n",
              "    <tr>\n",
              "      <th>50%</th>\n",
              "      <td>4740.500000</td>\n",
              "      <td>3.067452e+07</td>\n",
              "      <td>1.076550e+07</td>\n",
              "      <td>0.000000e+00</td>\n",
              "      <td>9.000000</td>\n",
              "      <td>2.430952</td>\n",
              "      <td>0.250000</td>\n",
              "      <td>13.000000</td>\n",
              "    </tr>\n",
              "    <tr>\n",
              "      <th>75%</th>\n",
              "      <td>5360.750000</td>\n",
              "      <td>1.264255e+08</td>\n",
              "      <td>2.631375e+07</td>\n",
              "      <td>2.974250e+06</td>\n",
              "      <td>26.750000</td>\n",
              "      <td>3.375000</td>\n",
              "      <td>0.423566</td>\n",
              "      <td>27.000000</td>\n",
              "    </tr>\n",
              "    <tr>\n",
              "      <th>max</th>\n",
              "      <td>5981.000000</td>\n",
              "      <td>2.861238e+09</td>\n",
              "      <td>5.932250e+08</td>\n",
              "      <td>8.715144e+08</td>\n",
              "      <td>222.000000</td>\n",
              "      <td>15.875000</td>\n",
              "      <td>1.000000</td>\n",
              "      <td>177.000000</td>\n",
              "    </tr>\n",
              "  </tbody>\n",
              "</table>\n",
              "</div>"
            ],
            "text/plain": [
              "           cust_id          총구매액  ...       주말방문비율         구매주기\n",
              "count  2482.000000  2.482000e+03  ...  2482.000000  2482.000000\n",
              "mean   4740.500000  1.010578e+08  ...     0.293812    20.286060\n",
              "std     716.636007  1.731955e+08  ...     0.282600    24.108756\n",
              "min    3500.000000  0.000000e+00  ...     0.000000     0.000000\n",
              "25%    4120.250000  5.086102e+06  ...     0.023456     4.000000\n",
              "50%    4740.500000  3.067452e+07  ...     0.250000    13.000000\n",
              "75%    5360.750000  1.264255e+08  ...     0.423566    27.000000\n",
              "max    5981.000000  2.861238e+09  ...     1.000000   177.000000\n",
              "\n",
              "[8 rows x 8 columns]"
            ]
          },
          "metadata": {
            "tags": []
          },
          "execution_count": 16
        }
      ]
    },
    {
      "cell_type": "code",
      "metadata": {
        "colab": {
          "base_uri": "https://localhost:8080/"
        },
        "id": "mykuS9hr3lyv",
        "outputId": "e9b0cc7c-ba69-41fe-feaa-c57ff12ed2b6"
      },
      "source": [
        "train['주구매상품'].value_counts()"
      ],
      "execution_count": null,
      "outputs": [
        {
          "output_type": "execute_result",
          "data": {
            "text/plain": [
              "기타        595\n",
              "가공식품      546\n",
              "농산물       339\n",
              "화장품       264\n",
              "시티웨어      213\n",
              "디자이너      193\n",
              "수산품       153\n",
              "캐주얼       101\n",
              "명품        100\n",
              "섬유잡화       98\n",
              "골프         82\n",
              "스포츠        69\n",
              "일용잡화       64\n",
              "모피/피혁      57\n",
              "육류         57\n",
              "남성 캐주얼     55\n",
              "구두         54\n",
              "건강식품       47\n",
              "차/커피       44\n",
              "아동         40\n",
              "피혁잡화       40\n",
              "축산가공       35\n",
              "주방용품       32\n",
              "셔츠         30\n",
              "젓갈/반찬      29\n",
              "주방가전       26\n",
              "트래디셔널      23\n",
              "남성정장       22\n",
              "생활잡화       15\n",
              "주류         14\n",
              "가구         10\n",
              "커리어         9\n",
              "대형가전        8\n",
              "란제리/내의      8\n",
              "식기          7\n",
              "액세서리        5\n",
              "침구/수예       4\n",
              "통신/컴퓨터      3\n",
              "보석          3\n",
              "남성 트랜디      2\n",
              "악기          2\n",
              "소형가전        2\n",
              "Name: 주구매상품, dtype: int64"
            ]
          },
          "metadata": {
            "tags": []
          },
          "execution_count": 11
        }
      ]
    },
    {
      "cell_type": "code",
      "metadata": {
        "colab": {
          "base_uri": "https://localhost:8080/"
        },
        "id": "GRpBNLthQSCe",
        "outputId": "96c651c5-59e9-46c7-c8cd-feadffcc86b4"
      },
      "source": [
        "X_test['주구매상품'].value_counts()"
      ],
      "execution_count": null,
      "outputs": [
        {
          "output_type": "execute_result",
          "data": {
            "text/plain": [
              "기타        465\n",
              "가공식품      395\n",
              "농산물       235\n",
              "화장품       177\n",
              "시티웨어      168\n",
              "디자이너      123\n",
              "수산품        86\n",
              "섬유잡화       72\n",
              "캐주얼        65\n",
              "명품         60\n",
              "차/커피       55\n",
              "모피/피혁      47\n",
              "골프         47\n",
              "남성 캐주얼     46\n",
              "구두         44\n",
              "스포츠        43\n",
              "육류         38\n",
              "건강식품       36\n",
              "일용잡화       30\n",
              "축산가공       28\n",
              "셔츠         25\n",
              "남성정장       25\n",
              "아동         24\n",
              "주방용품       21\n",
              "젓갈/반찬      18\n",
              "피혁잡화       16\n",
              "주방가전       10\n",
              "주류         10\n",
              "란제리/내의     10\n",
              "트래디셔널       9\n",
              "생활잡화        8\n",
              "식기          8\n",
              "가구          7\n",
              "액세서리        7\n",
              "커리어         6\n",
              "대형가전        6\n",
              "남성 트랜디      4\n",
              "침구/수예       3\n",
              "통신/컴퓨터      3\n",
              "악기          1\n",
              "보석          1\n",
              "Name: 주구매상품, dtype: int64"
            ]
          },
          "metadata": {
            "tags": []
          },
          "execution_count": 17
        }
      ]
    },
    {
      "cell_type": "code",
      "metadata": {
        "colab": {
          "base_uri": "https://localhost:8080/"
        },
        "id": "NvfeekMh6DES",
        "outputId": "c22bf00e-8a4a-4dc7-ba4f-3df935b8edc1"
      },
      "source": [
        "train['주구매지점'].value_counts()"
      ],
      "execution_count": null,
      "outputs": [
        {
          "output_type": "execute_result",
          "data": {
            "text/plain": [
              "본  점     1077\n",
              "잠실점       474\n",
              "분당점       436\n",
              "부산본점      245\n",
              "영등포점      241\n",
              "일산점       198\n",
              "강남점       145\n",
              "광주점       114\n",
              "노원점        90\n",
              "청량리점       86\n",
              "대전점        70\n",
              "미아점        69\n",
              "부평점        57\n",
              "동래점        49\n",
              "관악점        46\n",
              "인천점        34\n",
              "안양점        29\n",
              "포항점        11\n",
              "대구점         7\n",
              "센텀시티점       6\n",
              "울산점         6\n",
              "전주점         5\n",
              "창원점         4\n",
              "상인점         1\n",
              "Name: 주구매지점, dtype: int64"
            ]
          },
          "metadata": {
            "tags": []
          },
          "execution_count": 12
        }
      ]
    },
    {
      "cell_type": "code",
      "metadata": {
        "colab": {
          "base_uri": "https://localhost:8080/"
        },
        "id": "29K9s4jyQ1xr",
        "outputId": "bdd03358-dee2-4e80-8219-90a15c877490"
      },
      "source": [
        "X_test['주구매지점'].value_counts()"
      ],
      "execution_count": null,
      "outputs": [
        {
          "output_type": "execute_result",
          "data": {
            "text/plain": [
              "본  점     726\n",
              "잠실점      352\n",
              "분당점      328\n",
              "부산본점     168\n",
              "일산점      158\n",
              "영등포점     150\n",
              "강남점      101\n",
              "광주점       86\n",
              "청량리점      78\n",
              "노원점       53\n",
              "미아점       52\n",
              "부평점       50\n",
              "대전점       41\n",
              "동래점       36\n",
              "관악점       30\n",
              "안양점       27\n",
              "인천점       22\n",
              "울산점        5\n",
              "포항점        5\n",
              "창원점        4\n",
              "센텀시티점      3\n",
              "상인점        3\n",
              "대구점        2\n",
              "전주점        2\n",
              "Name: 주구매지점, dtype: int64"
            ]
          },
          "metadata": {
            "tags": []
          },
          "execution_count": 19
        }
      ]
    },
    {
      "cell_type": "code",
      "metadata": {
        "colab": {
          "base_uri": "https://localhost:8080/"
        },
        "id": "nyAvbC976Q_h",
        "outputId": "0444afa2-51a3-4a93-ba1f-013e2b218c72"
      },
      "source": [
        "train.주구매상품[train.주구매상품 == '소형가전'].index"
      ],
      "execution_count": null,
      "outputs": [
        {
          "output_type": "execute_result",
          "data": {
            "text/plain": [
              "Int64Index([1521, 2035], dtype='int64')"
            ]
          },
          "metadata": {
            "tags": []
          },
          "execution_count": 21
        }
      ]
    },
    {
      "cell_type": "code",
      "metadata": {
        "id": "i4RSUVeu6kCY"
      },
      "source": [
        "train = train.drop(train.index[[1521,2035]])"
      ],
      "execution_count": null,
      "outputs": []
    },
    {
      "cell_type": "code",
      "metadata": {
        "colab": {
          "base_uri": "https://localhost:8080/"
        },
        "id": "T-KH47LL7Lzy",
        "outputId": "f89bf95a-9701-49ff-8338-6d09d5fde4c7"
      },
      "source": [
        "train.주구매상품[train.주구매상품 == '소형가전']"
      ],
      "execution_count": null,
      "outputs": [
        {
          "output_type": "execute_result",
          "data": {
            "text/plain": [
              "Series([], Name: 주구매상품, dtype: object)"
            ]
          },
          "metadata": {
            "tags": []
          },
          "execution_count": 23
        }
      ]
    },
    {
      "cell_type": "code",
      "metadata": {
        "colab": {
          "base_uri": "https://localhost:8080/"
        },
        "id": "AtjQEmC57U9u",
        "outputId": "7d0858d9-0bac-4f9c-94fd-1e1641a7351d"
      },
      "source": [
        "train.dtypes"
      ],
      "execution_count": null,
      "outputs": [
        {
          "output_type": "execute_result",
          "data": {
            "text/plain": [
              "cust_id      int64\n",
              "총구매액         int64\n",
              "최대구매액        int64\n",
              "환불금액       float64\n",
              "주구매상품       object\n",
              "주구매지점       object\n",
              "내점일수         int64\n",
              "내점당구매건수    float64\n",
              "주말방문비율     float64\n",
              "구매주기         int64\n",
              "gender       int64\n",
              "dtype: object"
            ]
          },
          "metadata": {
            "tags": []
          },
          "execution_count": 24
        }
      ]
    },
    {
      "cell_type": "code",
      "metadata": {
        "id": "htZoIFyt8zCN"
      },
      "source": [
        "train.gender = train.gender.astype('category')"
      ],
      "execution_count": null,
      "outputs": []
    },
    {
      "cell_type": "code",
      "metadata": {
        "colab": {
          "base_uri": "https://localhost:8080/"
        },
        "id": "xJG4qx488-W-",
        "outputId": "8617a1bd-b4ed-4a50-f1a5-071ac810ccd2"
      },
      "source": [
        "train.dtypes"
      ],
      "execution_count": null,
      "outputs": [
        {
          "output_type": "execute_result",
          "data": {
            "text/plain": [
              "cust_id       int64\n",
              "총구매액          int64\n",
              "최대구매액         int64\n",
              "환불금액        float64\n",
              "주구매상품        object\n",
              "주구매지점        object\n",
              "내점일수          int64\n",
              "내점당구매건수     float64\n",
              "주말방문비율      float64\n",
              "구매주기          int64\n",
              "gender     category\n",
              "dtype: object"
            ]
          },
          "metadata": {
            "tags": []
          },
          "execution_count": 26
        }
      ]
    },
    {
      "cell_type": "code",
      "metadata": {
        "colab": {
          "base_uri": "https://localhost:8080/",
          "height": 202
        },
        "id": "4xmDoDpF8_yC",
        "outputId": "a9587ab4-af1d-44e6-ecdb-2a5fcc89af3e"
      },
      "source": [
        "train.head()"
      ],
      "execution_count": null,
      "outputs": [
        {
          "output_type": "execute_result",
          "data": {
            "text/html": [
              "<div>\n",
              "<style scoped>\n",
              "    .dataframe tbody tr th:only-of-type {\n",
              "        vertical-align: middle;\n",
              "    }\n",
              "\n",
              "    .dataframe tbody tr th {\n",
              "        vertical-align: top;\n",
              "    }\n",
              "\n",
              "    .dataframe thead th {\n",
              "        text-align: right;\n",
              "    }\n",
              "</style>\n",
              "<table border=\"1\" class=\"dataframe\">\n",
              "  <thead>\n",
              "    <tr style=\"text-align: right;\">\n",
              "      <th></th>\n",
              "      <th>cust_id</th>\n",
              "      <th>총구매액</th>\n",
              "      <th>최대구매액</th>\n",
              "      <th>환불금액</th>\n",
              "      <th>주구매상품</th>\n",
              "      <th>주구매지점</th>\n",
              "      <th>내점일수</th>\n",
              "      <th>내점당구매건수</th>\n",
              "      <th>주말방문비율</th>\n",
              "      <th>구매주기</th>\n",
              "      <th>gender</th>\n",
              "    </tr>\n",
              "  </thead>\n",
              "  <tbody>\n",
              "    <tr>\n",
              "      <th>0</th>\n",
              "      <td>0</td>\n",
              "      <td>68282840</td>\n",
              "      <td>11264000</td>\n",
              "      <td>6860000.0</td>\n",
              "      <td>기타</td>\n",
              "      <td>강남점</td>\n",
              "      <td>19</td>\n",
              "      <td>3.894737</td>\n",
              "      <td>0.527027</td>\n",
              "      <td>17</td>\n",
              "      <td>0</td>\n",
              "    </tr>\n",
              "    <tr>\n",
              "      <th>1</th>\n",
              "      <td>1</td>\n",
              "      <td>2136000</td>\n",
              "      <td>2136000</td>\n",
              "      <td>300000.0</td>\n",
              "      <td>스포츠</td>\n",
              "      <td>잠실점</td>\n",
              "      <td>2</td>\n",
              "      <td>1.500000</td>\n",
              "      <td>0.000000</td>\n",
              "      <td>1</td>\n",
              "      <td>0</td>\n",
              "    </tr>\n",
              "    <tr>\n",
              "      <th>2</th>\n",
              "      <td>2</td>\n",
              "      <td>3197000</td>\n",
              "      <td>1639000</td>\n",
              "      <td>0.0</td>\n",
              "      <td>남성 캐주얼</td>\n",
              "      <td>관악점</td>\n",
              "      <td>2</td>\n",
              "      <td>2.000000</td>\n",
              "      <td>0.000000</td>\n",
              "      <td>1</td>\n",
              "      <td>1</td>\n",
              "    </tr>\n",
              "    <tr>\n",
              "      <th>3</th>\n",
              "      <td>3</td>\n",
              "      <td>16077620</td>\n",
              "      <td>4935000</td>\n",
              "      <td>0.0</td>\n",
              "      <td>기타</td>\n",
              "      <td>광주점</td>\n",
              "      <td>18</td>\n",
              "      <td>2.444444</td>\n",
              "      <td>0.318182</td>\n",
              "      <td>16</td>\n",
              "      <td>1</td>\n",
              "    </tr>\n",
              "    <tr>\n",
              "      <th>4</th>\n",
              "      <td>4</td>\n",
              "      <td>29050000</td>\n",
              "      <td>24000000</td>\n",
              "      <td>0.0</td>\n",
              "      <td>보석</td>\n",
              "      <td>본  점</td>\n",
              "      <td>2</td>\n",
              "      <td>1.500000</td>\n",
              "      <td>0.000000</td>\n",
              "      <td>85</td>\n",
              "      <td>0</td>\n",
              "    </tr>\n",
              "  </tbody>\n",
              "</table>\n",
              "</div>"
            ],
            "text/plain": [
              "   cust_id      총구매액     최대구매액       환불금액  ...   내점당구매건수    주말방문비율  구매주기  gender\n",
              "0        0  68282840  11264000  6860000.0  ...  3.894737  0.527027    17       0\n",
              "1        1   2136000   2136000   300000.0  ...  1.500000  0.000000     1       0\n",
              "2        2   3197000   1639000        0.0  ...  2.000000  0.000000     1       1\n",
              "3        3  16077620   4935000        0.0  ...  2.444444  0.318182    16       1\n",
              "4        4  29050000  24000000        0.0  ...  1.500000  0.000000    85       0\n",
              "\n",
              "[5 rows x 11 columns]"
            ]
          },
          "metadata": {
            "tags": []
          },
          "execution_count": 28
        }
      ]
    },
    {
      "cell_type": "code",
      "metadata": {
        "id": "wAC5gLwi9IUi"
      },
      "source": [
        "X = train.drop(['cust_id','gender'],axis=1)"
      ],
      "execution_count": null,
      "outputs": []
    },
    {
      "cell_type": "code",
      "metadata": {
        "id": "6yGZXcYw98JV"
      },
      "source": [
        "y = train.gender"
      ],
      "execution_count": null,
      "outputs": []
    },
    {
      "cell_type": "code",
      "metadata": {
        "id": "enbpjFAm-BRD"
      },
      "source": [
        "X_num = X.drop(['주구매상품','주구매지점'],axis=1)\n",
        "\n",
        "from sklearn.impute import SimpleImputer\n",
        "from sklearn.preprocessing import OneHotEncoder\n",
        "from sklearn.preprocessing import StandardScaler\n",
        "\n",
        "from sklearn.pipeline import Pipeline\n",
        "\n",
        "numeric_pipeline = Pipeline(steps = [('imputer',SimpleImputer(strategy='constant',fill_value=0)),\n",
        "                                     ('std_scaler',StandardScaler())])\n",
        "\n",
        "from sklearn.compose import ColumnTransformer\n",
        "\n",
        "numeric_attrs = list(X_num)  # DF.columns의 인덱스를 리스트로 변환  # list(housing_numeric.columns)\n",
        "category_attrs = ['주구매상품','주구매지점']\n",
        "\n",
        "full_pipeline = ColumnTransformer(transformers= [('numeric_pipe',numeric_pipeline,numeric_attrs),\n",
        "                                                 ('category_pipe',OneHotEncoder(),category_attrs)])\n",
        "\n",
        "X_pre = full_pipeline.fit_transform(X)"
      ],
      "execution_count": null,
      "outputs": []
    },
    {
      "cell_type": "code",
      "metadata": {
        "colab": {
          "base_uri": "https://localhost:8080/"
        },
        "id": "HEDiVDH9-LL5",
        "outputId": "f961e30d-59b5-4c58-e7b5-c40bfbc7121d"
      },
      "source": [
        "X_pre.shape"
      ],
      "execution_count": null,
      "outputs": [
        {
          "output_type": "execute_result",
          "data": {
            "text/plain": [
              "(3497, 71)"
            ]
          },
          "metadata": {
            "tags": []
          },
          "execution_count": 32
        }
      ]
    },
    {
      "cell_type": "code",
      "metadata": {
        "colab": {
          "base_uri": "https://localhost:8080/"
        },
        "id": "rJQCPxd9-M5K",
        "outputId": "41c0cbf9-95ff-4db2-f343-c055d960e11c"
      },
      "source": [
        "type(X_pre)"
      ],
      "execution_count": null,
      "outputs": [
        {
          "output_type": "execute_result",
          "data": {
            "text/plain": [
              "scipy.sparse.csr.csr_matrix"
            ]
          },
          "metadata": {
            "tags": []
          },
          "execution_count": 33
        }
      ]
    },
    {
      "cell_type": "code",
      "metadata": {
        "colab": {
          "base_uri": "https://localhost:8080/"
        },
        "id": "0ewhBWEU-Q4m",
        "outputId": "261a99f6-a247-4c3a-ba45-0a3580363ae5"
      },
      "source": [
        "from sklearn.model_selection import train_test_split\n",
        "\n",
        "train,test,train_y,test_y = train_test_split(X_pre.toarray(),y,test_size=0.3,random_state=1,stratify=y)\n",
        "train.shape, test.shape, train_y.shape, test_y.shape"
      ],
      "execution_count": null,
      "outputs": [
        {
          "output_type": "execute_result",
          "data": {
            "text/plain": [
              "((2447, 71), (1050, 71), (2447,), (1050,))"
            ]
          },
          "metadata": {
            "tags": []
          },
          "execution_count": 34
        }
      ]
    },
    {
      "cell_type": "code",
      "metadata": {
        "id": "bHhdWUiQa8eG"
      },
      "source": [
        "TEST = X_test.drop(['cust_id'],axis=1)"
      ],
      "execution_count": null,
      "outputs": []
    },
    {
      "cell_type": "code",
      "metadata": {
        "colab": {
          "base_uri": "https://localhost:8080/",
          "height": 202
        },
        "id": "bkqXU4MobOHw",
        "outputId": "aeaa9ee8-37bd-45ad-a6d9-5a7c5d31f2b2"
      },
      "source": [
        "TEST.head()"
      ],
      "execution_count": null,
      "outputs": [
        {
          "output_type": "execute_result",
          "data": {
            "text/html": [
              "<div>\n",
              "<style scoped>\n",
              "    .dataframe tbody tr th:only-of-type {\n",
              "        vertical-align: middle;\n",
              "    }\n",
              "\n",
              "    .dataframe tbody tr th {\n",
              "        vertical-align: top;\n",
              "    }\n",
              "\n",
              "    .dataframe thead th {\n",
              "        text-align: right;\n",
              "    }\n",
              "</style>\n",
              "<table border=\"1\" class=\"dataframe\">\n",
              "  <thead>\n",
              "    <tr style=\"text-align: right;\">\n",
              "      <th></th>\n",
              "      <th>총구매액</th>\n",
              "      <th>최대구매액</th>\n",
              "      <th>환불금액</th>\n",
              "      <th>주구매상품</th>\n",
              "      <th>주구매지점</th>\n",
              "      <th>내점일수</th>\n",
              "      <th>내점당구매건수</th>\n",
              "      <th>주말방문비율</th>\n",
              "      <th>구매주기</th>\n",
              "    </tr>\n",
              "  </thead>\n",
              "  <tbody>\n",
              "    <tr>\n",
              "      <th>0</th>\n",
              "      <td>70900400</td>\n",
              "      <td>22000000</td>\n",
              "      <td>4050000.0</td>\n",
              "      <td>골프</td>\n",
              "      <td>부산본점</td>\n",
              "      <td>13</td>\n",
              "      <td>1.461538</td>\n",
              "      <td>0.789474</td>\n",
              "      <td>26</td>\n",
              "    </tr>\n",
              "    <tr>\n",
              "      <th>1</th>\n",
              "      <td>310533100</td>\n",
              "      <td>38558000</td>\n",
              "      <td>48034700.0</td>\n",
              "      <td>농산물</td>\n",
              "      <td>잠실점</td>\n",
              "      <td>90</td>\n",
              "      <td>2.433333</td>\n",
              "      <td>0.369863</td>\n",
              "      <td>3</td>\n",
              "    </tr>\n",
              "    <tr>\n",
              "      <th>2</th>\n",
              "      <td>305264140</td>\n",
              "      <td>14825000</td>\n",
              "      <td>30521000.0</td>\n",
              "      <td>가공식품</td>\n",
              "      <td>본  점</td>\n",
              "      <td>101</td>\n",
              "      <td>14.623762</td>\n",
              "      <td>0.083277</td>\n",
              "      <td>3</td>\n",
              "    </tr>\n",
              "    <tr>\n",
              "      <th>3</th>\n",
              "      <td>7594080</td>\n",
              "      <td>5225000</td>\n",
              "      <td>0.0</td>\n",
              "      <td>주방용품</td>\n",
              "      <td>부산본점</td>\n",
              "      <td>5</td>\n",
              "      <td>2.000000</td>\n",
              "      <td>0.000000</td>\n",
              "      <td>47</td>\n",
              "    </tr>\n",
              "    <tr>\n",
              "      <th>4</th>\n",
              "      <td>1795790</td>\n",
              "      <td>1411200</td>\n",
              "      <td>0.0</td>\n",
              "      <td>수산품</td>\n",
              "      <td>청량리점</td>\n",
              "      <td>3</td>\n",
              "      <td>2.666667</td>\n",
              "      <td>0.125000</td>\n",
              "      <td>8</td>\n",
              "    </tr>\n",
              "  </tbody>\n",
              "</table>\n",
              "</div>"
            ],
            "text/plain": [
              "        총구매액     최대구매액        환불금액 주구매상품 주구매지점  내점일수    내점당구매건수    주말방문비율  구매주기\n",
              "0   70900400  22000000   4050000.0    골프  부산본점    13   1.461538  0.789474    26\n",
              "1  310533100  38558000  48034700.0   농산물   잠실점    90   2.433333  0.369863     3\n",
              "2  305264140  14825000  30521000.0  가공식품  본  점   101  14.623762  0.083277     3\n",
              "3    7594080   5225000         0.0  주방용품  부산본점     5   2.000000  0.000000    47\n",
              "4    1795790   1411200         0.0   수산품  청량리점     3   2.666667  0.125000     8"
            ]
          },
          "metadata": {
            "tags": []
          },
          "execution_count": 61
        }
      ]
    },
    {
      "cell_type": "code",
      "metadata": {
        "id": "kJbzqS19ck00"
      },
      "source": [
        "TEST_num = TEST.drop(['주구매상품','주구매지점'],axis=1)\n",
        "\n",
        "from sklearn.impute import SimpleImputer\n",
        "from sklearn.preprocessing import OneHotEncoder\n",
        "from sklearn.preprocessing import StandardScaler\n",
        "\n",
        "from sklearn.pipeline import Pipeline\n",
        "\n",
        "numeric_pipeline = Pipeline(steps = [('imputer',SimpleImputer(strategy='constant',fill_value=0)),\n",
        "                                     ('std_scaler',StandardScaler())])\n",
        "\n",
        "from sklearn.compose import ColumnTransformer\n",
        "\n",
        "numeric_attrs = list(TEST_num)  # DF.columns의 인덱스를 리스트로 변환  # list(housing_numeric.columns)\n",
        "category_attrs = ['주구매상품','주구매지점']\n",
        "\n",
        "full_pipeline = ColumnTransformer(transformers= [('numeric_pipe',numeric_pipeline,numeric_attrs),\n",
        "                                                 ('category_pipe',OneHotEncoder(),category_attrs)])\n",
        "\n",
        "TEST_pre = full_pipeline.fit_transform(X)"
      ],
      "execution_count": null,
      "outputs": []
    },
    {
      "cell_type": "markdown",
      "metadata": {
        "id": "5_t_ojm6IhdG"
      },
      "source": [
        "# SGD"
      ]
    },
    {
      "cell_type": "code",
      "metadata": {
        "id": "wO5BTngKIaTE"
      },
      "source": [
        "from sklearn.linear_model import SGDClassifier\n",
        "\n",
        "sgd_clf = SGDClassifier(random_state=1)\n",
        "sgd_clf.fit(X=train,y=train_y)\n",
        "\n",
        "y_pred = sgd_clf.predict(X=test)"
      ],
      "execution_count": null,
      "outputs": []
    },
    {
      "cell_type": "code",
      "metadata": {
        "colab": {
          "base_uri": "https://localhost:8080/"
        },
        "id": "BXADKwt8I0w9",
        "outputId": "f7ab6702-325e-4ac8-e5d2-51cb3150bf83"
      },
      "source": [
        "from sklearn.metrics import classification_report\n",
        "\n",
        "report =classification_report(test_y, y_pred, target_names=['class 0', 'class 1'])\n",
        "print(report)"
      ],
      "execution_count": null,
      "outputs": [
        {
          "output_type": "stream",
          "text": [
            "              precision    recall  f1-score   support\n",
            "\n",
            "     class 0       0.66      0.65      0.66       655\n",
            "     class 1       0.44      0.45      0.45       395\n",
            "\n",
            "    accuracy                           0.58      1050\n",
            "   macro avg       0.55      0.55      0.55      1050\n",
            "weighted avg       0.58      0.58      0.58      1050\n",
            "\n"
          ],
          "name": "stdout"
        }
      ]
    },
    {
      "cell_type": "code",
      "metadata": {
        "colab": {
          "base_uri": "https://localhost:8080/"
        },
        "id": "oHsiYw9hI7p5",
        "outputId": "9ba5c45a-e140-4517-b90b-f8cd91ff2452"
      },
      "source": [
        "s = sgd_clf.decision_function(test)\n",
        "\n",
        "from sklearn.metrics import roc_auc_score\n",
        "roc_auc_score(y_true=test_y,y_score=s)"
      ],
      "execution_count": null,
      "outputs": [
        {
          "output_type": "execute_result",
          "data": {
            "text/plain": [
              "0.585778336071118"
            ]
          },
          "metadata": {
            "tags": []
          },
          "execution_count": 39
        }
      ]
    },
    {
      "cell_type": "markdown",
      "metadata": {
        "id": "Si9OQSPMJfem"
      },
      "source": [
        "# LogisticRegression"
      ]
    },
    {
      "cell_type": "code",
      "metadata": {
        "id": "THbXv7qQH-3C"
      },
      "source": [
        "from sklearn.linear_model import LogisticRegression\n",
        "\n",
        "log_reg = LogisticRegression(random_state=1)\n",
        "log_reg.fit(train,train_y)\n",
        "\n",
        "y_pred = log_reg.predict(test)"
      ],
      "execution_count": null,
      "outputs": []
    },
    {
      "cell_type": "code",
      "metadata": {
        "colab": {
          "base_uri": "https://localhost:8080/"
        },
        "id": "X2KJuZiQJ3SP",
        "outputId": "8f7e0d31-1a87-4a42-deae-c3bb7ad3ec18"
      },
      "source": [
        "report =classification_report(test_y, y_pred, target_names=['class 0', 'class 1'])\n",
        "print(report)"
      ],
      "execution_count": null,
      "outputs": [
        {
          "output_type": "stream",
          "text": [
            "              precision    recall  f1-score   support\n",
            "\n",
            "     class 0       0.67      0.88      0.76       655\n",
            "     class 1       0.58      0.27      0.37       395\n",
            "\n",
            "    accuracy                           0.65      1050\n",
            "   macro avg       0.62      0.58      0.56      1050\n",
            "weighted avg       0.64      0.65      0.61      1050\n",
            "\n"
          ],
          "name": "stdout"
        }
      ]
    },
    {
      "cell_type": "code",
      "metadata": {
        "colab": {
          "base_uri": "https://localhost:8080/"
        },
        "id": "F63ufplqJ6NN",
        "outputId": "4105ecdf-9bdc-4ecc-bc81-33f19521939f"
      },
      "source": [
        "s = log_reg.predict_proba(test)\n",
        "\n",
        "roc_auc_score(y_true=test_y,y_score=s[:,1])"
      ],
      "execution_count": null,
      "outputs": [
        {
          "output_type": "execute_result",
          "data": {
            "text/plain": [
              "0.682695912648565"
            ]
          },
          "metadata": {
            "tags": []
          },
          "execution_count": 87
        }
      ]
    },
    {
      "cell_type": "markdown",
      "metadata": {
        "id": "a3iho_5AKi_W"
      },
      "source": [
        "# LinearSVC"
      ]
    },
    {
      "cell_type": "code",
      "metadata": {
        "colab": {
          "base_uri": "https://localhost:8080/"
        },
        "id": "ofDbQq3FKiv3",
        "outputId": "9ef4d487-055f-413e-deec-27f8308633f0"
      },
      "source": [
        "from sklearn.svm import LinearSVC\n",
        "\n",
        "lin_svc = LinearSVC(random_state=1)\n",
        "lin_svc.fit(train,train_y)"
      ],
      "execution_count": null,
      "outputs": [
        {
          "output_type": "stream",
          "text": [
            "/usr/local/lib/python3.7/dist-packages/sklearn/svm/_base.py:947: ConvergenceWarning: Liblinear failed to converge, increase the number of iterations.\n",
            "  \"the number of iterations.\", ConvergenceWarning)\n"
          ],
          "name": "stderr"
        },
        {
          "output_type": "execute_result",
          "data": {
            "text/plain": [
              "LinearSVC(C=1.0, class_weight=None, dual=True, fit_intercept=True,\n",
              "          intercept_scaling=1, loss='squared_hinge', max_iter=1000,\n",
              "          multi_class='ovr', penalty='l2', random_state=1, tol=0.0001,\n",
              "          verbose=0)"
            ]
          },
          "metadata": {
            "tags": []
          },
          "execution_count": 35
        }
      ]
    },
    {
      "cell_type": "code",
      "metadata": {
        "colab": {
          "base_uri": "https://localhost:8080/"
        },
        "id": "8LpAvw75Ktmm",
        "outputId": "e876ec63-a380-4688-c1c5-306d25798ae2"
      },
      "source": [
        "s = lin_svc.decision_function(test)\n",
        "\n",
        "roc_auc_score(y_true=test_y,y_score=s)"
      ],
      "execution_count": null,
      "outputs": [
        {
          "output_type": "execute_result",
          "data": {
            "text/plain": [
              "0.678892646632525"
            ]
          },
          "metadata": {
            "tags": []
          },
          "execution_count": 40
        }
      ]
    },
    {
      "cell_type": "markdown",
      "metadata": {
        "id": "8hKDUw4uM2QC"
      },
      "source": [
        "# SVC"
      ]
    },
    {
      "cell_type": "code",
      "metadata": {
        "colab": {
          "base_uri": "https://localhost:8080/"
        },
        "id": "K9myX99vK8nv",
        "outputId": "65163b8e-6e7d-4b0d-b4e4-e30a0f64490f"
      },
      "source": [
        "from sklearn.svm import SVC\n",
        "\n",
        "svc = SVC(random_state=1)\n",
        "svc.fit(train,train_y)"
      ],
      "execution_count": null,
      "outputs": [
        {
          "output_type": "execute_result",
          "data": {
            "text/plain": [
              "SVC(C=1.0, break_ties=False, cache_size=200, class_weight=None, coef0=0.0,\n",
              "    decision_function_shape='ovr', degree=3, gamma='scale', kernel='rbf',\n",
              "    max_iter=-1, probability=False, random_state=1, shrinking=True, tol=0.001,\n",
              "    verbose=False)"
            ]
          },
          "metadata": {
            "tags": []
          },
          "execution_count": 90
        }
      ]
    },
    {
      "cell_type": "code",
      "metadata": {
        "colab": {
          "base_uri": "https://localhost:8080/"
        },
        "id": "bsb2I5gCNLIS",
        "outputId": "7e9c983d-9d7d-4272-8e03-3a35aa3497ab"
      },
      "source": [
        "s = svc.decision_function(test)\n",
        "\n",
        "roc_auc_score(y_true=test_y,y_score=s)"
      ],
      "execution_count": null,
      "outputs": [
        {
          "output_type": "execute_result",
          "data": {
            "text/plain": [
              "0.658948690694753"
            ]
          },
          "metadata": {
            "tags": []
          },
          "execution_count": 91
        }
      ]
    },
    {
      "cell_type": "code",
      "metadata": {
        "colab": {
          "base_uri": "https://localhost:8080/"
        },
        "id": "3kPBwT2zNR5h",
        "outputId": "cb03ca3b-fb54-4a22-b1db-28f489a20c46"
      },
      "source": [
        "svc2 = SVC(kernel='poly',random_state=1)\n",
        "svc2.fit(train,train_y)\n",
        "\n",
        "roc_auc_score(test_y,svc2.decision_function(test))"
      ],
      "execution_count": null,
      "outputs": [
        {
          "output_type": "execute_result",
          "data": {
            "text/plain": [
              "0.6423519180597159"
            ]
          },
          "metadata": {
            "tags": []
          },
          "execution_count": 92
        }
      ]
    },
    {
      "cell_type": "code",
      "metadata": {
        "colab": {
          "base_uri": "https://localhost:8080/"
        },
        "id": "ZCSCaGccN7-c",
        "outputId": "8cd31aa6-06b5-4439-b5e6-362ecd1fb936"
      },
      "source": [
        "svc3 = SVC(kernel='linear',random_state=1)\n",
        "svc3.fit(train,train_y)\n",
        "\n",
        "roc_auc_score(test_y,svc3.decision_function(test))"
      ],
      "execution_count": null,
      "outputs": [
        {
          "output_type": "execute_result",
          "data": {
            "text/plain": [
              "0.6493091119914968"
            ]
          },
          "metadata": {
            "tags": []
          },
          "execution_count": 93
        }
      ]
    },
    {
      "cell_type": "code",
      "metadata": {
        "colab": {
          "base_uri": "https://localhost:8080/"
        },
        "id": "rpE8b2RrOXIS",
        "outputId": "89538391-8172-4f31-b92d-fecdce745809"
      },
      "source": [
        "svc4 = SVC(kernel='sigmoid',random_state=1)\n",
        "svc4.fit(train,train_y)\n",
        "\n",
        "roc_auc_score(test_y,svc4.decision_function(test))"
      ],
      "execution_count": null,
      "outputs": [
        {
          "output_type": "execute_result",
          "data": {
            "text/plain": [
              "0.5856160015460431"
            ]
          },
          "metadata": {
            "tags": []
          },
          "execution_count": 94
        }
      ]
    },
    {
      "cell_type": "code",
      "metadata": {
        "colab": {
          "base_uri": "https://localhost:8080/"
        },
        "id": "JRYpPyXvPCb4",
        "outputId": "21581e62-b8db-4cfd-e35b-33e6b1e59ca1"
      },
      "source": [
        "gammas_cs = [(0.1,1e-3),(0.1,1e3),(5,1e-3),(5,1e3)]\n",
        "for g, c in gammas_cs:\n",
        "    print(f' gamma = {g}, C = {c}')\n",
        "    clf = SVC(kernel='rbf',gamma=g,C=c,random_state=42)\n",
        "    clf.fit(train,train_y)\n",
        "    print(roc_auc_score(test_y,clf.decision_function(test)))"
      ],
      "execution_count": null,
      "outputs": [
        {
          "output_type": "stream",
          "text": [
            " gamma = 0.1, C = 0.001\n",
            "0.6570934389796116\n",
            " gamma = 0.1, C = 1000.0\n",
            "0.568126389023094\n",
            " gamma = 5, C = 0.001\n",
            "0.5291525751280317\n",
            " gamma = 5, C = 1000.0\n",
            "0.5478616291429124\n"
          ],
          "name": "stdout"
        }
      ]
    },
    {
      "cell_type": "markdown",
      "metadata": {
        "id": "0MliZWsBPmSH"
      },
      "source": [
        "# DecisionTree"
      ]
    },
    {
      "cell_type": "code",
      "metadata": {
        "colab": {
          "base_uri": "https://localhost:8080/"
        },
        "id": "Ot2sQHhzPooF",
        "outputId": "a1d1bf3f-4b7d-468a-fb36-1d50066c1e1a"
      },
      "source": [
        "from sklearn.tree import DecisionTreeClassifier\n",
        "\n",
        "tree_clf = DecisionTreeClassifier(random_state=1)\n",
        "tree_clf.fit(train,train_y)"
      ],
      "execution_count": null,
      "outputs": [
        {
          "output_type": "execute_result",
          "data": {
            "text/plain": [
              "DecisionTreeClassifier(ccp_alpha=0.0, class_weight=None, criterion='gini',\n",
              "                       max_depth=None, max_features=None, max_leaf_nodes=None,\n",
              "                       min_impurity_decrease=0.0, min_impurity_split=None,\n",
              "                       min_samples_leaf=1, min_samples_split=2,\n",
              "                       min_weight_fraction_leaf=0.0, presort='deprecated',\n",
              "                       random_state=1, splitter='best')"
            ]
          },
          "metadata": {
            "tags": []
          },
          "execution_count": 96
        }
      ]
    },
    {
      "cell_type": "code",
      "metadata": {
        "colab": {
          "base_uri": "https://localhost:8080/"
        },
        "id": "aJVd_FT_P8pe",
        "outputId": "ae279a25-afd5-4109-e5e0-a54a3c477f03"
      },
      "source": [
        "s = tree_clf.predict_proba(test)\n",
        "\n",
        "roc_auc_score(test_y,s[:,1])"
      ],
      "execution_count": null,
      "outputs": [
        {
          "output_type": "execute_result",
          "data": {
            "text/plain": [
              "0.5588655908783458"
            ]
          },
          "metadata": {
            "tags": []
          },
          "execution_count": 97
        }
      ]
    },
    {
      "cell_type": "code",
      "metadata": {
        "colab": {
          "base_uri": "https://localhost:8080/"
        },
        "id": "6NRj631mQV72",
        "outputId": "4c4c9c80-7f07-46ce-b2c0-4b4125ad70ba"
      },
      "source": [
        "tree_clf2 = DecisionTreeClassifier(max_depth=2,random_state=1)\n",
        "tree_clf2.fit(train,train_y)\n",
        "\n",
        "roc_auc_score(test_y,tree_clf2.predict_proba(test)[:,1])"
      ],
      "execution_count": null,
      "outputs": [
        {
          "output_type": "execute_result",
          "data": {
            "text/plain": [
              "0.6197062518117693"
            ]
          },
          "metadata": {
            "tags": []
          },
          "execution_count": 98
        }
      ]
    },
    {
      "cell_type": "code",
      "metadata": {
        "colab": {
          "base_uri": "https://localhost:8080/"
        },
        "id": "pMr-EYYbQjx3",
        "outputId": "674fc15b-5523-435a-ef58-e5c737f9845e"
      },
      "source": [
        "for i in [1,4,8]:\n",
        "    print(f' min_samples_leaf = {i}')\n",
        "    clf = DecisionTreeClassifier(min_samples_leaf=i,random_state=1)\n",
        "    clf.fit(train,train_y)\n",
        "    print(roc_auc_score(test_y,clf.predict_proba(test)[:,1]))"
      ],
      "execution_count": null,
      "outputs": [
        {
          "output_type": "stream",
          "text": [
            " min_samples_leaf = 1\n",
            "0.5588655908783458\n",
            " min_samples_leaf = 4\n",
            "0.58666344574355\n",
            " min_samples_leaf = 8\n",
            "0.5991322833123973\n"
          ],
          "name": "stdout"
        }
      ]
    },
    {
      "cell_type": "code",
      "metadata": {
        "colab": {
          "base_uri": "https://localhost:8080/"
        },
        "id": "10FMXAOjRdFV",
        "outputId": "adf9fa5f-bae9-46f1-a9f2-bad200713756"
      },
      "source": [
        "for i in [1,4,8]:\n",
        "    print(f' min_samples_leaf = {i}')\n",
        "    clf = DecisionTreeClassifier(min_samples_leaf=i,max_depth=3,random_state=1)\n",
        "    clf.fit(train,train_y)\n",
        "    print(roc_auc_score(test_y,clf.predict_proba(test)[:,1]))"
      ],
      "execution_count": null,
      "outputs": [
        {
          "output_type": "stream",
          "text": [
            " min_samples_leaf = 1\n",
            "0.6274596579379651\n",
            " min_samples_leaf = 4\n",
            "0.62539955551261\n",
            " min_samples_leaf = 8\n",
            "0.6289283988791188\n"
          ],
          "name": "stdout"
        }
      ]
    },
    {
      "cell_type": "code",
      "metadata": {
        "colab": {
          "base_uri": "https://localhost:8080/"
        },
        "id": "yj2WHGN8RzUx",
        "outputId": "7b457d68-0f7a-4268-bf20-418720f19c48"
      },
      "source": [
        "tree_clf3 = DecisionTreeClassifier(max_depth=5,min_samples_leaf=10,random_state=1)\n",
        "tree_clf3.fit(train,train_y)\n",
        "\n",
        "roc_auc_score(test_y,tree_clf3.predict_proba(test)[:,1])"
      ],
      "execution_count": null,
      "outputs": [
        {
          "output_type": "execute_result",
          "data": {
            "text/plain": [
              "0.6486075949367087"
            ]
          },
          "metadata": {
            "tags": []
          },
          "execution_count": 101
        }
      ]
    },
    {
      "cell_type": "markdown",
      "metadata": {
        "id": "6MpYRzFuIcbB"
      },
      "source": [
        "# RandomForest"
      ]
    },
    {
      "cell_type": "code",
      "metadata": {
        "id": "VuxT8-v0-tBF"
      },
      "source": [
        "from sklearn.ensemble import RandomForestClassifier\n",
        "\n",
        "clf = RandomForestClassifier(random_state=1)\n",
        "clf.fit(train,train_y)\n",
        "\n",
        "y_pred = clf.predict(test)"
      ],
      "execution_count": null,
      "outputs": []
    },
    {
      "cell_type": "code",
      "metadata": {
        "colab": {
          "base_uri": "https://localhost:8080/"
        },
        "id": "B-W4JNSQ_nHB",
        "outputId": "98d389ac-9db8-4d29-88ae-e2fca3d0cf49"
      },
      "source": [
        "from sklearn.metrics import classification_report\n",
        "\n",
        "report =classification_report(test_y, y_pred, target_names=['class 0', 'class 1'])\n",
        "print(report)"
      ],
      "execution_count": null,
      "outputs": [
        {
          "output_type": "stream",
          "text": [
            "              precision    recall  f1-score   support\n",
            "\n",
            "     class 0       0.68      0.84      0.75       655\n",
            "     class 1       0.56      0.35      0.43       395\n",
            "\n",
            "    accuracy                           0.65      1050\n",
            "   macro avg       0.62      0.59      0.59      1050\n",
            "weighted avg       0.63      0.65      0.63      1050\n",
            "\n"
          ],
          "name": "stdout"
        }
      ]
    },
    {
      "cell_type": "code",
      "metadata": {
        "colab": {
          "base_uri": "https://localhost:8080/"
        },
        "id": "yN5VYjjy_40U",
        "outputId": "9a9ce79f-03d3-4db6-eeea-d5754631568d"
      },
      "source": [
        "from sklearn.metrics import roc_auc_score ,roc_curve\n",
        "\n",
        "lr_probs = clf.predict_proba(test)\n",
        "lr_auc = roc_auc_score(test_y, lr_probs[:,1])\n",
        "lr_auc"
      ],
      "execution_count": null,
      "outputs": [
        {
          "output_type": "execute_result",
          "data": {
            "text/plain": [
              "0.6567822978065513"
            ]
          },
          "metadata": {
            "tags": []
          },
          "execution_count": 104
        }
      ]
    },
    {
      "cell_type": "markdown",
      "metadata": {
        "id": "SATMLgMr1FAS"
      },
      "source": [
        "# GradientBoostingClassifier"
      ]
    },
    {
      "cell_type": "code",
      "metadata": {
        "id": "s0zd8beI0QYk"
      },
      "source": [
        "from sklearn.ensemble import GradientBoostingClassifier"
      ],
      "execution_count": null,
      "outputs": []
    },
    {
      "cell_type": "code",
      "metadata": {
        "colab": {
          "base_uri": "https://localhost:8080/"
        },
        "id": "GzICYi920Vx4",
        "outputId": "c7c62f50-8d4e-4c93-80e8-910e822c608c"
      },
      "source": [
        "gbc = GradientBoostingClassifier(random_state=1)\n",
        "\n",
        "gbc.fit(train,train_y)"
      ],
      "execution_count": null,
      "outputs": [
        {
          "output_type": "execute_result",
          "data": {
            "text/plain": [
              "GradientBoostingClassifier(ccp_alpha=0.0, criterion='friedman_mse', init=None,\n",
              "                           learning_rate=0.1, loss='deviance', max_depth=3,\n",
              "                           max_features=None, max_leaf_nodes=None,\n",
              "                           min_impurity_decrease=0.0, min_impurity_split=None,\n",
              "                           min_samples_leaf=1, min_samples_split=2,\n",
              "                           min_weight_fraction_leaf=0.0, n_estimators=100,\n",
              "                           n_iter_no_change=None, presort='deprecated',\n",
              "                           random_state=1, subsample=1.0, tol=0.0001,\n",
              "                           validation_fraction=0.1, verbose=0,\n",
              "                           warm_start=False)"
            ]
          },
          "metadata": {
            "tags": []
          },
          "execution_count": 106
        }
      ]
    },
    {
      "cell_type": "code",
      "metadata": {
        "colab": {
          "base_uri": "https://localhost:8080/"
        },
        "id": "TEzyPAsL0tUT",
        "outputId": "551034b0-c049-4131-8ef7-12a6f4b446a4"
      },
      "source": [
        "s = gbc.predict_proba(test)\n",
        "\n",
        "roc_auc_score(test_y,s[:,1])"
      ],
      "execution_count": null,
      "outputs": [
        {
          "output_type": "execute_result",
          "data": {
            "text/plain": [
              "0.6793796502077496"
            ]
          },
          "metadata": {
            "tags": []
          },
          "execution_count": 107
        }
      ]
    },
    {
      "cell_type": "markdown",
      "metadata": {
        "id": "rPYqS8RvNM02"
      },
      "source": [
        "# KNN"
      ]
    },
    {
      "cell_type": "code",
      "metadata": {
        "id": "xyY76zIXNMgh"
      },
      "source": [
        "from sklearn.neighbors import KNeighborsClassifier"
      ],
      "execution_count": null,
      "outputs": []
    },
    {
      "cell_type": "code",
      "metadata": {
        "colab": {
          "base_uri": "https://localhost:8080/"
        },
        "id": "b_AnIjSDNQDO",
        "outputId": "43352ec3-7ff3-4617-81db-d993fb81356c"
      },
      "source": [
        "knn = KNeighborsClassifier()\n",
        "\n",
        "knn.fit(train,train_y)"
      ],
      "execution_count": null,
      "outputs": [
        {
          "output_type": "execute_result",
          "data": {
            "text/plain": [
              "KNeighborsClassifier(algorithm='auto', leaf_size=30, metric='minkowski',\n",
              "                     metric_params=None, n_jobs=None, n_neighbors=5, p=2,\n",
              "                     weights='uniform')"
            ]
          },
          "metadata": {
            "tags": []
          },
          "execution_count": 112
        }
      ]
    },
    {
      "cell_type": "code",
      "metadata": {
        "colab": {
          "base_uri": "https://localhost:8080/"
        },
        "id": "EKpSJWUeNcPw",
        "outputId": "19cd764c-7dc5-4baf-afcb-204b869f3973"
      },
      "source": [
        "roc_auc_score(test_y,knn.predict_proba(test)[:,1])"
      ],
      "execution_count": null,
      "outputs": [
        {
          "output_type": "execute_result",
          "data": {
            "text/plain": [
              "0.5815885592810899"
            ]
          },
          "metadata": {
            "tags": []
          },
          "execution_count": 113
        }
      ]
    },
    {
      "cell_type": "markdown",
      "metadata": {
        "id": "2CQiaOJi5_Bo"
      },
      "source": [
        "# GridSearch\n",
        "## GBC"
      ]
    },
    {
      "cell_type": "code",
      "metadata": {
        "id": "vhAql_dW3lIR"
      },
      "source": [
        "from sklearn.model_selection import GridSearchCV"
      ],
      "execution_count": null,
      "outputs": []
    },
    {
      "cell_type": "code",
      "metadata": {
        "colab": {
          "base_uri": "https://localhost:8080/"
        },
        "id": "K9Q3EpbNMlfD",
        "outputId": "fb8e4137-0e97-4ac6-dc2b-28d2b4363d1d"
      },
      "source": [
        "GBC = GradientBoostingClassifier()\n",
        "gb_param_grid = {'loss' : [\"deviance\"],\n",
        "              'n_estimators' : [100,200,300],\n",
        "              'learning_rate': [0.1, 0.05, 0.01],\n",
        "              'max_depth': [3, 8],\n",
        "              'min_samples_leaf': [1,10,100],\n",
        "              'max_features': [None,0.3,0.1] \n",
        "              }\n",
        "\n",
        "gsGBC = GridSearchCV(GBC,param_grid = gb_param_grid, cv=10, scoring=\"roc_auc\", n_jobs= 4, verbose = 1)\n",
        "gsGBC.fit(train,train_y)\n",
        "GBC_best = gsGBC.best_estimator_\n",
        "\n",
        "gsGBC.best_score_"
      ],
      "execution_count": null,
      "outputs": [
        {
          "output_type": "stream",
          "text": [
            "Fitting 10 folds for each of 162 candidates, totalling 1620 fits\n"
          ],
          "name": "stdout"
        },
        {
          "output_type": "stream",
          "text": [
            "[Parallel(n_jobs=4)]: Using backend LokyBackend with 4 concurrent workers.\n",
            "[Parallel(n_jobs=4)]: Done  42 tasks      | elapsed:   36.5s\n",
            "[Parallel(n_jobs=4)]: Done 192 tasks      | elapsed:  2.0min\n",
            "[Parallel(n_jobs=4)]: Done 442 tasks      | elapsed:  6.7min\n",
            "[Parallel(n_jobs=4)]: Done 792 tasks      | elapsed:  9.9min\n",
            "[Parallel(n_jobs=4)]: Done 1242 tasks      | elapsed: 17.1min\n",
            "[Parallel(n_jobs=4)]: Done 1620 out of 1620 | elapsed: 23.1min finished\n"
          ],
          "name": "stderr"
        },
        {
          "output_type": "execute_result",
          "data": {
            "text/plain": [
              "0.6830665952498466"
            ]
          },
          "metadata": {
            "tags": []
          },
          "execution_count": 48
        }
      ]
    },
    {
      "cell_type": "code",
      "metadata": {
        "colab": {
          "base_uri": "https://localhost:8080/"
        },
        "id": "_Fl9Ww2HRrhQ",
        "outputId": "475c7789-bc3d-4c36-9e04-1cc964fdea76"
      },
      "source": [
        "gsGBC.best_params_"
      ],
      "execution_count": null,
      "outputs": [
        {
          "output_type": "execute_result",
          "data": {
            "text/plain": [
              "{'learning_rate': 0.1,\n",
              " 'loss': 'deviance',\n",
              " 'max_depth': 3,\n",
              " 'max_features': 0.1,\n",
              " 'min_samples_leaf': 1,\n",
              " 'n_estimators': 100}"
            ]
          },
          "metadata": {
            "tags": []
          },
          "execution_count": 49
        }
      ]
    },
    {
      "cell_type": "code",
      "metadata": {
        "colab": {
          "base_uri": "https://localhost:8080/"
        },
        "id": "GzQ-aTUhYIo6",
        "outputId": "d9e8a3c7-a786-4455-905f-d7202d1eb0b7"
      },
      "source": [
        "GBC_best.predict_proba(test)"
      ],
      "execution_count": null,
      "outputs": [
        {
          "output_type": "execute_result",
          "data": {
            "text/plain": [
              "array([[0.6687386 , 0.3312614 ],\n",
              "       [0.45680791, 0.54319209],\n",
              "       [0.56466505, 0.43533495],\n",
              "       ...,\n",
              "       [0.80116787, 0.19883213],\n",
              "       [0.40461083, 0.59538917],\n",
              "       [0.4793356 , 0.5206644 ]])"
            ]
          },
          "metadata": {
            "tags": []
          },
          "execution_count": 50
        }
      ]
    },
    {
      "cell_type": "code",
      "metadata": {
        "colab": {
          "base_uri": "https://localhost:8080/"
        },
        "id": "8G9aZO1rXq0P",
        "outputId": "94f3c68f-50e6-49a5-9548-ae6fb5e6e8ce"
      },
      "source": [
        "roc_auc_score(test_y,GBC_best.predict_proba(test)[:,1])"
      ],
      "execution_count": null,
      "outputs": [
        {
          "output_type": "execute_result",
          "data": {
            "text/plain": [
              "0.6893245724224564"
            ]
          },
          "metadata": {
            "tags": []
          },
          "execution_count": 51
        }
      ]
    },
    {
      "cell_type": "markdown",
      "metadata": {
        "id": "58tm-zjUZ8pt"
      },
      "source": [
        "## Logistic"
      ]
    },
    {
      "cell_type": "code",
      "metadata": {
        "colab": {
          "base_uri": "https://localhost:8080/"
        },
        "id": "296AyZ2JZNkM",
        "outputId": "e66f4451-1bd6-48a9-cc4f-2d97e2bdd99b"
      },
      "source": [
        "LR = LogisticRegression()\n",
        "lr_param_grid = {'C': [0.01,0.1,0.5,1.0],\n",
        "                 'solver':['newton-cg','lbfgs','sag','saga']}\n",
        "\n",
        "gsLR = GridSearchCV(LR,param_grid = lr_param_grid, cv=10, scoring=\"roc_auc\", n_jobs= 4, verbose = 1)\n",
        "gsLR.fit(train,train_y)\n",
        "LR_best = gsLR.best_estimator_\n",
        "\n",
        "gsLR.best_score_"
      ],
      "execution_count": null,
      "outputs": [
        {
          "output_type": "stream",
          "text": [
            "Fitting 10 folds for each of 16 candidates, totalling 160 fits\n"
          ],
          "name": "stdout"
        },
        {
          "output_type": "stream",
          "text": [
            "[Parallel(n_jobs=4)]: Using backend LokyBackend with 4 concurrent workers.\n",
            "[Parallel(n_jobs=4)]: Done 116 tasks      | elapsed:    8.5s\n",
            "[Parallel(n_jobs=4)]: Done 160 out of 160 | elapsed:   13.2s finished\n",
            "/usr/local/lib/python3.7/dist-packages/sklearn/linear_model/_sag.py:330: ConvergenceWarning: The max_iter was reached which means the coef_ did not converge\n",
            "  \"the coef_ did not converge\", ConvergenceWarning)\n"
          ],
          "name": "stderr"
        },
        {
          "output_type": "execute_result",
          "data": {
            "text/plain": [
              "0.6601077702247947"
            ]
          },
          "metadata": {
            "tags": []
          },
          "execution_count": 54
        }
      ]
    },
    {
      "cell_type": "code",
      "metadata": {
        "colab": {
          "base_uri": "https://localhost:8080/"
        },
        "id": "NNh1Z0VhcyF6",
        "outputId": "1fbf8da9-c346-4cfa-d118-7a6169a7a25e"
      },
      "source": [
        "gsLR.best_params_"
      ],
      "execution_count": null,
      "outputs": [
        {
          "output_type": "execute_result",
          "data": {
            "text/plain": [
              "{'C': 0.1, 'solver': 'saga'}"
            ]
          },
          "metadata": {
            "tags": []
          },
          "execution_count": 55
        }
      ]
    },
    {
      "cell_type": "code",
      "metadata": {
        "colab": {
          "base_uri": "https://localhost:8080/"
        },
        "id": "ezzwKGzFdARC",
        "outputId": "52a869e2-6e77-4a8e-9de4-9722f23e17b7"
      },
      "source": [
        "LR_best.predict_proba(test)"
      ],
      "execution_count": null,
      "outputs": [
        {
          "output_type": "execute_result",
          "data": {
            "text/plain": [
              "array([[0.54177058, 0.45822942],\n",
              "       [0.56024266, 0.43975734],\n",
              "       [0.48786286, 0.51213714],\n",
              "       ...,\n",
              "       [0.7077955 , 0.2922045 ],\n",
              "       [0.53884946, 0.46115054],\n",
              "       [0.53309079, 0.46690921]])"
            ]
          },
          "metadata": {
            "tags": []
          },
          "execution_count": 56
        }
      ]
    },
    {
      "cell_type": "code",
      "metadata": {
        "colab": {
          "base_uri": "https://localhost:8080/"
        },
        "id": "GKo6NidSdDOg",
        "outputId": "5608b075-38fb-4f60-8e74-e55530252f69"
      },
      "source": [
        "roc_auc_score(test_y,LR_best.predict_proba(test)[:,1])"
      ],
      "execution_count": null,
      "outputs": [
        {
          "output_type": "execute_result",
          "data": {
            "text/plain": [
              "0.6841414629432795"
            ]
          },
          "metadata": {
            "tags": []
          },
          "execution_count": 57
        }
      ]
    },
    {
      "cell_type": "markdown",
      "metadata": {
        "id": "biH-IAJ6exMF"
      },
      "source": [
        "## LinearSVC"
      ]
    },
    {
      "cell_type": "code",
      "metadata": {
        "id": "WFS6Q1foR0V4"
      },
      "source": [
        "LinearSVC()"
      ],
      "execution_count": null,
      "outputs": []
    },
    {
      "cell_type": "code",
      "metadata": {
        "id": "CvwdcCiHe1iT",
        "colab": {
          "base_uri": "https://localhost:8080/"
        },
        "outputId": "296cbbeb-4893-4ea8-b659-22734f97ba9e"
      },
      "source": [
        "L_SVC = LinearSVC()\n",
        "lsvc_param_grid = {'C': [0.01,0.1,0.5,1.0],\n",
        "                 'tol':[1e-4,1e-5]}\n",
        "\n",
        "gsLSVC = GridSearchCV(L_SVC,param_grid = lsvc_param_grid, cv=10, scoring=\"roc_auc\", n_jobs= 4, verbose = 1)\n",
        "gsLSVC.fit(train,train_y)\n",
        "LSVC_best = gsLSVC.best_estimator_\n",
        "\n",
        "gsLSVC.best_score_"
      ],
      "execution_count": null,
      "outputs": [
        {
          "output_type": "stream",
          "text": [
            "Fitting 10 folds for each of 8 candidates, totalling 80 fits\n"
          ],
          "name": "stdout"
        },
        {
          "output_type": "stream",
          "text": [
            "[Parallel(n_jobs=4)]: Using backend LokyBackend with 4 concurrent workers.\n",
            "[Parallel(n_jobs=4)]: Done  42 tasks      | elapsed:    4.4s\n",
            "[Parallel(n_jobs=4)]: Done  80 out of  80 | elapsed:    8.1s finished\n"
          ],
          "name": "stderr"
        },
        {
          "output_type": "execute_result",
          "data": {
            "text/plain": [
              "0.6580480867022629"
            ]
          },
          "metadata": {
            "tags": []
          },
          "execution_count": 43
        }
      ]
    },
    {
      "cell_type": "code",
      "metadata": {
        "colab": {
          "base_uri": "https://localhost:8080/"
        },
        "id": "uD_8vM2wSqjY",
        "outputId": "fda2504c-4a6f-4fc6-cbb5-7c8593daca49"
      },
      "source": [
        "gsLSVC.best_params_"
      ],
      "execution_count": null,
      "outputs": [
        {
          "output_type": "execute_result",
          "data": {
            "text/plain": [
              "{'C': 0.01, 'tol': 0.0001}"
            ]
          },
          "metadata": {
            "tags": []
          },
          "execution_count": 44
        }
      ]
    },
    {
      "cell_type": "code",
      "metadata": {
        "colab": {
          "base_uri": "https://localhost:8080/"
        },
        "id": "abqnwuwjSw54",
        "outputId": "0e6f3f15-4530-4f1d-d891-e601045df76c"
      },
      "source": [
        "roc_auc_score(test_y,LSVC_best.decision_function(test))"
      ],
      "execution_count": null,
      "outputs": [
        {
          "output_type": "execute_result",
          "data": {
            "text/plain": [
              "0.6846091409798047"
            ]
          },
          "metadata": {
            "tags": []
          },
          "execution_count": 45
        }
      ]
    },
    {
      "cell_type": "markdown",
      "metadata": {
        "id": "iAYHcpAuZVPv"
      },
      "source": [
        "# Voting"
      ]
    },
    {
      "cell_type": "code",
      "metadata": {
        "id": "-e7eYYAUZX47"
      },
      "source": [
        "from sklearn.ensemble import VotingClassifier"
      ],
      "execution_count": null,
      "outputs": []
    },
    {
      "cell_type": "code",
      "metadata": {
        "id": "r3tXySY8ZroD"
      },
      "source": [
        "voting = VotingClassifier(estimators=[('gbc', GBC_best),('lr',LR_best)], voting='soft', n_jobs=4)\n",
        "voting_c = voting.fit(X_pre,y)"
      ],
      "execution_count": null,
      "outputs": []
    },
    {
      "cell_type": "code",
      "metadata": {
        "colab": {
          "base_uri": "https://localhost:8080/",
          "height": 141
        },
        "id": "Ga1_QBn6awqS",
        "outputId": "1d7306fe-663c-4fdb-989f-1d4005f54caf"
      },
      "source": [
        "test_gender = pd.Series(voting_c.predict_proba(TEST_pre)[:,1], name=\"gender\")\n",
        "results= pd.concat([X_test.cust_id,test_gender],axis=1)\n",
        "results.head(3)"
      ],
      "execution_count": null,
      "outputs": [
        {
          "output_type": "execute_result",
          "data": {
            "text/html": [
              "<div>\n",
              "<style scoped>\n",
              "    .dataframe tbody tr th:only-of-type {\n",
              "        vertical-align: middle;\n",
              "    }\n",
              "\n",
              "    .dataframe tbody tr th {\n",
              "        vertical-align: top;\n",
              "    }\n",
              "\n",
              "    .dataframe thead th {\n",
              "        text-align: right;\n",
              "    }\n",
              "</style>\n",
              "<table border=\"1\" class=\"dataframe\">\n",
              "  <thead>\n",
              "    <tr style=\"text-align: right;\">\n",
              "      <th></th>\n",
              "      <th>cust_id</th>\n",
              "      <th>gender</th>\n",
              "    </tr>\n",
              "  </thead>\n",
              "  <tbody>\n",
              "    <tr>\n",
              "      <th>0</th>\n",
              "      <td>3500.0</td>\n",
              "      <td>0.279995</td>\n",
              "    </tr>\n",
              "    <tr>\n",
              "      <th>1</th>\n",
              "      <td>3501.0</td>\n",
              "      <td>0.467128</td>\n",
              "    </tr>\n",
              "    <tr>\n",
              "      <th>2</th>\n",
              "      <td>3502.0</td>\n",
              "      <td>0.701869</td>\n",
              "    </tr>\n",
              "  </tbody>\n",
              "</table>\n",
              "</div>"
            ],
            "text/plain": [
              "   cust_id    gender\n",
              "0   3500.0  0.279995\n",
              "1   3501.0  0.467128\n",
              "2   3502.0  0.701869"
            ]
          },
          "metadata": {
            "tags": []
          },
          "execution_count": 69
        }
      ]
    },
    {
      "cell_type": "code",
      "metadata": {
        "id": "S2Lni5Z8cWei"
      },
      "source": [
        "results.to_csv(\"ensemble_voting.csv\",index=False)"
      ],
      "execution_count": null,
      "outputs": []
    }
  ]
}